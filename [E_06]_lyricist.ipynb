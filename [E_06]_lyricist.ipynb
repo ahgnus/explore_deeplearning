{
 "cells": [
  {
   "cell_type": "code",
   "execution_count": 1,
   "id": "989bb50e",
   "metadata": {},
   "outputs": [
    {
     "name": "stdout",
     "output_type": "stream",
     "text": [
      "2.6.0\n"
     ]
    }
   ],
   "source": [
    "import glob  #glob 모듈의 glob 함수는 사용자가 제시한 조건에 맞는 파일명을 리스트 형식으로 반환한다\n",
    "import tensorflow\n",
    "\n",
    "print(tensorflow.__version__)"
   ]
  },
  {
   "cell_type": "code",
   "execution_count": 2,
   "id": "d2293d23",
   "metadata": {},
   "outputs": [
    {
     "name": "stdout",
     "output_type": "stream",
     "text": [
      "데이터 크기: 187088\n",
      "Examples:\n",
      " [\"Now I've heard there was a secret chord\", 'That David played, and it pleased the Lord', \"But you don't really care for music, do you?\"]\n"
     ]
    }
   ],
   "source": [
    "import glob\n",
    "import os\n",
    "\n",
    "txt_file_path = os.getenv('HOME')+'/aiffel/lyricist/data/lyrics/*' #os.getenv(x)함수는 환경 변수x의 값을 포함하는 문자열 변수를 반환합니다. txt_file_path 에 \"/root/aiffel/lyricist/data/lyrics/*\" 저장\n",
    "\n",
    "txt_list = glob.glob(txt_file_path) #txt_file_path 경로에 있는 모든 파일명을 리스트 형식으로 txt_list 에 할당\n",
    "\n",
    "raw_corpus = [] \n",
    "\n",
    "# 여러개의 txt 파일을 모두 읽어서 raw_corpus 에 담습니다.\n",
    "for txt_file in txt_list:\n",
    "    with open(txt_file, \"r\") as f:\n",
    "        raw = f.read().splitlines() #read() : 파일 전체의 내용을 하나의 문자열로 읽어온다. , splitlines()  : 여러라인으로 구분되어 있는 문자열을 한라인씩 분리하여 리스트로 반환\n",
    "        raw_corpus.extend(raw) # extend() : 리스트함수로 추가적인 내용을 연장 한다.\n",
    "\n",
    "print(\"데이터 크기:\", len(raw_corpus))\n",
    "print(\"Examples:\\n\", raw_corpus[:3])"
   ]
  },
  {
   "cell_type": "code",
   "execution_count": 5,
   "id": "9bc40468",
   "metadata": {},
   "outputs": [],
   "source": [
    "#preprocess_sentence 함수 정의\n",
    "\n",
    "#앞으로 사용할 모듈 임포트\n",
    "# os: Operating System의 줄임말로, 운영체제에서 제공되는 여러 기능을 파이썬에서 사용할 수 있도록 함 (Ex. 디렉토리 경로 이동, 시스템 환경 변수 가져오기 등)\n",
    "# re: Regular Expression의 줄임말로, 파이썬 정규표현식을 사용하기 위한 모듈\n",
    "# numpy(NumPy): 행렬이나 대규모 다차원 배열을 쉽게 처리할 수 있도록 지원하는 라이브러리. 데이터 구조 외에도 수치 계산을 위해 효율적으로 구현된 기능을 제공\n",
    "# tensorflow(TensorFlow): 데이터 흐름 프로그래밍을 위한 라이브러리. 데이터 그래프를 수치적으로 연산하기 위해 구글에서 만든 오픈 소스 라이브러리.\n",
    "import os, re \n",
    "import numpy as np\n",
    "import tensorflow as tf\n",
    "\n",
    "# 입력된 문장을\n",
    "#     1. 소문자로 바꾸고, 양쪽 공백을 지웁니다\n",
    "#     2. 특수문자 양쪽에 공백을 넣고\n",
    "#     3. 여러개의 공백은 하나의 공백으로 바꿉니다\n",
    "#     4. a-zA-Z?.!,¿가 아닌 모든 문자를 하나의 공백으로 바꿉니다\n",
    "#     5. 다시 양쪽 공백을 지웁니다\n",
    "#     6. 문장 시작에는 <start>, 끝에는 <end>를 추가합니다\n",
    "# 이 순서로 처리해주면 문제가 되는 상황을 방지할 수 있겠네요!\n",
    "def preprocess_sentence(sentence):\n",
    "    sentence = sentence.lower().strip() # 1\n",
    "    sentence = re.sub(r\"([?.!,¿])\", r\" \\1 \", sentence) # 2\n",
    "    sentence = re.sub(r'[\" \"]+', \" \", sentence) # 3\n",
    "    sentence = re.sub(r\"[^a-zA-Z?.!,¿]+\", \" \", sentence) # 4   #[^a] a를 제외한 모든 문자\n",
    "    sentence = sentence.strip() # 5\n",
    "    sentence = '<start> ' + sentence + ' <end>' # 6\n",
    "    return sentence"
   ]
  },
  {
   "cell_type": "code",
   "execution_count": 6,
   "id": "c1c33673",
   "metadata": {},
   "outputs": [
    {
     "data": {
      "text/plain": [
       "['<start> hallelujah <end>',\n",
       " '<start> hallelujah <end>',\n",
       " '<start> she tied you <end>',\n",
       " '<start> hallelujah <end>',\n",
       " '<start> hallelujah <end>',\n",
       " '<start> in every word <end>',\n",
       " '<start> hallelujah <end>',\n",
       " '<start> hallelujah <end>',\n",
       " '<start> and even though <end>',\n",
       " '<start> hallelujah <end>']"
      ]
     },
     "execution_count": 6,
     "metadata": {},
     "output_type": "execute_result"
    }
   ],
   "source": [
    "# 여기에 정제된 문장을 모을겁니다\n",
    "corpus = []\n",
    "\n",
    "# raw_corpus list에 저장된 문장들을 순서대로 반환하여 sentence에 저장\n",
    "for sentence in raw_corpus:\n",
    "    # 우리가 원하지 않는 문장은 건너뜁니다\n",
    "    if len(sentence) == 0: continue\n",
    "    if sentence[-1] == \":\": continue\n",
    "    if len(sentence) > 15: continue # 토큰의 개수가 15개를 넘어가는 문장 제외\n",
    "    \n",
    "    # 앞서 구현한 preprocess_sentence() 함수를 이용하여 문장을 정제를 하고 담아주세요\n",
    "    preprocessed_sentence = preprocess_sentence(sentence)\n",
    "    corpus.append(preprocessed_sentence)\n",
    "        \n",
    "# 정제된 결과를 10개만 확인해보죠\n",
    "corpus[:10]"
   ]
  },
  {
   "cell_type": "code",
   "execution_count": 7,
   "id": "29f187d6",
   "metadata": {},
   "outputs": [
    {
     "data": {
      "text/plain": [
       "[\"Now I've heard there was a secret chord\",\n",
       " 'That David played, and it pleased the Lord',\n",
       " \"But you don't really care for music, do you?\",\n",
       " 'It goes like this',\n",
       " 'The fourth, the fifth',\n",
       " 'The minor fall, the major lift',\n",
       " 'The baffled king composing Hallelujah Hallelujah',\n",
       " 'Hallelujah',\n",
       " 'Hallelujah',\n",
       " 'Hallelujah Your faith was strong but you needed proof']"
      ]
     },
     "execution_count": 7,
     "metadata": {},
     "output_type": "execute_result"
    }
   ],
   "source": [
    "raw_corpus[:10]"
   ]
  },
  {
   "cell_type": "code",
   "execution_count": 8,
   "id": "ab08ef87",
   "metadata": {},
   "outputs": [],
   "source": [
    "# 토큰의 개수가 아닌 센텐스 문자열자체 길이가 15초과인것을 continue 했다.\n",
    "# 각 센텐스에 토큰의 개수(단어등 구분된 요소의 개수)가 15 개가 넘어가는 것을 제거하도록 변경\n"
   ]
  },
  {
   "cell_type": "code",
   "execution_count": 10,
   "id": "bc51a1fd",
   "metadata": {},
   "outputs": [
    {
     "data": {
      "text/plain": [
       "['<start> now i ve heard there was a secret chord <end>',\n",
       " '<start> that david played , and it pleased the lord <end>',\n",
       " '<start> but you don t really care for music , do you ? <end>',\n",
       " '<start> it goes like this <end>',\n",
       " '<start> the fourth , the fifth <end>',\n",
       " '<start> the minor fall , the major lift <end>',\n",
       " '<start> the baffled king composing hallelujah hallelujah <end>',\n",
       " '<start> hallelujah <end>',\n",
       " '<start> hallelujah <end>',\n",
       " '<start> hallelujah your faith was strong but you needed proof <end>']"
      ]
     },
     "execution_count": 10,
     "metadata": {},
     "output_type": "execute_result"
    }
   ],
   "source": [
    "# 여기에 정제된 문장을 모을겁니다\n",
    "corpus = []\n",
    "\n",
    "# raw_corpus list에 저장된 문장들을 순서대로 반환하여 sentence에 저장\n",
    "for sentence in raw_corpus:\n",
    "    # 우리가 원하지 않는 문장은 건너뜁니다\n",
    "    if len(sentence) == 0: continue\n",
    "    if sentence[-1] == \":\": continue\n",
    "   \n",
    "    preprocessed_sentence = preprocess_sentence(sentence)\n",
    "    # 전처리된 센텐스의 토큰수가 15 이하인 것만 corpus 에 담음\n",
    "    if len(preprocessed_sentence.split()) <= 15:\n",
    "        corpus.append(preprocessed_sentence)\n",
    "        \n",
    "# 정제된 결과를 10개만 확인해보죠\n",
    "corpus[:10]\n"
   ]
  },
  {
   "cell_type": "code",
   "execution_count": 12,
   "id": "e6bbfbe2",
   "metadata": {
    "scrolled": true
   },
   "outputs": [
    {
     "name": "stdout",
     "output_type": "stream",
     "text": [
      "[[   2   50    4 ...    0    0    0]\n",
      " [   2   15 2967 ...    0    0    0]\n",
      " [   2   33    7 ...   46    3    0]\n",
      " ...\n",
      " [   2    4  118 ...    0    0    0]\n",
      " [   2  258  194 ...   12    3    0]\n",
      " [   2    7   34 ...    0    0    0]] <keras_preprocessing.text.Tokenizer object at 0x7f10a06df280>\n"
     ]
    }
   ],
   "source": [
    "# 토큰화 할 때 텐서플로우의 Tokenizer와 pad_sequences를 사용합니다\n",
    "# 더 잘 알기 위해 아래 문서들을 참고하면 좋습니다\n",
    "# https://www.tensorflow.org/api_docs/python/tf/keras/preprocessing/text/Tokenizer\n",
    "# https://www.tensorflow.org/api_docs/python/tf/keras/preprocessing/sequence/pad_sequences\n",
    "def tokenize(corpus):\n",
    "    # 12000단어를 기억할 수 있는 tokenizer를 만들겁니다\n",
    "    # 우리는 이미 문장을 정제했으니 filters가 필요없어요\n",
    "    # 12000단어에 포함되지 못한 단어는 '<unk>'로 바꿀거에요\n",
    "    tokenizer = tf.keras.preprocessing.text.Tokenizer(\n",
    "        num_words=12000, \n",
    "        filters=' ',\n",
    "        oov_token=\"<unk>\"\n",
    "    )\n",
    "    # corpus를 이용해 tokenizer 내부의 단어장을 완성합니다\n",
    "    # tokenizer.fit_on_texts(texts): 문자 데이터를 입력받아 리스트의 형태로 변환하는 메서드\n",
    "    tokenizer.fit_on_texts(corpus)\n",
    "    # 준비한 tokenizer를 이용해 corpus를 Tensor로 변환합니다\n",
    "    # tokenizer.texts_to_sequences(texts): 텍스트 안의 단어들을 숫자의 시퀀스 형태로 변환하는 메서드\n",
    "    tensor = tokenizer.texts_to_sequences(corpus)   \n",
    "    # 입력 데이터의 시퀀스 길이를 일정하게 맞춰줍니다\n",
    "    # 만약 시퀀스가 짧다면 문장 뒤에 패딩을 붙여 길이를 맞춰줍니다.\n",
    "    # 문장 앞에 패딩을 붙여 길이를 맞추고 싶다면 padding='pre'를 사용합니다\n",
    "    tensor = tf.keras.preprocessing.sequence.pad_sequences(tensor, padding='post')  \n",
    "    \n",
    "    print(tensor,tokenizer)\n",
    "    return tensor, tokenizer\n",
    "\n",
    "tensor, tokenizer = tokenize(corpus)\n",
    "\n",
    "# tensor에서 마지막 토큰을 잘라내서 소스 문장을 생성합니다\n",
    "# 마지막 토큰은 <end>가 아니라 <pad>일 가능성이 높습니다.\n",
    "src_input = tensor[:, :-1]  \n",
    "# tensor에서 <start>를 잘라내서 타겟 문장을 생성합니다.\n",
    "tgt_input = tensor[:, 1:]    \n",
    "\n",
    "\n",
    "from sklearn.model_selection import train_test_split\n",
    "\n",
    "enc_train, enc_val, dec_train, dec_val = train_test_split(src_input, tgt_input, test_size=0.2, random_state=17 )\n"
   ]
  },
  {
   "cell_type": "code",
   "execution_count": 13,
   "id": "4ea59895",
   "metadata": {},
   "outputs": [
    {
     "name": "stdout",
     "output_type": "stream",
     "text": [
      "1 : <unk>\n",
      "2 : <start>\n",
      "3 : <end>\n",
      "4 : i\n",
      "5 : ,\n",
      "6 : the\n",
      "7 : you\n",
      "8 : and\n",
      "9 : a\n",
      "10 : to\n"
     ]
    }
   ],
   "source": [
    "# token 단어 사전 확인 10개만\n",
    "# tokenizer.index_word: 현재 계산된 단어의 인덱스와 인덱스에 해당하는 단어를 dictionary 형대로 반환 (Ex. {index: '~~', index: '~~', ...})\n",
    "for idx in tokenizer.index_word:\n",
    "    print(idx, \":\", tokenizer.index_word[idx])\n",
    "\n",
    "    if idx >= 10: break"
   ]
  },
  {
   "cell_type": "code",
   "execution_count": 19,
   "id": "9059ca0c",
   "metadata": {},
   "outputs": [],
   "source": [
    "# 모델 학습시키기\n",
    "\n",
    "BUFFER_SIZE = len(src_input)\n",
    "BATCH_SIZE = 128\n",
    "steps_per_epoch = len(src_input) // BATCH_SIZE\n",
    "\n",
    " # tokenizer가 구축한 단어사전 내 12000개와, 여기 포함되지 않은 0:<pad>를 포함하여 12001개\n",
    " # tokenizer.num_words: 주어진 데이터의 문장들에서 빈도수가 높은 n개의 단어만 선택\n",
    " # tokenize() 함수에서 num_words를 12000개로 선언했기 때문에, tokenizer.num_words의 값은 12000\n",
    "VOCAB_SIZE = tokenizer.num_words + 1   \n",
    "\n",
    "# 준비한 데이터 소스로부터 데이터셋을 만듭니다\n",
    "# 데이터셋에 대해서는 아래 문서를 참고하세요\n",
    "# 자세히 알아둘수록 도움이 많이 되는 중요한 문서입니다\n",
    "# https://www.tensorflow.org/api_docs/python/tf/data/Dataset\n",
    "dataset = tf.data.Dataset.from_tensor_slices((src_input, tgt_input))\n",
    "dataset = dataset.shuffle(BUFFER_SIZE)\n",
    "dataset = dataset.batch(BATCH_SIZE, drop_remainder=True)\n",
    "#\n",
    "dataset\n",
    "\n",
    "## 인공지능 학습 시키기\n",
    "\n",
    "class TextGenerator(tf.keras.Model):\n",
    "    def __init__(self, vocab_size, embedding_size, hidden_size):\n",
    "        super().__init__()\n",
    "        # Embedding 레이어, 2개의 LSTM 레이어, 1개의 Dense 레이어로 구성되어 있다.\n",
    "        # Embedding 레이어는 단어 사전의 인덱스 값을 해당 인덱스 번째의 워드 벡터로 바꿔준다.\n",
    "        # 이 워드 벡터는 의미 벡터 공간에서 단어의 추상적 표현으로 사용된다. \n",
    "        self.embedding = tf.keras.layers.Embedding(vocab_size, embedding_size) \n",
    "        self.rnn_1 = tf.keras.layers.LSTM(hidden_size, return_sequences=True)  \n",
    "        self.rnn_2 = tf.keras.layers.LSTM(hidden_size, return_sequences=True)\n",
    "        self.linear = tf.keras.layers.Dense(vocab_size)\n",
    "        \n",
    "    def call(self, x):\n",
    "        out = self.embedding(x)\n",
    "        out = self.rnn_1(out)\n",
    "        out = self.rnn_2(out)\n",
    "        out = self.linear(out)\n",
    "        \n",
    "        return out\n",
    "# embedding size 값이 커질수록 단어의 추상적인 특징들을 더 잡아낼 수 있지만\n",
    "# 그만큼 충분한 데이터가 없으면 안좋은 결과 값을 가져옵니다!   \n",
    "embedding_size = 64 # 워드 벡터의 차원수를 말하며 단어가 추상적으로 표현되는 크기입니다.\n",
    "hidden_size = 1024 # 모델에 얼마나 많은 일꾼을 둘 것인가? 정도로 이해하면 좋다.\n",
    "model = TextGenerator(tokenizer.num_words + 1, embedding_size , hidden_size) # tokenizer.num_words에 +1인 이유는 문장에 없는 pad가 사용되었기 때문이다."
   ]
  },
  {
   "cell_type": "code",
   "execution_count": 20,
   "id": "06a976f8",
   "metadata": {},
   "outputs": [
    {
     "data": {
      "text/plain": [
       "<tf.Tensor: shape=(128, 14, 12001), dtype=float32, numpy=\n",
       "array([[[ 8.86657290e-05,  3.54989133e-05,  3.08497292e-05, ...,\n",
       "          8.59072679e-06, -2.48120596e-05,  7.79882175e-05],\n",
       "        [ 1.06522828e-04,  2.69688862e-05,  8.37720381e-06, ...,\n",
       "          1.95884670e-04, -1.09428554e-04,  8.61282169e-05],\n",
       "        [ 2.18315836e-04, -2.17418983e-05, -3.91805697e-05, ...,\n",
       "          2.57734879e-04, -2.71355122e-04,  5.39123757e-05],\n",
       "        ...,\n",
       "        [-6.94677350e-04,  3.58520367e-04, -7.73327949e-04, ...,\n",
       "          2.00221912e-05, -3.98672681e-04, -3.20104795e-04],\n",
       "        [-7.83167721e-04,  4.41129931e-04, -8.91265809e-04, ...,\n",
       "         -4.57968417e-05, -4.52966196e-04, -5.07891178e-04],\n",
       "        [-8.62936431e-04,  5.20330155e-04, -9.82404221e-04, ...,\n",
       "         -1.06221552e-04, -5.14326384e-04, -6.79346442e-04]],\n",
       "\n",
       "       [[ 8.86657290e-05,  3.54989133e-05,  3.08497292e-05, ...,\n",
       "          8.59072679e-06, -2.48120596e-05,  7.79882175e-05],\n",
       "        [ 2.40893161e-04,  7.30823522e-05, -3.51933268e-05, ...,\n",
       "          1.10294714e-04, -5.59848304e-05,  4.40987096e-05],\n",
       "        [ 3.45190696e-04,  1.04944134e-04, -8.68761344e-05, ...,\n",
       "          2.69922049e-04, -8.39600980e-05,  9.82939091e-05],\n",
       "        ...,\n",
       "        [-3.91118054e-04, -7.19390619e-06,  1.16330433e-04, ...,\n",
       "         -3.54021409e-04,  1.31214576e-04, -9.49614157e-04],\n",
       "        [-3.79501784e-04,  3.38481004e-05,  1.51405678e-04, ...,\n",
       "         -3.66589433e-04,  3.63337094e-05, -9.30812676e-04],\n",
       "        [-2.97780411e-04,  1.39214477e-04,  2.23467316e-04, ...,\n",
       "         -3.68960027e-04, -2.09955197e-05, -9.66614811e-04]],\n",
       "\n",
       "       [[ 8.86657290e-05,  3.54989133e-05,  3.08497292e-05, ...,\n",
       "          8.59072679e-06, -2.48120596e-05,  7.79882175e-05],\n",
       "        [ 8.39668646e-05, -1.65508955e-05, -2.67480900e-05, ...,\n",
       "         -1.15458002e-04, -7.95423111e-05,  3.50386654e-05],\n",
       "        [ 2.12656290e-04,  8.89225703e-05, -5.37228952e-05, ...,\n",
       "         -1.90522856e-04, -1.87902679e-05, -7.86562159e-05],\n",
       "        ...,\n",
       "        [-2.31179380e-04,  6.04386616e-04, -5.74960781e-04, ...,\n",
       "         -6.70757552e-04,  1.57386821e-04, -5.27329219e-04],\n",
       "        [-3.88896442e-04,  6.53509283e-04, -7.09767395e-04, ...,\n",
       "         -6.21789892e-04,  4.26314145e-05, -6.53321971e-04],\n",
       "        [-5.30041812e-04,  6.99258817e-04, -8.23460345e-04, ...,\n",
       "         -5.78118954e-04, -7.65710429e-05, -7.77156500e-04]],\n",
       "\n",
       "       ...,\n",
       "\n",
       "       [[ 8.86657290e-05,  3.54989133e-05,  3.08497292e-05, ...,\n",
       "          8.59072679e-06, -2.48120596e-05,  7.79882175e-05],\n",
       "        [ 2.15136621e-04, -2.28515751e-06, -2.00234281e-05, ...,\n",
       "          7.85247612e-05,  8.08947734e-05, -7.81584968e-05],\n",
       "        [ 2.08697005e-04,  2.44846851e-05, -1.77764214e-05, ...,\n",
       "          1.91976680e-04, -2.50360263e-05, -1.65967838e-04],\n",
       "        ...,\n",
       "        [-2.20054746e-04,  1.77898779e-04,  1.05640407e-04, ...,\n",
       "         -3.83324485e-04, -4.77338617e-04,  3.61920946e-04],\n",
       "        [-3.16987978e-04,  2.46802345e-04, -1.06914842e-04, ...,\n",
       "         -3.73862422e-04, -4.47705563e-04,  2.26511023e-04],\n",
       "        [-4.14528506e-04,  3.12196265e-04, -3.11174255e-04, ...,\n",
       "         -3.59448313e-04, -4.41008073e-04,  4.51359228e-05]],\n",
       "\n",
       "       [[ 8.86657290e-05,  3.54989133e-05,  3.08497292e-05, ...,\n",
       "          8.59072679e-06, -2.48120596e-05,  7.79882175e-05],\n",
       "        [ 1.63792793e-04,  8.28966295e-05, -9.65864820e-06, ...,\n",
       "          1.45983518e-04, -4.03286685e-05,  1.89381681e-04],\n",
       "        [ 1.29907457e-05,  7.55584988e-05, -2.60183733e-05, ...,\n",
       "          1.09983856e-04,  6.59177895e-05,  3.46714689e-04],\n",
       "        ...,\n",
       "        [-1.75005451e-04, -6.58709469e-05, -4.80737595e-04, ...,\n",
       "         -6.58538600e-04, -1.37616462e-05,  9.78416298e-04],\n",
       "        [-2.10002108e-04,  4.37500494e-05, -6.90913992e-04, ...,\n",
       "         -6.18215417e-04, -3.03982324e-05,  8.37972329e-04],\n",
       "        [-2.77629384e-04,  1.71947599e-04, -8.90051539e-04, ...,\n",
       "         -5.61335648e-04, -5.97997569e-05,  6.34118041e-04]],\n",
       "\n",
       "       [[ 8.86657290e-05,  3.54989133e-05,  3.08497292e-05, ...,\n",
       "          8.59072679e-06, -2.48120596e-05,  7.79882175e-05],\n",
       "        [-3.92536349e-05,  2.65318104e-05,  3.24628381e-05, ...,\n",
       "         -8.78449355e-05,  7.14825510e-05,  2.23206182e-04],\n",
       "        [-1.35007329e-04,  9.15739583e-05,  9.38770245e-05, ...,\n",
       "         -1.38666655e-04,  6.06536378e-05,  2.93514982e-04],\n",
       "        ...,\n",
       "        [-4.26310289e-04,  2.48303986e-04,  6.24322856e-04, ...,\n",
       "         -1.33067183e-03,  3.02424713e-04,  1.20520563e-04],\n",
       "        [-4.05234867e-04,  3.41407140e-04,  4.63034725e-04, ...,\n",
       "         -1.28202734e-03,  2.35310712e-04,  6.04923953e-05],\n",
       "        [-4.16759605e-04,  4.31130728e-04,  2.23512092e-04, ...,\n",
       "         -1.16264785e-03,  1.37891635e-04, -4.70745399e-05]]],\n",
       "      dtype=float32)>"
      ]
     },
     "execution_count": 20,
     "metadata": {},
     "output_type": "execute_result"
    }
   ],
   "source": [
    "# 데이터셋에서 데이터 한 배치만 불러오는 방법입니다.\n",
    "\n",
    "for src_sample, tgt_sample in dataset.take(1): break\n",
    "\n",
    "# 한 배치만 불러온 데이터를 모델에 넣어봅니다\n",
    "model(src_sample)"
   ]
  },
  {
   "cell_type": "code",
   "execution_count": 21,
   "id": "27b7cda2",
   "metadata": {},
   "outputs": [
    {
     "name": "stdout",
     "output_type": "stream",
     "text": [
      "Model: \"text_generator_1\"\n",
      "_________________________________________________________________\n",
      "Layer (type)                 Output Shape              Param #   \n",
      "=================================================================\n",
      "embedding_1 (Embedding)      multiple                  768064    \n",
      "_________________________________________________________________\n",
      "lstm_2 (LSTM)                multiple                  4460544   \n",
      "_________________________________________________________________\n",
      "lstm_3 (LSTM)                multiple                  8392704   \n",
      "_________________________________________________________________\n",
      "dense_1 (Dense)              multiple                  12301025  \n",
      "=================================================================\n",
      "Total params: 25,922,337\n",
      "Trainable params: 25,922,337\n",
      "Non-trainable params: 0\n",
      "_________________________________________________________________\n"
     ]
    }
   ],
   "source": [
    "# 모델의 구조를 확인합니다.\n",
    "model.summary()"
   ]
  },
  {
   "cell_type": "code",
   "execution_count": 22,
   "id": "d3e05e39",
   "metadata": {},
   "outputs": [
    {
     "name": "stdout",
     "output_type": "stream",
     "text": [
      "Epoch 1/10\n",
      "1218/1218 [==============================] - 119s 96ms/step - loss: 3.3229 - val_loss: 3.0253\n",
      "Epoch 2/10\n",
      "1218/1218 [==============================] - 117s 96ms/step - loss: 2.9538 - val_loss: 2.8356\n",
      "Epoch 3/10\n",
      "1218/1218 [==============================] - 117s 96ms/step - loss: 2.7893 - val_loss: 2.6841\n",
      "Epoch 4/10\n",
      "1218/1218 [==============================] - 117s 96ms/step - loss: 2.6548 - val_loss: 2.5564\n",
      "Epoch 5/10\n",
      "1218/1218 [==============================] - 117s 96ms/step - loss: 2.5385 - val_loss: 2.4442\n",
      "Epoch 6/10\n",
      "1218/1218 [==============================] - 117s 96ms/step - loss: 2.4351 - val_loss: 2.3442\n",
      "Epoch 7/10\n",
      "1218/1218 [==============================] - 118s 96ms/step - loss: 2.3401 - val_loss: 2.2531\n",
      "Epoch 8/10\n",
      "1218/1218 [==============================] - 117s 96ms/step - loss: 2.2528 - val_loss: 2.1680\n",
      "Epoch 9/10\n",
      "1218/1218 [==============================] - 117s 96ms/step - loss: 2.1709 - val_loss: 2.0865\n",
      "Epoch 10/10\n",
      "1218/1218 [==============================] - 117s 96ms/step - loss: 2.0942 - val_loss: 2.0111\n"
     ]
    },
    {
     "data": {
      "text/plain": [
       "<keras.callbacks.History at 0x7f0f73fb44c0>"
      ]
     },
     "execution_count": 22,
     "metadata": {},
     "output_type": "execute_result"
    }
   ],
   "source": [
    "# optimizer와 loss등 아래 문서를 참고하세요\n",
    "# https://www.tensorflow.org/api_docs/python/tf/keras/optimizers\n",
    "# https://www.tensorflow.org/api_docs/python/tf/keras/losses\n",
    "# 양이 상당히 많은 편\n",
    "\n",
    "# Adam 알고리즘을 구현하는 optimzier이며 어떤 optimzier를 써야할지 모른다면 Adam을 쓰는 것도 방법이다.\n",
    "# 우리가 학습을 할 때 최대한 틀리지 않는 방향으로 학습을 해야한다.\n",
    "# 여기서 얼마나 틀리는지(loss)를 알게하는 함수가 손실함수 이다.\n",
    "# 이 손실함수의 최소값을 찾는 것을 학습의 목표로 하며 여기서 최소값을 찾아가는 과정을 optimization 이라하고\n",
    "# 이를 수행하는 알고리즘을 optimizer(최적화)라고 한다.\n",
    "\n",
    "#Loss\n",
    "\n",
    "optimizer = tf.keras.optimizers.Adam() # Adam은 현재 가장 많이 사용하는 옵티마이저이다. 자세한 내용은 차차 배운다.\n",
    "loss = tf.keras.losses.SparseCategoricalCrossentropy( # 훈련 데이터의 라벨이 정수의 형태로 제공될 때 사용하는 손실함수이다.\n",
    "    from_logits=True, # 기본값은 False이다. 모델에 의해 생성된 출력 값이 정규화되지 않았음을 손실 함수에 알려준다. 즉 softmax함수가 적용되지 않았다는걸 의미한다. \n",
    "    reduction='none'  # 기본값은 SUM이다. 각자 나오는 값의 반환 원할 때 None을 사용한다.\n",
    ")\n",
    "# 모델을 학습시키키 위한 학습과정을 설정하는 단계이다.\n",
    "model.compile(loss=loss, optimizer=optimizer) # 손실함수와 훈련과정을 설정했다.\n",
    "model.fit(dataset, epochs=10, validation_data=((enc_val, dec_val))) # 만들어둔 데이터셋으로 모델을 학습한다. 10번 학습을 반복하겠다는 의미다.\n",
    "# val_loss:2.0111"
   ]
  },
  {
   "cell_type": "code",
   "execution_count": 23,
   "id": "4de49c83",
   "metadata": {},
   "outputs": [],
   "source": [
    "#문장생성 함수 정의\n",
    "#모델에게 시작 문장을 전달하면 모델이 시작 문장을 바탕으로 작문을 진행\n",
    "def generate_text(model, tokenizer, init_sentence=\"<start>\", max_len=20): #시작 문자열을 init_sentence 로 받으며 디폴트값은 <start> 를 받는다\n",
    "    # 테스트를 위해서 입력받은 init_sentence도 텐서로 변환합니다\n",
    "    test_input = tokenizer.texts_to_sequences([init_sentence]) #텍스트 안의 단어들을 숫자의 시퀀스의 형태로 변환\n",
    "    test_tensor = tf.convert_to_tensor(test_input, dtype=tf.int64)\n",
    "    end_token = tokenizer.word_index[\"<end>\"]\n",
    "\n",
    "    # 단어 하나씩 예측해 문장을 만듭니다\n",
    "    #    1. 입력받은 문장의 텐서를 입력합니다\n",
    "    #    2. 예측된 값 중 가장 높은 확률인 word index를 뽑아냅니다\n",
    "    #    3. 2에서 예측된 word index를 문장 뒤에 붙입니다\n",
    "    #    4. 모델이 <end>를 예측했거나, max_len에 도달했다면 문장 생성을 마칩니다 (도달 하지 못하였으면 while 루프를 돌면서 다음 단어를 예측)\n",
    "    while True: #루프를 돌면서 init_sentence에 단어를 하나씩 생성성\n",
    "        # 1\n",
    "        predict = model(test_tensor) \n",
    "        # 2\n",
    "        predict_word = tf.argmax(tf.nn.softmax(predict, axis=-1), axis=-1)[:, -1] \n",
    "        # 3 \n",
    "        test_tensor = tf.concat([test_tensor, tf.expand_dims(predict_word, axis=0)], axis=-1)\n",
    "        # 4 \n",
    "        if predict_word.numpy()[0] == end_token: break\n",
    "        if test_tensor.shape[1] >= max_len: break\n",
    "\n",
    "    generated = \"\"\n",
    "    # tokenizer를 이용해 word index를 단어로 하나씩 변환합니다 \n",
    "    for word_index in test_tensor[0].numpy():\n",
    "        generated += tokenizer.index_word[word_index] + \" \"\n",
    "\n",
    "    return generated #최종적으로 모델이 생성한 문장을 반환"
   ]
  },
  {
   "cell_type": "code",
   "execution_count": 25,
   "id": "a5d90b9f",
   "metadata": {},
   "outputs": [
    {
     "data": {
      "text/plain": [
       "'<start> i love you <end> '"
      ]
     },
     "execution_count": 25,
     "metadata": {},
     "output_type": "execute_result"
    }
   ],
   "source": [
    "lyricist = model\n",
    "generate_text(lyricist, tokenizer, init_sentence=\"<start> i love\", max_len=20)\n",
    "# generate_text 함수에 lyricist 라 정의한 모델을 이용해서 ilove 로 시작되는 문장을 생성"
   ]
  },
  {
   "cell_type": "markdown",
   "id": "b76bf6d5",
   "metadata": {},
   "source": [
    "# 회고\n",
    "- 자연어 처리 과정을 통해 문장이 sequantial 하게 연결 (문법과 단어의 상관관계등에 따라) 되어 있다는 점을 다시한번 인지할 수 있었다.\n",
    "- 위의 특성에 착안하여, 빅데이터를 통한 통계를 바탕으로 자연스러운 문장을 생성하려고 하는 발상이 참신했다.\n",
    "- embedding의 의미와 embedding 깊이조절을 통한 벡터공간에서 단어의 추상적 표현을 설정하고 학습하여 단어간 상관관계를 유추\n",
    "- 직접 모델을 설계하고 테스트와 밸리데이션을 나누어 평가하여 보면서 작동을 이해해보았다.\n",
    "\n",
    "지난시간의 CNN과 RNN 모델을 살펴본 결과\n",
    "지속적으로 의존하여 사용한다고 하였을때,\n",
    "인공지능이 위와 같은 방식으로 데이터를 통계적으로 접근한다면 \n",
    "(통계적으로 확률이 높은 결과 또는 다수결로 가져가면) 지성이 무뎌지는 결과가 발생할 수 있다.\n",
    "- 전제가 통계와 다수결 결정이 옳은 방향으로 진행되었다를 가정하였기 때문에\n",
    "1. 모집단 자체가 잘못 된 방향으로 설계가 되어있다면 애초에 바른 값이 나올 수 없다. \n",
    "그러나 집단지성과 시간에 따라 축적된 지식 데이터 (빅데이터)의 가리키는 방향의 값이 많은 시도를 통해 안정화되었고 회귀되었다고 볼 수 있으므로, 현재시점(prediction을 통해 결과값 도출을 시도하는 시점)에서는 가장 알맞은 값을 예측할 수 있다.\n",
    "2. 새로운(잘못되지않은, 모집단에서 벗어난) 결과가 나올 수 없다.\n",
    "새로운발견이나 지성 변화는 대중적으로 사용되지 않거나.\n",
    "소수의 사람이 알고 사용할 경우가 높다.\n",
    "패러다임의 변환시기나 노벨티 있는 사용 \n",
    "혁신이나 대격변이 반영 되지 않아. 기존의 지성(지능)에 갖힐수 밖에 없다.\n",
    "3. 빅데이터를 사용한 딥러닝을 통해 미쳐 인간의 사고능력으로 도출되지 못한 요소들간의 상관관계와 피쳐를 뽑아 내고 그로인해 결과를 도출할 수 있으나 한계가 있다. \n"
   ]
  },
  {
   "cell_type": "code",
   "execution_count": 26,
   "id": "5770e5ad",
   "metadata": {},
   "outputs": [
    {
     "data": {
      "text/plain": [
       "'<start> i m not living right now <end> '"
      ]
     },
     "execution_count": 26,
     "metadata": {},
     "output_type": "execute_result"
    }
   ],
   "source": [
    "# 추가 아무 문장이나 생성해보았다.\n",
    "generate_text(lyricist, tokenizer, init_sentence=\"<start> \", max_len=20)\n",
    "# generate_text 함수에 lyricist 라 정의한 모델을 이용해서 아무 문장을 생성"
   ]
  }
 ],
 "metadata": {
  "kernelspec": {
   "display_name": "Python 3 (ipykernel)",
   "language": "python",
   "name": "python3"
  },
  "language_info": {
   "codemirror_mode": {
    "name": "ipython",
    "version": 3
   },
   "file_extension": ".py",
   "mimetype": "text/x-python",
   "name": "python",
   "nbconvert_exporter": "python",
   "pygments_lexer": "ipython3",
   "version": "3.9.7"
  }
 },
 "nbformat": 4,
 "nbformat_minor": 5
}
