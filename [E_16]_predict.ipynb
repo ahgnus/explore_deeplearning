{
 "cells": [
  {
   "cell_type": "code",
   "execution_count": 1,
   "id": "0a7e8558",
   "metadata": {},
   "outputs": [
    {
     "name": "stdout",
     "output_type": "stream",
     "text": [
      "1.3.3\n",
      "2.6.0\n"
     ]
    }
   ],
   "source": [
    "import pandas\n",
    "import tensorflow\n",
    "\n",
    "print(pandas.__version__)\n",
    "print(tensorflow.__version__)"
   ]
  },
  {
   "cell_type": "code",
   "execution_count": 2,
   "id": "6ad97c94",
   "metadata": {},
   "outputs": [],
   "source": [
    "import datetime as dt\n",
    "from pathlib import Path\n",
    "import os\n",
    "\n",
    "import numpy as np\n",
    "import pandas as pd\n",
    "import warnings\n",
    "warnings.filterwarnings('ignore')"
   ]
  },
  {
   "cell_type": "code",
   "execution_count": 3,
   "id": "a4ab899d",
   "metadata": {},
   "outputs": [
    {
     "data": {
      "text/html": [
       "<div>\n",
       "<style scoped>\n",
       "    .dataframe tbody tr th:only-of-type {\n",
       "        vertical-align: middle;\n",
       "    }\n",
       "\n",
       "    .dataframe tbody tr th {\n",
       "        vertical-align: top;\n",
       "    }\n",
       "\n",
       "    .dataframe thead th {\n",
       "        text-align: right;\n",
       "    }\n",
       "</style>\n",
       "<table border=\"1\" class=\"dataframe\">\n",
       "  <thead>\n",
       "    <tr style=\"text-align: right;\">\n",
       "      <th></th>\n",
       "      <th>UserId</th>\n",
       "      <th>ItemId</th>\n",
       "      <th>Rating</th>\n",
       "      <th>Time</th>\n",
       "    </tr>\n",
       "  </thead>\n",
       "  <tbody>\n",
       "    <tr>\n",
       "      <th>31</th>\n",
       "      <td>1</td>\n",
       "      <td>3186</td>\n",
       "      <td>4</td>\n",
       "      <td>978300019</td>\n",
       "    </tr>\n",
       "    <tr>\n",
       "      <th>22</th>\n",
       "      <td>1</td>\n",
       "      <td>1270</td>\n",
       "      <td>5</td>\n",
       "      <td>978300055</td>\n",
       "    </tr>\n",
       "    <tr>\n",
       "      <th>27</th>\n",
       "      <td>1</td>\n",
       "      <td>1721</td>\n",
       "      <td>4</td>\n",
       "      <td>978300055</td>\n",
       "    </tr>\n",
       "    <tr>\n",
       "      <th>37</th>\n",
       "      <td>1</td>\n",
       "      <td>1022</td>\n",
       "      <td>5</td>\n",
       "      <td>978300055</td>\n",
       "    </tr>\n",
       "    <tr>\n",
       "      <th>24</th>\n",
       "      <td>1</td>\n",
       "      <td>2340</td>\n",
       "      <td>3</td>\n",
       "      <td>978300103</td>\n",
       "    </tr>\n",
       "    <tr>\n",
       "      <th>...</th>\n",
       "      <td>...</td>\n",
       "      <td>...</td>\n",
       "      <td>...</td>\n",
       "      <td>...</td>\n",
       "    </tr>\n",
       "    <tr>\n",
       "      <th>1000019</th>\n",
       "      <td>6040</td>\n",
       "      <td>2917</td>\n",
       "      <td>4</td>\n",
       "      <td>997454429</td>\n",
       "    </tr>\n",
       "    <tr>\n",
       "      <th>999988</th>\n",
       "      <td>6040</td>\n",
       "      <td>1921</td>\n",
       "      <td>4</td>\n",
       "      <td>997454464</td>\n",
       "    </tr>\n",
       "    <tr>\n",
       "      <th>1000172</th>\n",
       "      <td>6040</td>\n",
       "      <td>1784</td>\n",
       "      <td>3</td>\n",
       "      <td>997454464</td>\n",
       "    </tr>\n",
       "    <tr>\n",
       "      <th>1000167</th>\n",
       "      <td>6040</td>\n",
       "      <td>161</td>\n",
       "      <td>3</td>\n",
       "      <td>997454486</td>\n",
       "    </tr>\n",
       "    <tr>\n",
       "      <th>1000042</th>\n",
       "      <td>6040</td>\n",
       "      <td>1221</td>\n",
       "      <td>4</td>\n",
       "      <td>998315055</td>\n",
       "    </tr>\n",
       "  </tbody>\n",
       "</table>\n",
       "<p>1000209 rows × 4 columns</p>\n",
       "</div>"
      ],
      "text/plain": [
       "         UserId  ItemId  Rating       Time\n",
       "31            1    3186       4  978300019\n",
       "22            1    1270       5  978300055\n",
       "27            1    1721       4  978300055\n",
       "37            1    1022       5  978300055\n",
       "24            1    2340       3  978300103\n",
       "...         ...     ...     ...        ...\n",
       "1000019    6040    2917       4  997454429\n",
       "999988     6040    1921       4  997454464\n",
       "1000172    6040    1784       3  997454464\n",
       "1000167    6040     161       3  997454486\n",
       "1000042    6040    1221       4  998315055\n",
       "\n",
       "[1000209 rows x 4 columns]"
      ]
     },
     "execution_count": 3,
     "metadata": {},
     "output_type": "execute_result"
    }
   ],
   "source": [
    "data_path = Path(os.getenv('HOME')+'/aiffel/yoochoose/data/') \n",
    "train_path = data_path / 'ratings.dat'\n",
    "\n",
    "def load_data(data_path: Path, nrows=None):\n",
    "    data = pd.read_csv(data_path, sep='::', header=None, usecols=[0, 1, 2, 3], dtype={0: np.int32, 1: np.int32, 2: np.int32}, nrows=nrows)\n",
    "    data.columns = ['UserId', 'ItemId', 'Rating', 'Time']\n",
    "    return data\n",
    "\n",
    "data = load_data(train_path, None)\n",
    "data.sort_values(['UserId', 'Time'], inplace=True)  # data를 id와 시간 순서로 정렬해줍니다.\n",
    "data"
   ]
  },
  {
   "cell_type": "code",
   "execution_count": 4,
   "id": "da344383",
   "metadata": {},
   "outputs": [
    {
     "data": {
      "text/plain": [
       "(6040, 3706)"
      ]
     },
     "execution_count": 4,
     "metadata": {},
     "output_type": "execute_result"
    }
   ],
   "source": [
    "data['UserId'].nunique(), data['ItemId'].nunique()"
   ]
  },
  {
   "cell_type": "code",
   "execution_count": 8,
   "id": "be2b5b72",
   "metadata": {},
   "outputs": [
    {
     "data": {
      "text/plain": [
       "UserId\n",
       "1        53\n",
       "2       129\n",
       "3        51\n",
       "4        21\n",
       "5       198\n",
       "       ... \n",
       "6036    888\n",
       "6037    202\n",
       "6038     20\n",
       "6039    123\n",
       "6040    341\n",
       "Length: 6040, dtype: int64"
      ]
     },
     "execution_count": 8,
     "metadata": {},
     "output_type": "execute_result"
    }
   ],
   "source": [
    "User_length = data.groupby('UserId').size()\n",
    "User_length"
   ]
  },
  {
   "cell_type": "code",
   "execution_count": 9,
   "id": "bb1c4e3b",
   "metadata": {},
   "outputs": [
    {
     "data": {
      "text/plain": [
       "(96.0, 165.5975165562914)"
      ]
     },
     "execution_count": 9,
     "metadata": {},
     "output_type": "execute_result"
    }
   ],
   "source": [
    "User_length.median(), User_length.mean()"
   ]
  },
  {
   "cell_type": "code",
   "execution_count": 10,
   "id": "4bbc0074",
   "metadata": {},
   "outputs": [
    {
     "data": {
      "text/plain": [
       "(20, 2314)"
      ]
     },
     "execution_count": 10,
     "metadata": {},
     "output_type": "execute_result"
    }
   ],
   "source": [
    "User_length.min(), User_length.max()"
   ]
  },
  {
   "cell_type": "code",
   "execution_count": 11,
   "id": "4bfff696",
   "metadata": {},
   "outputs": [
    {
     "data": {
      "text/plain": [
       "1343.181000000005"
      ]
     },
     "execution_count": 11,
     "metadata": {},
     "output_type": "execute_result"
    }
   ],
   "source": [
    "User_length.quantile(0.999)"
   ]
  },
  {
   "cell_type": "code",
   "execution_count": 15,
   "id": "a2b01b87",
   "metadata": {},
   "outputs": [
    {
     "data": {
      "text/html": [
       "<div>\n",
       "<style scoped>\n",
       "    .dataframe tbody tr th:only-of-type {\n",
       "        vertical-align: middle;\n",
       "    }\n",
       "\n",
       "    .dataframe tbody tr th {\n",
       "        vertical-align: top;\n",
       "    }\n",
       "\n",
       "    .dataframe thead th {\n",
       "        text-align: right;\n",
       "    }\n",
       "</style>\n",
       "<table border=\"1\" class=\"dataframe\">\n",
       "  <thead>\n",
       "    <tr style=\"text-align: right;\">\n",
       "      <th></th>\n",
       "      <th>UserId</th>\n",
       "      <th>ItemId</th>\n",
       "      <th>Rating</th>\n",
       "      <th>Time</th>\n",
       "    </tr>\n",
       "  </thead>\n",
       "  <tbody>\n",
       "    <tr>\n",
       "      <th>696969</th>\n",
       "      <td>4169</td>\n",
       "      <td>1268</td>\n",
       "      <td>5</td>\n",
       "      <td>965333392</td>\n",
       "    </tr>\n",
       "    <tr>\n",
       "      <th>697168</th>\n",
       "      <td>4169</td>\n",
       "      <td>2617</td>\n",
       "      <td>4</td>\n",
       "      <td>965333392</td>\n",
       "    </tr>\n",
       "    <tr>\n",
       "      <th>697185</th>\n",
       "      <td>4169</td>\n",
       "      <td>2628</td>\n",
       "      <td>4</td>\n",
       "      <td>965333392</td>\n",
       "    </tr>\n",
       "    <tr>\n",
       "      <th>697219</th>\n",
       "      <td>4169</td>\n",
       "      <td>2653</td>\n",
       "      <td>4</td>\n",
       "      <td>965333392</td>\n",
       "    </tr>\n",
       "    <tr>\n",
       "      <th>697275</th>\n",
       "      <td>4169</td>\n",
       "      <td>423</td>\n",
       "      <td>3</td>\n",
       "      <td>965333392</td>\n",
       "    </tr>\n",
       "    <tr>\n",
       "      <th>696168</th>\n",
       "      <td>4169</td>\n",
       "      <td>3801</td>\n",
       "      <td>5</td>\n",
       "      <td>965333481</td>\n",
       "    </tr>\n",
       "    <tr>\n",
       "      <th>696250</th>\n",
       "      <td>4169</td>\n",
       "      <td>3841</td>\n",
       "      <td>2</td>\n",
       "      <td>965333481</td>\n",
       "    </tr>\n",
       "    <tr>\n",
       "      <th>697903</th>\n",
       "      <td>4169</td>\n",
       "      <td>3761</td>\n",
       "      <td>3</td>\n",
       "      <td>965333481</td>\n",
       "    </tr>\n",
       "    <tr>\n",
       "      <th>697954</th>\n",
       "      <td>4169</td>\n",
       "      <td>3788</td>\n",
       "      <td>3</td>\n",
       "      <td>965333481</td>\n",
       "    </tr>\n",
       "    <tr>\n",
       "      <th>695653</th>\n",
       "      <td>4169</td>\n",
       "      <td>3794</td>\n",
       "      <td>4</td>\n",
       "      <td>965333519</td>\n",
       "    </tr>\n",
       "    <tr>\n",
       "      <th>696188</th>\n",
       "      <td>4169</td>\n",
       "      <td>3811</td>\n",
       "      <td>5</td>\n",
       "      <td>965333519</td>\n",
       "    </tr>\n",
       "    <tr>\n",
       "      <th>696229</th>\n",
       "      <td>4169</td>\n",
       "      <td>3833</td>\n",
       "      <td>1</td>\n",
       "      <td>965333519</td>\n",
       "    </tr>\n",
       "    <tr>\n",
       "      <th>696230</th>\n",
       "      <td>4169</td>\n",
       "      <td>3834</td>\n",
       "      <td>3</td>\n",
       "      <td>965333519</td>\n",
       "    </tr>\n",
       "    <tr>\n",
       "      <th>697889</th>\n",
       "      <td>4169</td>\n",
       "      <td>3758</td>\n",
       "      <td>4</td>\n",
       "      <td>965333519</td>\n",
       "    </tr>\n",
       "    <tr>\n",
       "      <th>695649</th>\n",
       "      <td>4169</td>\n",
       "      <td>3792</td>\n",
       "      <td>4</td>\n",
       "      <td>965333558</td>\n",
       "    </tr>\n",
       "    <tr>\n",
       "      <th>695654</th>\n",
       "      <td>4169</td>\n",
       "      <td>3795</td>\n",
       "      <td>3</td>\n",
       "      <td>965333558</td>\n",
       "    </tr>\n",
       "    <tr>\n",
       "      <th>696189</th>\n",
       "      <td>4169</td>\n",
       "      <td>3812</td>\n",
       "      <td>3</td>\n",
       "      <td>965333558</td>\n",
       "    </tr>\n",
       "    <tr>\n",
       "      <th>696256</th>\n",
       "      <td>4169</td>\n",
       "      <td>3846</td>\n",
       "      <td>3</td>\n",
       "      <td>965333558</td>\n",
       "    </tr>\n",
       "    <tr>\n",
       "      <th>697906</th>\n",
       "      <td>4169</td>\n",
       "      <td>3763</td>\n",
       "      <td>4</td>\n",
       "      <td>965333558</td>\n",
       "    </tr>\n",
       "    <tr>\n",
       "      <th>697908</th>\n",
       "      <td>4169</td>\n",
       "      <td>3764</td>\n",
       "      <td>3</td>\n",
       "      <td>965333558</td>\n",
       "    </tr>\n",
       "  </tbody>\n",
       "</table>\n",
       "</div>"
      ],
      "text/plain": [
       "        UserId  ItemId  Rating       Time\n",
       "696969    4169    1268       5  965333392\n",
       "697168    4169    2617       4  965333392\n",
       "697185    4169    2628       4  965333392\n",
       "697219    4169    2653       4  965333392\n",
       "697275    4169     423       3  965333392\n",
       "696168    4169    3801       5  965333481\n",
       "696250    4169    3841       2  965333481\n",
       "697903    4169    3761       3  965333481\n",
       "697954    4169    3788       3  965333481\n",
       "695653    4169    3794       4  965333519\n",
       "696188    4169    3811       5  965333519\n",
       "696229    4169    3833       1  965333519\n",
       "696230    4169    3834       3  965333519\n",
       "697889    4169    3758       4  965333519\n",
       "695649    4169    3792       4  965333558\n",
       "695654    4169    3795       3  965333558\n",
       "696189    4169    3812       3  965333558\n",
       "696256    4169    3846       3  965333558\n",
       "697906    4169    3763       4  965333558\n",
       "697908    4169    3764       3  965333558"
      ]
     },
     "execution_count": 15,
     "metadata": {},
     "output_type": "execute_result"
    }
   ],
   "source": [
    "long_User = User_length[User_length==2314].index[0]\n",
    "data[data['UserId']==long_User].head(20)"
   ]
  },
  {
   "cell_type": "code",
   "execution_count": 12,
   "id": "e87dddfe",
   "metadata": {},
   "outputs": [
    {
     "data": {
      "text/plain": [
       "20      0.014238\n",
       "21      0.029305\n",
       "22      0.042053\n",
       "23      0.055464\n",
       "24      0.068874\n",
       "          ...   \n",
       "1271    0.998179\n",
       "1277    0.998344\n",
       "1286    0.998510\n",
       "1302    0.998675\n",
       "1323    0.998841\n",
       "Length: 736, dtype: float64"
      ]
     },
     "execution_count": 12,
     "metadata": {},
     "output_type": "execute_result"
    }
   ],
   "source": [
    "length_count = User_length.groupby(User_length).size()\n",
    "length_percent_cumsum = length_count.cumsum() / length_count.sum()\n",
    "length_percent_cumsum_999 = length_percent_cumsum[length_percent_cumsum < 0.999]\n",
    "\n",
    "length_percent_cumsum_999"
   ]
  },
  {
   "cell_type": "code",
   "execution_count": 20,
   "id": "318cc74e",
   "metadata": {},
   "outputs": [
    {
     "data": {
      "image/png": "[encoded data removed]",
      "text/plain": [
       "<Figure size 864x720 with 1 Axes>"
      ]
     },
     "metadata": {
      "needs_background": "light"
     },
     "output_type": "display_data"
    }
   ],
   "source": [
    "import matplotlib.pyplot as plt\n",
    "\n",
    "plt.figure(figsize=(12, 10))\n",
    "plt.bar(x=length_percent_cumsum_999.index,\n",
    "        height=length_percent_cumsum_999, color='red')\n",
    "# plt.xticks(length_percent_cumsum_999.index)\n",
    "plt.xticks(np.arange(50,1350, 50))\n",
    "plt.yticks(np.arange(0, 1.01, 0.05))\n",
    "plt.title('Cumsum Percentage Until 0.999', size=20)\n",
    "plt.xticks(rotation=45)\n",
    "plt.show()"
   ]
  },
  {
   "cell_type": "code",
   "execution_count": 13,
   "id": "7bae94dd",
   "metadata": {},
   "outputs": [
    {
     "name": "stdout",
     "output_type": "stream",
     "text": [
      "956703932\n",
      "1046454590\n"
     ]
    }
   ],
   "source": [
    "oldest, latest = data['Time'].min(), data['Time'].max()\n",
    "print(oldest) \n",
    "print(latest)"
   ]
  },
  {
   "cell_type": "code",
   "execution_count": 14,
   "id": "e7355751",
   "metadata": {},
   "outputs": [
    {
     "data": {
      "text/plain": [
       "numpy.int64"
      ]
     },
     "execution_count": 14,
     "metadata": {},
     "output_type": "execute_result"
    }
   ],
   "source": [
    "type(latest)"
   ]
  },
  {
   "cell_type": "code",
   "execution_count": 15,
   "id": "db6f693e",
   "metadata": {},
   "outputs": [
    {
     "data": {
      "text/html": [
       "<div>\n",
       "<style scoped>\n",
       "    .dataframe tbody tr th:only-of-type {\n",
       "        vertical-align: middle;\n",
       "    }\n",
       "\n",
       "    .dataframe tbody tr th {\n",
       "        vertical-align: top;\n",
       "    }\n",
       "\n",
       "    .dataframe thead th {\n",
       "        text-align: right;\n",
       "    }\n",
       "</style>\n",
       "<table border=\"1\" class=\"dataframe\">\n",
       "  <thead>\n",
       "    <tr style=\"text-align: right;\">\n",
       "      <th></th>\n",
       "      <th>UserId</th>\n",
       "      <th>ItemId</th>\n",
       "      <th>Rating</th>\n",
       "      <th>Time</th>\n",
       "    </tr>\n",
       "  </thead>\n",
       "  <tbody>\n",
       "    <tr>\n",
       "      <th>28225</th>\n",
       "      <td>195</td>\n",
       "      <td>2808</td>\n",
       "      <td>3</td>\n",
       "      <td>1044220118</td>\n",
       "    </tr>\n",
       "    <tr>\n",
       "      <th>27759</th>\n",
       "      <td>195</td>\n",
       "      <td>1254</td>\n",
       "      <td>4</td>\n",
       "      <td>1044552222</td>\n",
       "    </tr>\n",
       "    <tr>\n",
       "      <th>27921</th>\n",
       "      <td>195</td>\n",
       "      <td>1456</td>\n",
       "      <td>2</td>\n",
       "      <td>1044662852</td>\n",
       "    </tr>\n",
       "    <tr>\n",
       "      <th>28443</th>\n",
       "      <td>195</td>\n",
       "      <td>468</td>\n",
       "      <td>3</td>\n",
       "      <td>1044985356</td>\n",
       "    </tr>\n",
       "    <tr>\n",
       "      <th>28255</th>\n",
       "      <td>195</td>\n",
       "      <td>2748</td>\n",
       "      <td>1</td>\n",
       "      <td>1044987808</td>\n",
       "    </tr>\n",
       "    <tr>\n",
       "      <th>...</th>\n",
       "      <td>...</td>\n",
       "      <td>...</td>\n",
       "      <td>...</td>\n",
       "      <td>...</td>\n",
       "    </tr>\n",
       "    <tr>\n",
       "      <th>984731</th>\n",
       "      <td>5950</td>\n",
       "      <td>3948</td>\n",
       "      <td>4</td>\n",
       "      <td>1046369637</td>\n",
       "    </tr>\n",
       "    <tr>\n",
       "      <th>984682</th>\n",
       "      <td>5950</td>\n",
       "      <td>3578</td>\n",
       "      <td>4</td>\n",
       "      <td>1046369670</td>\n",
       "    </tr>\n",
       "    <tr>\n",
       "      <th>984475</th>\n",
       "      <td>5950</td>\n",
       "      <td>3793</td>\n",
       "      <td>3</td>\n",
       "      <td>1046369710</td>\n",
       "    </tr>\n",
       "    <tr>\n",
       "      <th>984660</th>\n",
       "      <td>5950</td>\n",
       "      <td>3555</td>\n",
       "      <td>2</td>\n",
       "      <td>1046369737</td>\n",
       "    </tr>\n",
       "    <tr>\n",
       "      <th>984733</th>\n",
       "      <td>5950</td>\n",
       "      <td>1262</td>\n",
       "      <td>4</td>\n",
       "      <td>1046369858</td>\n",
       "    </tr>\n",
       "  </tbody>\n",
       "</table>\n",
       "<p>1551 rows × 4 columns</p>\n",
       "</div>"
      ],
      "text/plain": [
       "        UserId  ItemId  Rating        Time\n",
       "28225      195    2808       3  1044220118\n",
       "27759      195    1254       4  1044552222\n",
       "27921      195    1456       2  1044662852\n",
       "28443      195     468       3  1044985356\n",
       "28255      195    2748       1  1044987808\n",
       "...        ...     ...     ...         ...\n",
       "984731    5950    3948       4  1046369637\n",
       "984682    5950    3578       4  1046369670\n",
       "984475    5950    3793       3  1046369710\n",
       "984660    5950    3555       2  1046369737\n",
       "984733    5950    1262       4  1046369858\n",
       "\n",
       "[1551 rows x 4 columns]"
      ]
     },
     "execution_count": 15,
     "metadata": {},
     "output_type": "execute_result"
    }
   ],
   "source": [
    "#86400*30 최근 한달 자료 2592000\n",
    "\n",
    "     \n",
    "data_30 = data[data['Time'] > 1046454590-2592000]   # 방금 구한 날짜 이후의 데이터만 모은다. \n",
    "data_30"
   ]
  },
  {
   "cell_type": "code",
   "execution_count": 16,
   "id": "0a6a1e71",
   "metadata": {},
   "outputs": [
    {
     "data": {
      "text/html": [
       "<div>\n",
       "<style scoped>\n",
       "    .dataframe tbody tr th:only-of-type {\n",
       "        vertical-align: middle;\n",
       "    }\n",
       "\n",
       "    .dataframe tbody tr th {\n",
       "        vertical-align: top;\n",
       "    }\n",
       "\n",
       "    .dataframe thead th {\n",
       "        text-align: right;\n",
       "    }\n",
       "</style>\n",
       "<table border=\"1\" class=\"dataframe\">\n",
       "  <thead>\n",
       "    <tr style=\"text-align: right;\">\n",
       "      <th></th>\n",
       "      <th>UserId</th>\n",
       "      <th>ItemId</th>\n",
       "      <th>Rating</th>\n",
       "      <th>Time</th>\n",
       "    </tr>\n",
       "  </thead>\n",
       "  <tbody>\n",
       "    <tr>\n",
       "      <th>5170</th>\n",
       "      <td>36</td>\n",
       "      <td>1387</td>\n",
       "      <td>5</td>\n",
       "      <td>1015904819</td>\n",
       "    </tr>\n",
       "    <tr>\n",
       "      <th>5267</th>\n",
       "      <td>36</td>\n",
       "      <td>1201</td>\n",
       "      <td>4</td>\n",
       "      <td>1015904819</td>\n",
       "    </tr>\n",
       "    <tr>\n",
       "      <th>5122</th>\n",
       "      <td>36</td>\n",
       "      <td>1291</td>\n",
       "      <td>5</td>\n",
       "      <td>1015904836</td>\n",
       "    </tr>\n",
       "    <tr>\n",
       "      <th>5123</th>\n",
       "      <td>36</td>\n",
       "      <td>2167</td>\n",
       "      <td>5</td>\n",
       "      <td>1015904905</td>\n",
       "    </tr>\n",
       "    <tr>\n",
       "      <th>5290</th>\n",
       "      <td>36</td>\n",
       "      <td>2951</td>\n",
       "      <td>4</td>\n",
       "      <td>1015904905</td>\n",
       "    </tr>\n",
       "    <tr>\n",
       "      <th>...</th>\n",
       "      <td>...</td>\n",
       "      <td>...</td>\n",
       "      <td>...</td>\n",
       "      <td>...</td>\n",
       "    </tr>\n",
       "    <tr>\n",
       "      <th>992358</th>\n",
       "      <td>5996</td>\n",
       "      <td>3835</td>\n",
       "      <td>3</td>\n",
       "      <td>1020113184</td>\n",
       "    </tr>\n",
       "    <tr>\n",
       "      <th>992279</th>\n",
       "      <td>5996</td>\n",
       "      <td>2422</td>\n",
       "      <td>3</td>\n",
       "      <td>1020113225</td>\n",
       "    </tr>\n",
       "    <tr>\n",
       "      <th>992702</th>\n",
       "      <td>5996</td>\n",
       "      <td>168</td>\n",
       "      <td>3</td>\n",
       "      <td>1031058746</td>\n",
       "    </tr>\n",
       "    <tr>\n",
       "      <th>992459</th>\n",
       "      <td>5996</td>\n",
       "      <td>339</td>\n",
       "      <td>4</td>\n",
       "      <td>1033997079</td>\n",
       "    </tr>\n",
       "    <tr>\n",
       "      <th>992387</th>\n",
       "      <td>5996</td>\n",
       "      <td>3882</td>\n",
       "      <td>3</td>\n",
       "      <td>1036428955</td>\n",
       "    </tr>\n",
       "  </tbody>\n",
       "</table>\n",
       "<p>21704 rows × 4 columns</p>\n",
       "</div>"
      ],
      "text/plain": [
       "        UserId  ItemId  Rating        Time\n",
       "5170        36    1387       5  1015904819\n",
       "5267        36    1201       4  1015904819\n",
       "5122        36    1291       5  1015904836\n",
       "5123        36    2167       5  1015904905\n",
       "5290        36    2951       4  1015904905\n",
       "...        ...     ...     ...         ...\n",
       "992358    5996    3835       3  1020113184\n",
       "992279    5996    2422       3  1020113225\n",
       "992702    5996     168       3  1031058746\n",
       "992459    5996     339       4  1033997079\n",
       "992387    5996    3882       3  1036428955\n",
       "\n",
       "[21704 rows x 4 columns]"
      ]
     },
     "execution_count": 16,
     "metadata": {},
     "output_type": "execute_result"
    }
   ],
   "source": [
    "# 너무 적음 최근1년 자료 86400*365\n",
    "\n",
    "data_365 = data[data['Time'] > 1046454590-31536000]   # 방금 구한 날짜 이후의 데이터만 모은다. \n",
    "data_365"
   ]
  },
  {
   "cell_type": "code",
   "execution_count": 17,
   "id": "e67b6401",
   "metadata": {},
   "outputs": [],
   "source": [
    "# short_UserId을 제거한 다음 unpopular item을 제거하면 다시 길이가 1인 session이 생길 수 있습니다.\n",
    "# 이를 위해 반복문을 통해 지속적으로 제거 합니다.\n",
    "def cleanse_recursive(data: pd.DataFrame, shortest, least_click) -> pd.DataFrame:\n",
    "    while True:\n",
    "        before_len = len(data)\n",
    "        data = cleanse_short_session(data, shortest)\n",
    "        data = cleanse_unpopular_item(data, least_click)\n",
    "        after_len = len(data)\n",
    "        if before_len == after_len:\n",
    "            break\n",
    "    return data\n",
    "\n",
    "\n",
    "def cleanse_short_session(data: pd.DataFrame, shortest):\n",
    "    session_len = data.groupby('UserId').size()\n",
    "    session_use = session_len[session_len >= shortest].index\n",
    "    data = data[data['UserId'].isin(session_use)]\n",
    "    return data\n",
    "\n",
    "\n",
    "def cleanse_unpopular_item(data: pd.DataFrame, least_click):\n",
    "    item_popular = data.groupby('ItemId').size()\n",
    "    item_use = item_popular[item_popular >= least_click].index\n",
    "    data = data[data['ItemId'].isin(item_use)]\n",
    "    return data"
   ]
  },
  {
   "cell_type": "code",
   "execution_count": 18,
   "id": "acbad133",
   "metadata": {},
   "outputs": [
    {
     "data": {
      "text/html": [
       "<div>\n",
       "<style scoped>\n",
       "    .dataframe tbody tr th:only-of-type {\n",
       "        vertical-align: middle;\n",
       "    }\n",
       "\n",
       "    .dataframe tbody tr th {\n",
       "        vertical-align: top;\n",
       "    }\n",
       "\n",
       "    .dataframe thead th {\n",
       "        text-align: right;\n",
       "    }\n",
       "</style>\n",
       "<table border=\"1\" class=\"dataframe\">\n",
       "  <thead>\n",
       "    <tr style=\"text-align: right;\">\n",
       "      <th></th>\n",
       "      <th>UserId</th>\n",
       "      <th>ItemId</th>\n",
       "      <th>Rating</th>\n",
       "      <th>Time</th>\n",
       "    </tr>\n",
       "  </thead>\n",
       "  <tbody>\n",
       "    <tr>\n",
       "      <th>5170</th>\n",
       "      <td>36</td>\n",
       "      <td>1387</td>\n",
       "      <td>5</td>\n",
       "      <td>1015904819</td>\n",
       "    </tr>\n",
       "    <tr>\n",
       "      <th>5267</th>\n",
       "      <td>36</td>\n",
       "      <td>1201</td>\n",
       "      <td>4</td>\n",
       "      <td>1015904819</td>\n",
       "    </tr>\n",
       "    <tr>\n",
       "      <th>5122</th>\n",
       "      <td>36</td>\n",
       "      <td>1291</td>\n",
       "      <td>5</td>\n",
       "      <td>1015904836</td>\n",
       "    </tr>\n",
       "    <tr>\n",
       "      <th>5123</th>\n",
       "      <td>36</td>\n",
       "      <td>2167</td>\n",
       "      <td>5</td>\n",
       "      <td>1015904905</td>\n",
       "    </tr>\n",
       "    <tr>\n",
       "      <th>5290</th>\n",
       "      <td>36</td>\n",
       "      <td>2951</td>\n",
       "      <td>4</td>\n",
       "      <td>1015904905</td>\n",
       "    </tr>\n",
       "    <tr>\n",
       "      <th>...</th>\n",
       "      <td>...</td>\n",
       "      <td>...</td>\n",
       "      <td>...</td>\n",
       "      <td>...</td>\n",
       "    </tr>\n",
       "    <tr>\n",
       "      <th>992358</th>\n",
       "      <td>5996</td>\n",
       "      <td>3835</td>\n",
       "      <td>3</td>\n",
       "      <td>1020113184</td>\n",
       "    </tr>\n",
       "    <tr>\n",
       "      <th>992279</th>\n",
       "      <td>5996</td>\n",
       "      <td>2422</td>\n",
       "      <td>3</td>\n",
       "      <td>1020113225</td>\n",
       "    </tr>\n",
       "    <tr>\n",
       "      <th>992702</th>\n",
       "      <td>5996</td>\n",
       "      <td>168</td>\n",
       "      <td>3</td>\n",
       "      <td>1031058746</td>\n",
       "    </tr>\n",
       "    <tr>\n",
       "      <th>992459</th>\n",
       "      <td>5996</td>\n",
       "      <td>339</td>\n",
       "      <td>4</td>\n",
       "      <td>1033997079</td>\n",
       "    </tr>\n",
       "    <tr>\n",
       "      <th>992387</th>\n",
       "      <td>5996</td>\n",
       "      <td>3882</td>\n",
       "      <td>3</td>\n",
       "      <td>1036428955</td>\n",
       "    </tr>\n",
       "  </tbody>\n",
       "</table>\n",
       "<p>18623 rows × 4 columns</p>\n",
       "</div>"
      ],
      "text/plain": [
       "        UserId  ItemId  Rating        Time\n",
       "5170        36    1387       5  1015904819\n",
       "5267        36    1201       4  1015904819\n",
       "5122        36    1291       5  1015904836\n",
       "5123        36    2167       5  1015904905\n",
       "5290        36    2951       4  1015904905\n",
       "...        ...     ...     ...         ...\n",
       "992358    5996    3835       3  1020113184\n",
       "992279    5996    2422       3  1020113225\n",
       "992702    5996     168       3  1031058746\n",
       "992459    5996     339       4  1033997079\n",
       "992387    5996    3882       3  1036428955\n",
       "\n",
       "[18623 rows x 4 columns]"
      ]
     },
     "execution_count": 18,
     "metadata": {},
     "output_type": "execute_result"
    }
   ],
   "source": [
    "data_365_c = cleanse_recursive(data_365, shortest=2, least_click=5)\n",
    "data_365_c"
   ]
  },
  {
   "cell_type": "code",
   "execution_count": 19,
   "id": "302f0024",
   "metadata": {
    "scrolled": true
   },
   "outputs": [
    {
     "data": {
      "text/plain": [
       "4    6727\n",
       "3    5168\n",
       "5    3460\n",
       "2    2224\n",
       "1    1044\n",
       "Name: Rating, dtype: int64"
      ]
     },
     "execution_count": 19,
     "metadata": {},
     "output_type": "execute_result"
    }
   ],
   "source": [
    "# 별점 기준 3 이상인것만 추천하도록하기위해 Rating 분포 확인\n",
    "data_365_c['Rating'].value_counts()"
   ]
  },
  {
   "cell_type": "code",
   "execution_count": 21,
   "id": "6e0bf22b",
   "metadata": {},
   "outputs": [
    {
     "data": {
      "text/plain": [
       "array([5, 4, 3], dtype=int32)"
      ]
     },
     "execution_count": 21,
     "metadata": {},
     "output_type": "execute_result"
    }
   ],
   "source": [
    "data_365_c_R = data_365_c[data_365_c['Rating']>=3]\n",
    "data_365_c_R['Rating'].unique()"
   ]
  },
  {
   "cell_type": "code",
   "execution_count": 28,
   "id": "4b72c259",
   "metadata": {},
   "outputs": [
    {
     "data": {
      "text/html": [
       "<div>\n",
       "<style scoped>\n",
       "    .dataframe tbody tr th:only-of-type {\n",
       "        vertical-align: middle;\n",
       "    }\n",
       "\n",
       "    .dataframe tbody tr th {\n",
       "        vertical-align: top;\n",
       "    }\n",
       "\n",
       "    .dataframe thead th {\n",
       "        text-align: right;\n",
       "    }\n",
       "</style>\n",
       "<table border=\"1\" class=\"dataframe\">\n",
       "  <thead>\n",
       "    <tr style=\"text-align: right;\">\n",
       "      <th></th>\n",
       "      <th>UserId</th>\n",
       "      <th>ItemId</th>\n",
       "      <th>Rating</th>\n",
       "      <th>Time</th>\n",
       "    </tr>\n",
       "  </thead>\n",
       "  <tbody>\n",
       "    <tr>\n",
       "      <th>5170</th>\n",
       "      <td>36</td>\n",
       "      <td>1387</td>\n",
       "      <td>5</td>\n",
       "      <td>1015904819</td>\n",
       "    </tr>\n",
       "    <tr>\n",
       "      <th>5267</th>\n",
       "      <td>36</td>\n",
       "      <td>1201</td>\n",
       "      <td>4</td>\n",
       "      <td>1015904819</td>\n",
       "    </tr>\n",
       "    <tr>\n",
       "      <th>5122</th>\n",
       "      <td>36</td>\n",
       "      <td>1291</td>\n",
       "      <td>5</td>\n",
       "      <td>1015904836</td>\n",
       "    </tr>\n",
       "    <tr>\n",
       "      <th>5123</th>\n",
       "      <td>36</td>\n",
       "      <td>2167</td>\n",
       "      <td>5</td>\n",
       "      <td>1015904905</td>\n",
       "    </tr>\n",
       "    <tr>\n",
       "      <th>5290</th>\n",
       "      <td>36</td>\n",
       "      <td>2951</td>\n",
       "      <td>4</td>\n",
       "      <td>1015904905</td>\n",
       "    </tr>\n",
       "    <tr>\n",
       "      <th>...</th>\n",
       "      <td>...</td>\n",
       "      <td>...</td>\n",
       "      <td>...</td>\n",
       "      <td>...</td>\n",
       "    </tr>\n",
       "    <tr>\n",
       "      <th>992358</th>\n",
       "      <td>5996</td>\n",
       "      <td>3835</td>\n",
       "      <td>3</td>\n",
       "      <td>1020113184</td>\n",
       "    </tr>\n",
       "    <tr>\n",
       "      <th>992279</th>\n",
       "      <td>5996</td>\n",
       "      <td>2422</td>\n",
       "      <td>3</td>\n",
       "      <td>1020113225</td>\n",
       "    </tr>\n",
       "    <tr>\n",
       "      <th>992702</th>\n",
       "      <td>5996</td>\n",
       "      <td>168</td>\n",
       "      <td>3</td>\n",
       "      <td>1031058746</td>\n",
       "    </tr>\n",
       "    <tr>\n",
       "      <th>992459</th>\n",
       "      <td>5996</td>\n",
       "      <td>339</td>\n",
       "      <td>4</td>\n",
       "      <td>1033997079</td>\n",
       "    </tr>\n",
       "    <tr>\n",
       "      <th>992387</th>\n",
       "      <td>5996</td>\n",
       "      <td>3882</td>\n",
       "      <td>3</td>\n",
       "      <td>1036428955</td>\n",
       "    </tr>\n",
       "  </tbody>\n",
       "</table>\n",
       "<p>15355 rows × 4 columns</p>\n",
       "</div>"
      ],
      "text/plain": [
       "        UserId  ItemId  Rating        Time\n",
       "5170        36    1387       5  1015904819\n",
       "5267        36    1201       4  1015904819\n",
       "5122        36    1291       5  1015904836\n",
       "5123        36    2167       5  1015904905\n",
       "5290        36    2951       4  1015904905\n",
       "...        ...     ...     ...         ...\n",
       "992358    5996    3835       3  1020113184\n",
       "992279    5996    2422       3  1020113225\n",
       "992702    5996     168       3  1031058746\n",
       "992459    5996     339       4  1033997079\n",
       "992387    5996    3882       3  1036428955\n",
       "\n",
       "[15355 rows x 4 columns]"
      ]
     },
     "execution_count": 28,
     "metadata": {},
     "output_type": "execute_result"
    }
   ],
   "source": [
    "data_365_c_R"
   ]
  },
  {
   "cell_type": "code",
   "execution_count": 36,
   "id": "6f4edcb4",
   "metadata": {},
   "outputs": [],
   "source": [
    "# dataset이 time column 을 따로 가지고 있어 타임라인을기준으로 나눈후 userId 별로세션을 설정\n",
    "def split_by_date(data: pd.DataFrame, n_seconds: int):\n",
    "    final_time = data['Time'].max()\n",
    "    time_in_train = data[data['Time'] < final_time - n_seconds]\n",
    "    time_in_test = data[data['Time'] >= final_time - n_seconds]\n",
    "\n",
    "    return time_in_train, time_in_test"
   ]
  },
  {
   "cell_type": "code",
   "execution_count": 116,
   "id": "2e6d99cd",
   "metadata": {},
   "outputs": [],
   "source": [
    "tr, test = split_by_date(data_365_c_R, 84600*7*8) #8주 초로 되어있음 int\n",
    "tr, val = split_by_date(tr, 84600*7*16) # 16주"
   ]
  },
  {
   "cell_type": "code",
   "execution_count": 44,
   "id": "906e843c",
   "metadata": {},
   "outputs": [],
   "source": [
    "# data에 대한 정보를 살펴봅니다.\n",
    "def stats_info(data: pd.DataFrame, status: str):\n",
    "    print(f'* {status} Set Stats Info\\n'\n",
    "          f'\\t Events: {len(data)}\\n'\n",
    "          f'\\t Users: {data[\"UserId\"].nunique()}\\n'\n",
    "          f'\\t Items: {data[\"ItemId\"].nunique()}\\n'\n",
    "          f'\\t First Time : {data[\"Time\"].min()}\\n'\n",
    "          f'\\t Last Time : {data[\"Time\"].max()}\\n')"
   ]
  },
  {
   "cell_type": "code",
   "execution_count": 45,
   "id": "9cfa6cd1",
   "metadata": {
    "scrolled": true
   },
   "outputs": [
    {
     "name": "stdout",
     "output_type": "stream",
     "text": [
      "* train Set Stats Info\n",
      "\t Events: 9512\n",
      "\t Users: 390\n",
      "\t Items: 1504\n",
      "\t First Time : 1014923199\n",
      "\t Last Time : 1032228292\n",
      "\n",
      "* valid Set Stats Info\n",
      "\t Events: 3708\n",
      "\t Users: 255\n",
      "\t Items: 1250\n",
      "\t First Time : 1032267965\n",
      "\t Last Time : 1041714932\n",
      "\n",
      "* test Set Stats Info\n",
      "\t Events: 2135\n",
      "\t Users: 157\n",
      "\t Items: 1012\n",
      "\t First Time : 1041723782\n",
      "\t Last Time : 1046454590\n",
      "\n"
     ]
    }
   ],
   "source": [
    "stats_info(tr, 'train')\n",
    "stats_info(val, 'valid')\n",
    "stats_info(test, 'test')"
   ]
  },
  {
   "cell_type": "code",
   "execution_count": 119,
   "id": "444b5095",
   "metadata": {},
   "outputs": [],
   "source": [
    "# train set에 없는 아이템이 val, test기간에 생길 수 있으므로 train data를 기준으로 인덱싱합니다.\n",
    "id2idx = {item_id : index for index, item_id in enumerate(tr['ItemId'].unique())}\n",
    "\n",
    "def indexing(df, id2idx):\n",
    "    df['item_idx'] = df['ItemId'].map(lambda x: id2idx.get(x, -1))  # id2idx에 없는 아이템은 모르는 값(-1) 처리 해줍니다.\n",
    "    return df\n",
    "\n",
    "tr = indexing(tr, id2idx)\n",
    "val = indexing(val, id2idx)\n",
    "test = indexing(test, id2idx)"
   ]
  },
  {
   "cell_type": "code",
   "execution_count": 47,
   "id": "ed7c1958",
   "metadata": {},
   "outputs": [],
   "source": [
    "class SessionDataset:\n",
    "    \"\"\"Credit to yhs-968/pyGRU4REC.\"\"\"\n",
    "\n",
    "    def __init__(self, data):\n",
    "        self.df = data\n",
    "        self.click_offsets = self.get_click_offsets()\n",
    "        self.session_idx = np.arange(self.df['UserId'].nunique())  # indexing to SessionId\n",
    "\n",
    "    def get_click_offsets(self):\n",
    "        \"\"\"\n",
    "        Return the indexes of the first click of each session IDs,\n",
    "        \"\"\"\n",
    "        offsets = np.zeros(self.df['UserId'].nunique() + 1, dtype=np.int32)\n",
    "        offsets[1:] = self.df.groupby('UserId').size().cumsum()\n",
    "        return offsets"
   ]
  },
  {
   "cell_type": "code",
   "execution_count": 61,
   "id": "63ce16d9",
   "metadata": {
    "scrolled": true
   },
   "outputs": [
    {
     "data": {
      "text/html": [
       "<div>\n",
       "<style scoped>\n",
       "    .dataframe tbody tr th:only-of-type {\n",
       "        vertical-align: middle;\n",
       "    }\n",
       "\n",
       "    .dataframe tbody tr th {\n",
       "        vertical-align: top;\n",
       "    }\n",
       "\n",
       "    .dataframe thead th {\n",
       "        text-align: right;\n",
       "    }\n",
       "</style>\n",
       "<table border=\"1\" class=\"dataframe\">\n",
       "  <thead>\n",
       "    <tr style=\"text-align: right;\">\n",
       "      <th></th>\n",
       "      <th>UserId</th>\n",
       "      <th>ItemId</th>\n",
       "      <th>Rating</th>\n",
       "      <th>Time</th>\n",
       "      <th>item_idx</th>\n",
       "    </tr>\n",
       "  </thead>\n",
       "  <tbody>\n",
       "    <tr>\n",
       "      <th>5170</th>\n",
       "      <td>36</td>\n",
       "      <td>1387</td>\n",
       "      <td>5</td>\n",
       "      <td>1015904819</td>\n",
       "      <td>0</td>\n",
       "    </tr>\n",
       "    <tr>\n",
       "      <th>5267</th>\n",
       "      <td>36</td>\n",
       "      <td>1201</td>\n",
       "      <td>4</td>\n",
       "      <td>1015904819</td>\n",
       "      <td>1</td>\n",
       "    </tr>\n",
       "    <tr>\n",
       "      <th>5122</th>\n",
       "      <td>36</td>\n",
       "      <td>1291</td>\n",
       "      <td>5</td>\n",
       "      <td>1015904836</td>\n",
       "      <td>2</td>\n",
       "    </tr>\n",
       "    <tr>\n",
       "      <th>5123</th>\n",
       "      <td>36</td>\n",
       "      <td>2167</td>\n",
       "      <td>5</td>\n",
       "      <td>1015904905</td>\n",
       "      <td>3</td>\n",
       "    </tr>\n",
       "    <tr>\n",
       "      <th>5290</th>\n",
       "      <td>36</td>\n",
       "      <td>2951</td>\n",
       "      <td>4</td>\n",
       "      <td>1015904905</td>\n",
       "      <td>4</td>\n",
       "    </tr>\n",
       "    <tr>\n",
       "      <th>5359</th>\n",
       "      <td>36</td>\n",
       "      <td>2115</td>\n",
       "      <td>5</td>\n",
       "      <td>1015904905</td>\n",
       "      <td>5</td>\n",
       "    </tr>\n",
       "    <tr>\n",
       "      <th>5073</th>\n",
       "      <td>36</td>\n",
       "      <td>1912</td>\n",
       "      <td>5</td>\n",
       "      <td>1015904924</td>\n",
       "      <td>6</td>\n",
       "    </tr>\n",
       "    <tr>\n",
       "      <th>5113</th>\n",
       "      <td>36</td>\n",
       "      <td>2662</td>\n",
       "      <td>3</td>\n",
       "      <td>1015904924</td>\n",
       "      <td>7</td>\n",
       "    </tr>\n",
       "    <tr>\n",
       "      <th>5366</th>\n",
       "      <td>36</td>\n",
       "      <td>2985</td>\n",
       "      <td>4</td>\n",
       "      <td>1015904941</td>\n",
       "      <td>8</td>\n",
       "    </tr>\n",
       "    <tr>\n",
       "      <th>5145</th>\n",
       "      <td>36</td>\n",
       "      <td>198</td>\n",
       "      <td>5</td>\n",
       "      <td>1015904988</td>\n",
       "      <td>9</td>\n",
       "    </tr>\n",
       "    <tr>\n",
       "      <th>5296</th>\n",
       "      <td>36</td>\n",
       "      <td>1147</td>\n",
       "      <td>4</td>\n",
       "      <td>1015905111</td>\n",
       "      <td>10</td>\n",
       "    </tr>\n",
       "    <tr>\n",
       "      <th>5034</th>\n",
       "      <td>36</td>\n",
       "      <td>581</td>\n",
       "      <td>4</td>\n",
       "      <td>1015905127</td>\n",
       "      <td>11</td>\n",
       "    </tr>\n",
       "    <tr>\n",
       "      <th>5060</th>\n",
       "      <td>36</td>\n",
       "      <td>1191</td>\n",
       "      <td>4</td>\n",
       "      <td>1015905249</td>\n",
       "      <td>12</td>\n",
       "    </tr>\n",
       "    <tr>\n",
       "      <th>5025</th>\n",
       "      <td>36</td>\n",
       "      <td>3359</td>\n",
       "      <td>5</td>\n",
       "      <td>1015905485</td>\n",
       "      <td>13</td>\n",
       "    </tr>\n",
       "    <tr>\n",
       "      <th>5325</th>\n",
       "      <td>36</td>\n",
       "      <td>553</td>\n",
       "      <td>4</td>\n",
       "      <td>1015905626</td>\n",
       "      <td>14</td>\n",
       "    </tr>\n",
       "    <tr>\n",
       "      <th>5109</th>\n",
       "      <td>36</td>\n",
       "      <td>1283</td>\n",
       "      <td>4</td>\n",
       "      <td>1015962403</td>\n",
       "      <td>15</td>\n",
       "    </tr>\n",
       "    <tr>\n",
       "      <th>5291</th>\n",
       "      <td>36</td>\n",
       "      <td>3827</td>\n",
       "      <td>4</td>\n",
       "      <td>1015963458</td>\n",
       "      <td>16</td>\n",
       "    </tr>\n",
       "    <tr>\n",
       "      <th>9680</th>\n",
       "      <td>65</td>\n",
       "      <td>3147</td>\n",
       "      <td>5</td>\n",
       "      <td>1018930306</td>\n",
       "      <td>17</td>\n",
       "    </tr>\n",
       "    <tr>\n",
       "      <th>9716</th>\n",
       "      <td>65</td>\n",
       "      <td>260</td>\n",
       "      <td>4</td>\n",
       "      <td>1022468309</td>\n",
       "      <td>18</td>\n",
       "    </tr>\n",
       "    <tr>\n",
       "      <th>9703</th>\n",
       "      <td>65</td>\n",
       "      <td>2628</td>\n",
       "      <td>4</td>\n",
       "      <td>1022468310</td>\n",
       "      <td>19</td>\n",
       "    </tr>\n",
       "    <tr>\n",
       "      <th>9745</th>\n",
       "      <td>65</td>\n",
       "      <td>1210</td>\n",
       "      <td>4</td>\n",
       "      <td>1022468310</td>\n",
       "      <td>20</td>\n",
       "    </tr>\n",
       "    <tr>\n",
       "      <th>13366</th>\n",
       "      <td>104</td>\n",
       "      <td>2858</td>\n",
       "      <td>5</td>\n",
       "      <td>1016055676</td>\n",
       "      <td>21</td>\n",
       "    </tr>\n",
       "    <tr>\n",
       "      <th>13349</th>\n",
       "      <td>104</td>\n",
       "      <td>2707</td>\n",
       "      <td>3</td>\n",
       "      <td>1016055687</td>\n",
       "      <td>22</td>\n",
       "    </tr>\n",
       "    <tr>\n",
       "      <th>13330</th>\n",
       "      <td>104</td>\n",
       "      <td>2997</td>\n",
       "      <td>4</td>\n",
       "      <td>1016055700</td>\n",
       "      <td>23</td>\n",
       "    </tr>\n",
       "    <tr>\n",
       "      <th>13331</th>\n",
       "      <td>104</td>\n",
       "      <td>3005</td>\n",
       "      <td>3</td>\n",
       "      <td>1016055710</td>\n",
       "      <td>24</td>\n",
       "    </tr>\n",
       "    <tr>\n",
       "      <th>13352</th>\n",
       "      <td>104</td>\n",
       "      <td>3298</td>\n",
       "      <td>3</td>\n",
       "      <td>1016055710</td>\n",
       "      <td>25</td>\n",
       "    </tr>\n",
       "    <tr>\n",
       "      <th>13373</th>\n",
       "      <td>104</td>\n",
       "      <td>2976</td>\n",
       "      <td>3</td>\n",
       "      <td>1016055710</td>\n",
       "      <td>26</td>\n",
       "    </tr>\n",
       "    <tr>\n",
       "      <th>13344</th>\n",
       "      <td>104</td>\n",
       "      <td>2600</td>\n",
       "      <td>4</td>\n",
       "      <td>1016055781</td>\n",
       "      <td>27</td>\n",
       "    </tr>\n",
       "    <tr>\n",
       "      <th>13350</th>\n",
       "      <td>104</td>\n",
       "      <td>2490</td>\n",
       "      <td>4</td>\n",
       "      <td>1016055781</td>\n",
       "      <td>28</td>\n",
       "    </tr>\n",
       "    <tr>\n",
       "      <th>16028</th>\n",
       "      <td>127</td>\n",
       "      <td>1252</td>\n",
       "      <td>4</td>\n",
       "      <td>1023070528</td>\n",
       "      <td>29</td>\n",
       "    </tr>\n",
       "    <tr>\n",
       "      <th>16090</th>\n",
       "      <td>127</td>\n",
       "      <td>111</td>\n",
       "      <td>3</td>\n",
       "      <td>1023070542</td>\n",
       "      <td>30</td>\n",
       "    </tr>\n",
       "    <tr>\n",
       "      <th>16102</th>\n",
       "      <td>127</td>\n",
       "      <td>1674</td>\n",
       "      <td>4</td>\n",
       "      <td>1023070563</td>\n",
       "      <td>31</td>\n",
       "    </tr>\n",
       "    <tr>\n",
       "      <th>16178</th>\n",
       "      <td>127</td>\n",
       "      <td>1214</td>\n",
       "      <td>4</td>\n",
       "      <td>1023070563</td>\n",
       "      <td>32</td>\n",
       "    </tr>\n",
       "    <tr>\n",
       "      <th>16165</th>\n",
       "      <td>127</td>\n",
       "      <td>2871</td>\n",
       "      <td>3</td>\n",
       "      <td>1023070576</td>\n",
       "      <td>33</td>\n",
       "    </tr>\n",
       "    <tr>\n",
       "      <th>16610</th>\n",
       "      <td>131</td>\n",
       "      <td>930</td>\n",
       "      <td>3</td>\n",
       "      <td>1022388214</td>\n",
       "      <td>34</td>\n",
       "    </tr>\n",
       "    <tr>\n",
       "      <th>18720</th>\n",
       "      <td>146</td>\n",
       "      <td>232</td>\n",
       "      <td>4</td>\n",
       "      <td>1022003239</td>\n",
       "      <td>35</td>\n",
       "    </tr>\n",
       "    <tr>\n",
       "      <th>18642</th>\n",
       "      <td>146</td>\n",
       "      <td>1639</td>\n",
       "      <td>4</td>\n",
       "      <td>1022003256</td>\n",
       "      <td>36</td>\n",
       "    </tr>\n",
       "    <tr>\n",
       "      <th>18588</th>\n",
       "      <td>146</td>\n",
       "      <td>780</td>\n",
       "      <td>3</td>\n",
       "      <td>1022003369</td>\n",
       "      <td>37</td>\n",
       "    </tr>\n",
       "    <tr>\n",
       "      <th>18778</th>\n",
       "      <td>146</td>\n",
       "      <td>1962</td>\n",
       "      <td>4</td>\n",
       "      <td>1022003434</td>\n",
       "      <td>38</td>\n",
       "    </tr>\n",
       "    <tr>\n",
       "      <th>18707</th>\n",
       "      <td>146</td>\n",
       "      <td>3512</td>\n",
       "      <td>5</td>\n",
       "      <td>1022003471</td>\n",
       "      <td>39</td>\n",
       "    </tr>\n",
       "    <tr>\n",
       "      <th>18868</th>\n",
       "      <td>146</td>\n",
       "      <td>1228</td>\n",
       "      <td>5</td>\n",
       "      <td>1022003471</td>\n",
       "      <td>40</td>\n",
       "    </tr>\n",
       "    <tr>\n",
       "      <th>18754</th>\n",
       "      <td>146</td>\n",
       "      <td>17</td>\n",
       "      <td>3</td>\n",
       "      <td>1022003669</td>\n",
       "      <td>41</td>\n",
       "    </tr>\n",
       "    <tr>\n",
       "      <th>18641</th>\n",
       "      <td>146</td>\n",
       "      <td>3097</td>\n",
       "      <td>4</td>\n",
       "      <td>1022003683</td>\n",
       "      <td>42</td>\n",
       "    </tr>\n",
       "    <tr>\n",
       "      <th>18711</th>\n",
       "      <td>146</td>\n",
       "      <td>1912</td>\n",
       "      <td>5</td>\n",
       "      <td>1022003737</td>\n",
       "      <td>6</td>\n",
       "    </tr>\n",
       "    <tr>\n",
       "      <th>18565</th>\n",
       "      <td>146</td>\n",
       "      <td>911</td>\n",
       "      <td>5</td>\n",
       "      <td>1022003755</td>\n",
       "      <td>43</td>\n",
       "    </tr>\n",
       "    <tr>\n",
       "      <th>18820</th>\n",
       "      <td>146</td>\n",
       "      <td>1059</td>\n",
       "      <td>4</td>\n",
       "      <td>1022003755</td>\n",
       "      <td>44</td>\n",
       "    </tr>\n",
       "    <tr>\n",
       "      <th>18828</th>\n",
       "      <td>146</td>\n",
       "      <td>2006</td>\n",
       "      <td>4</td>\n",
       "      <td>1022003781</td>\n",
       "      <td>45</td>\n",
       "    </tr>\n",
       "    <tr>\n",
       "      <th>18764</th>\n",
       "      <td>146</td>\n",
       "      <td>342</td>\n",
       "      <td>3</td>\n",
       "      <td>1022003797</td>\n",
       "      <td>46</td>\n",
       "    </tr>\n",
       "    <tr>\n",
       "      <th>18660</th>\n",
       "      <td>146</td>\n",
       "      <td>1721</td>\n",
       "      <td>4</td>\n",
       "      <td>1022003814</td>\n",
       "      <td>47</td>\n",
       "    </tr>\n",
       "    <tr>\n",
       "      <th>18797</th>\n",
       "      <td>146</td>\n",
       "      <td>509</td>\n",
       "      <td>5</td>\n",
       "      <td>1022003814</td>\n",
       "      <td>48</td>\n",
       "    </tr>\n",
       "  </tbody>\n",
       "</table>\n",
       "</div>"
      ],
      "text/plain": [
       "       UserId  ItemId  Rating        Time  item_idx\n",
       "5170       36    1387       5  1015904819         0\n",
       "5267       36    1201       4  1015904819         1\n",
       "5122       36    1291       5  1015904836         2\n",
       "5123       36    2167       5  1015904905         3\n",
       "5290       36    2951       4  1015904905         4\n",
       "5359       36    2115       5  1015904905         5\n",
       "5073       36    1912       5  1015904924         6\n",
       "5113       36    2662       3  1015904924         7\n",
       "5366       36    2985       4  1015904941         8\n",
       "5145       36     198       5  1015904988         9\n",
       "5296       36    1147       4  1015905111        10\n",
       "5034       36     581       4  1015905127        11\n",
       "5060       36    1191       4  1015905249        12\n",
       "5025       36    3359       5  1015905485        13\n",
       "5325       36     553       4  1015905626        14\n",
       "5109       36    1283       4  1015962403        15\n",
       "5291       36    3827       4  1015963458        16\n",
       "9680       65    3147       5  1018930306        17\n",
       "9716       65     260       4  1022468309        18\n",
       "9703       65    2628       4  1022468310        19\n",
       "9745       65    1210       4  1022468310        20\n",
       "13366     104    2858       5  1016055676        21\n",
       "13349     104    2707       3  1016055687        22\n",
       "13330     104    2997       4  1016055700        23\n",
       "13331     104    3005       3  1016055710        24\n",
       "13352     104    3298       3  1016055710        25\n",
       "13373     104    2976       3  1016055710        26\n",
       "13344     104    2600       4  1016055781        27\n",
       "13350     104    2490       4  1016055781        28\n",
       "16028     127    1252       4  1023070528        29\n",
       "16090     127     111       3  1023070542        30\n",
       "16102     127    1674       4  1023070563        31\n",
       "16178     127    1214       4  1023070563        32\n",
       "16165     127    2871       3  1023070576        33\n",
       "16610     131     930       3  1022388214        34\n",
       "18720     146     232       4  1022003239        35\n",
       "18642     146    1639       4  1022003256        36\n",
       "18588     146     780       3  1022003369        37\n",
       "18778     146    1962       4  1022003434        38\n",
       "18707     146    3512       5  1022003471        39\n",
       "18868     146    1228       5  1022003471        40\n",
       "18754     146      17       3  1022003669        41\n",
       "18641     146    3097       4  1022003683        42\n",
       "18711     146    1912       5  1022003737         6\n",
       "18565     146     911       5  1022003755        43\n",
       "18820     146    1059       4  1022003755        44\n",
       "18828     146    2006       4  1022003781        45\n",
       "18764     146     342       3  1022003797        46\n",
       "18660     146    1721       4  1022003814        47\n",
       "18797     146     509       5  1022003814        48"
      ]
     },
     "execution_count": 61,
     "metadata": {},
     "output_type": "execute_result"
    }
   ],
   "source": [
    "tr_dataset = SessionDataset(tr)\n",
    "tr_dataset.df.head(50)"
   ]
  },
  {
   "cell_type": "code",
   "execution_count": 85,
   "id": "c16028cd",
   "metadata": {
    "scrolled": true
   },
   "outputs": [
    {
     "data": {
      "text/plain": [
       "array([   0,   17,   21,   29,   34,   35,   71,   73,   79,   96,  105,\n",
       "        116,  161,  171,  182,  201,  251,  269,  302,  304,  306,  326,\n",
       "        331,  333,  336,  383,  435,  436,  439,  470,  473,  849,  854,\n",
       "        873,  921,  926,  933,  943,  950,  987,  989, 1035, 1101, 1107,\n",
       "       1132, 1136, 1244, 1250, 1251, 1256, 1349, 1351, 1390, 1391, 1397,\n",
       "       1398, 1399, 1412, 1431, 1434, 1462, 1485, 1496, 1499, 1500, 1518,\n",
       "       1524, 1525, 1534, 1667, 1708, 1721, 1725, 1821, 1853, 1861, 1868,\n",
       "       1874, 1988, 1995, 2002, 2007, 2016, 2029, 2033, 2073, 2074, 2097,\n",
       "       2100, 2106, 2112, 2142, 2150, 2153, 2190, 2197, 2269, 2294, 2297,\n",
       "       2308, 2329, 2354, 2358, 2451, 2503, 2529, 2560, 2567, 2660, 2663,\n",
       "       2702, 2770, 2772, 2776, 2782, 2791, 2801, 2857, 2893, 2898, 2906,\n",
       "       2914, 2923, 3037, 3092, 3114, 3125, 3236, 3274, 3384, 3400, 3407,\n",
       "       3418, 3472, 3488, 3587, 3636, 3717, 3800, 3834, 3844, 3848, 3879,\n",
       "       3880, 3921, 3965, 3993, 4018, 4053, 4069, 4073, 4091, 4093, 4100,\n",
       "       4105, 4107, 4126, 4127, 4130, 4140, 4141, 4149, 4156, 4166, 4214,\n",
       "       4221, 4224, 4252, 4263, 4285, 4287, 4300, 4320, 4322, 4324, 4409,\n",
       "       4411, 4442, 4449, 4461, 4490, 4500, 4520, 4567, 4572, 4685, 4707,\n",
       "       4763, 4769, 4834, 4851, 4853, 4858, 4866, 4872, 4878, 4898, 4906,\n",
       "       4909, 4925, 5044, 5064, 5069, 5070, 5071, 5076, 5138, 5144, 5207,\n",
       "       5211, 5286, 5296, 5311, 5321, 5445, 5493, 5495, 5503, 5506, 5530,\n",
       "       5531, 5540, 5551, 5584, 5617, 5619, 5623, 5633, 5634, 5677, 5680,\n",
       "       5695, 5702, 5713, 5725, 5728, 5843, 5850, 5870, 5876, 5877, 5880,\n",
       "       5891, 5923, 5974, 5978, 5983, 6038, 6085, 6091, 6092, 6116, 6182,\n",
       "       6193, 6204, 6273, 6292, 6294, 6298, 6304, 6326, 6329, 6356, 6415,\n",
       "       6420, 6422, 6432, 6437, 6445, 6450, 6454, 6474, 6488, 6490, 6491,\n",
       "       6517, 6530, 6559, 6575, 6576, 6640, 6784, 6817, 6818, 6831, 6869,\n",
       "       6874, 6894, 6895, 6907, 6929, 6970, 7007, 7009, 7182, 7221, 7225,\n",
       "       7252, 7256, 7259, 7267, 7278, 7412, 7419, 7432, 7440, 7443, 7494,\n",
       "       7495, 7515, 7521, 7585, 7598, 7609, 7652, 7660, 7678, 7840, 7852,\n",
       "       7864, 7866, 7869, 7882, 7884, 7907, 7914, 7972, 7979, 7984, 7988,\n",
       "       8006, 8014, 8192, 8201, 8241, 8394, 8421, 8459, 8481, 8487, 8508,\n",
       "       8519, 8524, 8553, 8555, 8558, 8577, 8582, 8588, 8603, 8614, 8631,\n",
       "       8633, 8636, 8647, 8671, 8678, 8681, 8719, 8723, 8725, 8727, 8729,\n",
       "       8804, 8870, 8885, 8900, 8901, 8923, 8926, 8956, 8963, 8971, 8972,\n",
       "       8989, 9032, 9046, 9258, 9263, 9282, 9290, 9310, 9313, 9317, 9360,\n",
       "       9363, 9381, 9388, 9391, 9404, 9512], dtype=int32)"
      ]
     },
     "execution_count": 85,
     "metadata": {},
     "output_type": "execute_result"
    }
   ],
   "source": [
    "tr_dataset.click_offsets"
   ]
  },
  {
   "cell_type": "code",
   "execution_count": 86,
   "id": "446b6267",
   "metadata": {},
   "outputs": [
    {
     "data": {
      "text/plain": [
       "array([  0,   1,   2,   3,   4,   5,   6,   7,   8,   9,  10,  11,  12,\n",
       "        13,  14,  15,  16,  17,  18,  19,  20,  21,  22,  23,  24,  25,\n",
       "        26,  27,  28,  29,  30,  31,  32,  33,  34,  35,  36,  37,  38,\n",
       "        39,  40,  41,  42,  43,  44,  45,  46,  47,  48,  49,  50,  51,\n",
       "        52,  53,  54,  55,  56,  57,  58,  59,  60,  61,  62,  63,  64,\n",
       "        65,  66,  67,  68,  69,  70,  71,  72,  73,  74,  75,  76,  77,\n",
       "        78,  79,  80,  81,  82,  83,  84,  85,  86,  87,  88,  89,  90,\n",
       "        91,  92,  93,  94,  95,  96,  97,  98,  99, 100, 101, 102, 103,\n",
       "       104, 105, 106, 107, 108, 109, 110, 111, 112, 113, 114, 115, 116,\n",
       "       117, 118, 119, 120, 121, 122, 123, 124, 125, 126, 127, 128, 129,\n",
       "       130, 131, 132, 133, 134, 135, 136, 137, 138, 139, 140, 141, 142,\n",
       "       143, 144, 145, 146, 147, 148, 149, 150, 151, 152, 153, 154, 155,\n",
       "       156, 157, 158, 159, 160, 161, 162, 163, 164, 165, 166, 167, 168,\n",
       "       169, 170, 171, 172, 173, 174, 175, 176, 177, 178, 179, 180, 181,\n",
       "       182, 183, 184, 185, 186, 187, 188, 189, 190, 191, 192, 193, 194,\n",
       "       195, 196, 197, 198, 199, 200, 201, 202, 203, 204, 205, 206, 207,\n",
       "       208, 209, 210, 211, 212, 213, 214, 215, 216, 217, 218, 219, 220,\n",
       "       221, 222, 223, 224, 225, 226, 227, 228, 229, 230, 231, 232, 233,\n",
       "       234, 235, 236, 237, 238, 239, 240, 241, 242, 243, 244, 245, 246,\n",
       "       247, 248, 249, 250, 251, 252, 253, 254, 255, 256, 257, 258, 259,\n",
       "       260, 261, 262, 263, 264, 265, 266, 267, 268, 269, 270, 271, 272,\n",
       "       273, 274, 275, 276, 277, 278, 279, 280, 281, 282, 283, 284, 285,\n",
       "       286, 287, 288, 289, 290, 291, 292, 293, 294, 295, 296, 297, 298,\n",
       "       299, 300, 301, 302, 303, 304, 305, 306, 307, 308, 309, 310, 311,\n",
       "       312, 313, 314, 315, 316, 317, 318, 319, 320, 321, 322, 323, 324,\n",
       "       325, 326, 327, 328, 329, 330, 331, 332, 333, 334, 335, 336, 337,\n",
       "       338, 339, 340, 341, 342, 343, 344, 345, 346, 347, 348, 349, 350,\n",
       "       351, 352, 353, 354, 355, 356, 357, 358, 359, 360, 361, 362, 363,\n",
       "       364, 365, 366, 367, 368, 369, 370, 371, 372, 373, 374, 375, 376,\n",
       "       377, 378, 379, 380, 381, 382, 383, 384, 385, 386, 387, 388, 389])"
      ]
     },
     "execution_count": 86,
     "metadata": {},
     "output_type": "execute_result"
    }
   ],
   "source": [
    "tr_dataset.session_idx"
   ]
  },
  {
   "cell_type": "code",
   "execution_count": 49,
   "id": "61c4d90f",
   "metadata": {},
   "outputs": [],
   "source": [
    "class SessionDataLoader:\n",
    "    \"\"\"Credit to yhs-968/pyGRU4REC.\"\"\"\n",
    "\n",
    "    def __init__(self, dataset: SessionDataset, batch_size=50):\n",
    "        self.dataset = dataset\n",
    "        self.batch_size = batch_size\n",
    "\n",
    "    def __iter__(self):\n",
    "        \"\"\" Returns the iterator for producing session-parallel training mini-batches.\n",
    "        Yields:\n",
    "            input (B,):  Item indices that will be encoded as one-hot vectors later.\n",
    "            target (B,): a Variable that stores the target item indices\n",
    "            masks: Numpy array indicating the positions of the sessions to be terminated\n",
    "        \"\"\"\n",
    "\n",
    "        start, end, mask, last_session, finished = self.initialize()  # initialize 메소드에서 확인해주세요.\n",
    "        \"\"\"\n",
    "        start : Index Where Session Start\n",
    "        end : Index Where Session End\n",
    "        mask : indicator for the sessions to be terminated\n",
    "        \"\"\"\n",
    "\n",
    "        while not finished:\n",
    "            min_len = (end - start).min() - 1  # Shortest Length Among Sessions\n",
    "            for i in range(min_len):\n",
    "                # Build inputs & targets\n",
    "                inp = self.dataset.df['item_idx'].values[start + i]\n",
    "                target = self.dataset.df['item_idx'].values[start + i + 1]\n",
    "                yield inp, target, mask\n",
    "\n",
    "            start, end, mask, last_session, finished = self.update_status(start, end, min_len, last_session, finished)\n",
    "\n",
    "    def initialize(self):\n",
    "        first_iters = np.arange(self.batch_size)    # 첫 배치에 사용할 세션 Index를 가져옵니다.\n",
    "        last_session = self.batch_size - 1    # 마지막으로 다루고 있는 세션 Index를 저장해둡니다.\n",
    "        start = self.dataset.click_offsets[self.dataset.session_idx[first_iters]]       # data 상에서 session이 시작된 위치를 가져옵니다.\n",
    "        end = self.dataset.click_offsets[self.dataset.session_idx[first_iters] + 1]  # session이 끝난 위치 바로 다음 위치를 가져옵니다.\n",
    "        mask = np.array([])   # session의 모든 아이템을 다 돌은 경우 mask에 추가해줄 것입니다.\n",
    "        finished = False         # data를 전부 돌았는지 기록하기 위한 변수입니다.\n",
    "        return start, end, mask, last_session, finished\n",
    "\n",
    "    def update_status(self, start: np.ndarray, end: np.ndarray, min_len: int, last_session: int, finished: bool):  \n",
    "        # 다음 배치 데이터를 생성하기 위해 상태를 update합니다.\n",
    "        \n",
    "        start += min_len   # __iter__에서 min_len 만큼 for문을 돌았으므로 start를 min_len 만큼 더해줍니다.\n",
    "        mask = np.arange(self.batch_size)[(end - start) == 1]  \n",
    "        # end는 다음 세션이 시작되는 위치인데 start와 한 칸 차이난다는 것은 session이 끝났다는 뜻입니다. mask에 기록해줍니다.\n",
    "\n",
    "        for i, idx in enumerate(mask, start=1):  # mask에 추가된 세션 개수만큼 새로운 세션을 돌것입니다.\n",
    "            new_session = last_session + i  \n",
    "            if new_session > self.dataset.session_idx[-1]:  # 만약 새로운 세션이 마지막 세션 index보다 크다면 모든 학습데이터를 돈 것입니다.\n",
    "                finished = True\n",
    "                break\n",
    "            # update the next starting/ending point\n",
    "            start[idx] = self.dataset.click_offsets[self.dataset.session_idx[new_session]]     # 종료된 세션 대신 새로운 세션의 시작점을 기록합니다.\n",
    "            end[idx] = self.dataset.click_offsets[self.dataset.session_idx[new_session] + 1]\n",
    "\n",
    "        last_session += len(mask)  # 마지막 세션의 위치를 기록해둡니다.\n",
    "        return start, end, mask, last_session, finished"
   ]
  },
  {
   "cell_type": "code",
   "execution_count": 89,
   "id": "53159d6f",
   "metadata": {},
   "outputs": [
    {
     "data": {
      "text/html": [
       "<div>\n",
       "<style scoped>\n",
       "    .dataframe tbody tr th:only-of-type {\n",
       "        vertical-align: middle;\n",
       "    }\n",
       "\n",
       "    .dataframe tbody tr th {\n",
       "        vertical-align: top;\n",
       "    }\n",
       "\n",
       "    .dataframe thead th {\n",
       "        text-align: right;\n",
       "    }\n",
       "</style>\n",
       "<table border=\"1\" class=\"dataframe\">\n",
       "  <thead>\n",
       "    <tr style=\"text-align: right;\">\n",
       "      <th></th>\n",
       "      <th>UserId</th>\n",
       "      <th>ItemId</th>\n",
       "      <th>Rating</th>\n",
       "      <th>Time</th>\n",
       "      <th>item_idx</th>\n",
       "    </tr>\n",
       "  </thead>\n",
       "  <tbody>\n",
       "    <tr>\n",
       "      <th>5170</th>\n",
       "      <td>36</td>\n",
       "      <td>1387</td>\n",
       "      <td>5</td>\n",
       "      <td>1015904819</td>\n",
       "      <td>0</td>\n",
       "    </tr>\n",
       "    <tr>\n",
       "      <th>5267</th>\n",
       "      <td>36</td>\n",
       "      <td>1201</td>\n",
       "      <td>4</td>\n",
       "      <td>1015904819</td>\n",
       "      <td>1</td>\n",
       "    </tr>\n",
       "    <tr>\n",
       "      <th>5122</th>\n",
       "      <td>36</td>\n",
       "      <td>1291</td>\n",
       "      <td>5</td>\n",
       "      <td>1015904836</td>\n",
       "      <td>2</td>\n",
       "    </tr>\n",
       "    <tr>\n",
       "      <th>5123</th>\n",
       "      <td>36</td>\n",
       "      <td>2167</td>\n",
       "      <td>5</td>\n",
       "      <td>1015904905</td>\n",
       "      <td>3</td>\n",
       "    </tr>\n",
       "    <tr>\n",
       "      <th>5290</th>\n",
       "      <td>36</td>\n",
       "      <td>2951</td>\n",
       "      <td>4</td>\n",
       "      <td>1015904905</td>\n",
       "      <td>4</td>\n",
       "    </tr>\n",
       "    <tr>\n",
       "      <th>5359</th>\n",
       "      <td>36</td>\n",
       "      <td>2115</td>\n",
       "      <td>5</td>\n",
       "      <td>1015904905</td>\n",
       "      <td>5</td>\n",
       "    </tr>\n",
       "    <tr>\n",
       "      <th>5073</th>\n",
       "      <td>36</td>\n",
       "      <td>1912</td>\n",
       "      <td>5</td>\n",
       "      <td>1015904924</td>\n",
       "      <td>6</td>\n",
       "    </tr>\n",
       "    <tr>\n",
       "      <th>5113</th>\n",
       "      <td>36</td>\n",
       "      <td>2662</td>\n",
       "      <td>3</td>\n",
       "      <td>1015904924</td>\n",
       "      <td>7</td>\n",
       "    </tr>\n",
       "    <tr>\n",
       "      <th>5366</th>\n",
       "      <td>36</td>\n",
       "      <td>2985</td>\n",
       "      <td>4</td>\n",
       "      <td>1015904941</td>\n",
       "      <td>8</td>\n",
       "    </tr>\n",
       "    <tr>\n",
       "      <th>5145</th>\n",
       "      <td>36</td>\n",
       "      <td>198</td>\n",
       "      <td>5</td>\n",
       "      <td>1015904988</td>\n",
       "      <td>9</td>\n",
       "    </tr>\n",
       "    <tr>\n",
       "      <th>5296</th>\n",
       "      <td>36</td>\n",
       "      <td>1147</td>\n",
       "      <td>4</td>\n",
       "      <td>1015905111</td>\n",
       "      <td>10</td>\n",
       "    </tr>\n",
       "    <tr>\n",
       "      <th>5034</th>\n",
       "      <td>36</td>\n",
       "      <td>581</td>\n",
       "      <td>4</td>\n",
       "      <td>1015905127</td>\n",
       "      <td>11</td>\n",
       "    </tr>\n",
       "    <tr>\n",
       "      <th>5060</th>\n",
       "      <td>36</td>\n",
       "      <td>1191</td>\n",
       "      <td>4</td>\n",
       "      <td>1015905249</td>\n",
       "      <td>12</td>\n",
       "    </tr>\n",
       "    <tr>\n",
       "      <th>5025</th>\n",
       "      <td>36</td>\n",
       "      <td>3359</td>\n",
       "      <td>5</td>\n",
       "      <td>1015905485</td>\n",
       "      <td>13</td>\n",
       "    </tr>\n",
       "    <tr>\n",
       "      <th>5325</th>\n",
       "      <td>36</td>\n",
       "      <td>553</td>\n",
       "      <td>4</td>\n",
       "      <td>1015905626</td>\n",
       "      <td>14</td>\n",
       "    </tr>\n",
       "  </tbody>\n",
       "</table>\n",
       "</div>"
      ],
      "text/plain": [
       "      UserId  ItemId  Rating        Time  item_idx\n",
       "5170      36    1387       5  1015904819         0\n",
       "5267      36    1201       4  1015904819         1\n",
       "5122      36    1291       5  1015904836         2\n",
       "5123      36    2167       5  1015904905         3\n",
       "5290      36    2951       4  1015904905         4\n",
       "5359      36    2115       5  1015904905         5\n",
       "5073      36    1912       5  1015904924         6\n",
       "5113      36    2662       3  1015904924         7\n",
       "5366      36    2985       4  1015904941         8\n",
       "5145      36     198       5  1015904988         9\n",
       "5296      36    1147       4  1015905111        10\n",
       "5034      36     581       4  1015905127        11\n",
       "5060      36    1191       4  1015905249        12\n",
       "5025      36    3359       5  1015905485        13\n",
       "5325      36     553       4  1015905626        14"
      ]
     },
     "execution_count": 89,
     "metadata": {},
     "output_type": "execute_result"
    }
   ],
   "source": [
    "tr_data_loader = SessionDataLoader(tr_dataset, batch_size=2)\n",
    "tr_dataset.df.head(15)"
   ]
  },
  {
   "cell_type": "code",
   "execution_count": 90,
   "id": "126f2dad",
   "metadata": {},
   "outputs": [],
   "source": [
    "iter_ex = iter(tr_data_loader)"
   ]
  },
  {
   "cell_type": "code",
   "execution_count": 91,
   "id": "d4213345",
   "metadata": {},
   "outputs": [
    {
     "name": "stdout",
     "output_type": "stream",
     "text": [
      "Model Input Item Idx are : [ 0 17]\n",
      "Label Item Idx are :       [ 1 18]\n",
      "Previous Masked Input Idx are []\n"
     ]
    }
   ],
   "source": [
    "inputs, labels, mask =  next(iter_ex)\n",
    "print(f'Model Input Item Idx are : {inputs}')\n",
    "print(f'Label Item Idx are : {\"\":5} {labels}')\n",
    "print(f'Previous Masked Input Idx are {mask}')"
   ]
  },
  {
   "cell_type": "code",
   "execution_count": 92,
   "id": "0d66d55d",
   "metadata": {},
   "outputs": [],
   "source": [
    "def mrr_k(pred, truth: int, k: int):\n",
    "    indexing = np.where(pred[:k] == truth)[0]\n",
    "    if len(indexing) > 0:\n",
    "        return 1 / (indexing[0] + 1)\n",
    "    else:\n",
    "        return 0\n",
    "\n",
    "\n",
    "def recall_k(pred, truth: int, k: int) -> int:\n",
    "    answer = truth in pred[:k]\n",
    "    return int(answer)"
   ]
  },
  {
   "cell_type": "code",
   "execution_count": 93,
   "id": "e2cb479a",
   "metadata": {},
   "outputs": [],
   "source": [
    "# Model architecture\n",
    "\n",
    "import numpy as np\n",
    "import tensorflow as tf\n",
    "from tensorflow.keras.layers import Input, Dense, Dropout, GRU\n",
    "from tensorflow.keras.losses import categorical_crossentropy\n",
    "from tensorflow.keras.models import Model\n",
    "from tensorflow.keras.optimizers import Adam\n",
    "from tensorflow.keras.utils import to_categorical\n",
    "from tqdm import tqdm"
   ]
  },
  {
   "cell_type": "code",
   "execution_count": 94,
   "id": "4584aa68",
   "metadata": {},
   "outputs": [],
   "source": [
    "def create_model(args):\n",
    "    inputs = Input(batch_shape=(args.batch_size, 1, args.num_items))\n",
    "    gru, _ = GRU(args.hsz, stateful=True, return_state=True, name='GRU')(inputs)\n",
    "    dropout = Dropout(args.drop_rate)(gru)\n",
    "    predictions = Dense(args.num_items, activation='softmax')(dropout)\n",
    "    model = Model(inputs=inputs, outputs=[predictions])\n",
    "    model.compile(loss=categorical_crossentropy, optimizer=Adam(args.lr), metrics=['accuracy'])\n",
    "    model.summary()\n",
    "    return model"
   ]
  },
  {
   "cell_type": "code",
   "execution_count": 103,
   "id": "9fb171a6",
   "metadata": {},
   "outputs": [],
   "source": [
    "class Args:\n",
    "    def __init__(self, tr, val, test, batch_size, hsz, drop_rate, lr, epochs, k):\n",
    "        self.tr = tr\n",
    "        self.val = val\n",
    "        self.test = test\n",
    "        self.num_items = tr['ItemId'].nunique()\n",
    "        self.num_sessions = tr['UserId'].nunique()\n",
    "        self.batch_size = batch_size\n",
    "        self.hsz = hsz\n",
    "        self.drop_rate = drop_rate\n",
    "        self.lr = lr\n",
    "        self.epochs = epochs\n",
    "        self.k = k\n",
    "\n",
    "args = Args(tr, val, test, batch_size=50, hsz=50, drop_rate=0.1, lr=0.001, epochs=20, k=20)"
   ]
  },
  {
   "cell_type": "code",
   "execution_count": 104,
   "id": "76f46c41",
   "metadata": {},
   "outputs": [
    {
     "name": "stdout",
     "output_type": "stream",
     "text": [
      "Model: \"model_5\"\n",
      "_________________________________________________________________\n",
      "Layer (type)                 Output Shape              Param #   \n",
      "=================================================================\n",
      "input_6 (InputLayer)         [(50, 1, 1504)]           0         \n",
      "_________________________________________________________________\n",
      "GRU (GRU)                    [(50, 50), (50, 50)]      233400    \n",
      "_________________________________________________________________\n",
      "dropout_5 (Dropout)          (50, 50)                  0         \n",
      "_________________________________________________________________\n",
      "dense_5 (Dense)              (50, 1504)                76704     \n",
      "=================================================================\n",
      "Total params: 310,104\n",
      "Trainable params: 310,104\n",
      "Non-trainable params: 0\n",
      "_________________________________________________________________\n"
     ]
    }
   ],
   "source": [
    "model = create_model(args)"
   ]
  },
  {
   "cell_type": "code",
   "execution_count": 105,
   "id": "f0384d0a",
   "metadata": {},
   "outputs": [],
   "source": [
    "# train 셋으로 학습하면서 valid 셋으로 검증합니다.\n",
    "def train_model(model, args):\n",
    "    train_dataset = SessionDataset(args.tr)\n",
    "    train_loader = SessionDataLoader(train_dataset, batch_size=args.batch_size)\n",
    "\n",
    "    for epoch in range(1, args.epochs + 1):\n",
    "        total_step = len(args.tr) - args.tr['UserId'].nunique()\n",
    "        tr_loader = tqdm(train_loader, total=total_step // args.batch_size, desc='Train', mininterval=1)\n",
    "        for feat, target, mask in tr_loader:\n",
    "            reset_hidden_states(model, mask)  # 종료된 session은 hidden_state를 초기화합니다. 아래 메서드에서 확인해주세요.\n",
    "\n",
    "            input_ohe = to_categorical(feat, num_classes=args.num_items)\n",
    "            input_ohe = np.expand_dims(input_ohe, axis=1)\n",
    "            target_ohe = to_categorical(target, num_classes=args.num_items)\n",
    "\n",
    "            result = model.train_on_batch(input_ohe, target_ohe)\n",
    "            tr_loader.set_postfix(train_loss=result[0], accuracy = result[1])\n",
    "\n",
    "        val_recall, val_mrr = get_metrics(args.val, model, args, args.k)  # valid set에 대해 검증합니다.\n",
    "\n",
    "        print(f\"\\t - Recall@{args.k} epoch {epoch}: {val_recall:3f}\")\n",
    "        print(f\"\\t - MRR@{args.k}    epoch {epoch}: {val_mrr:3f}\\n\")\n",
    "\n",
    "\n",
    "def reset_hidden_states(model, mask):\n",
    "    gru_layer = model.get_layer(name='GRU')  # model에서 gru layer를 가져옵니다.\n",
    "    hidden_states = gru_layer.states[0].numpy()  # gru_layer의 parameter를 가져옵니다.\n",
    "    for elt in mask:  # mask된 인덱스 즉, 종료된 세션의 인덱스를 돌면서\n",
    "        hidden_states[elt, :] = 0  # parameter를 초기화 합니다.\n",
    "    gru_layer.reset_states(states=hidden_states)\n",
    "\n",
    "\n",
    "def get_metrics(data, model, args, k: int):  # valid셋과 test셋을 평가하는 코드입니다. \n",
    "                                             # train과 거의 같지만 mrr, recall을 구하는 라인이 있습니다.\n",
    "    dataset = SessionDataset(data)\n",
    "    loader = SessionDataLoader(dataset, batch_size=args.batch_size)\n",
    "    recall_list, mrr_list = [], []\n",
    "\n",
    "    total_step = len(data) - data['UserId'].nunique()\n",
    "    for inputs, label, mask in tqdm(loader, total=total_step // args.batch_size, desc='Evaluation', mininterval=1):\n",
    "        reset_hidden_states(model, mask)\n",
    "        input_ohe = to_categorical(inputs, num_classes=args.num_items)\n",
    "        input_ohe = np.expand_dims(input_ohe, axis=1)\n",
    "\n",
    "        pred = model.predict(input_ohe, batch_size=args.batch_size)\n",
    "        pred_arg = tf.argsort(pred, direction='DESCENDING')  # softmax 값이 큰 순서대로 sorting 합니다.\n",
    "\n",
    "        length = len(inputs)\n",
    "        recall_list.extend([recall_k(pred_arg[i], label[i], k) for i in range(length)])\n",
    "        mrr_list.extend([mrr_k(pred_arg[i], label[i], k) for i in range(length)])\n",
    "\n",
    "    recall, mrr = np.mean(recall_list), np.mean(mrr_list)\n",
    "    return recall, mrr"
   ]
  },
  {
   "cell_type": "code",
   "execution_count": 106,
   "id": "858e8e02",
   "metadata": {},
   "outputs": [
    {
     "name": "stderr",
     "output_type": "stream",
     "text": [
      "Train:  79%|███████▊  | 143/182 [00:02<00:00, 61.96it/s, accuracy=0, train_loss=7.18]   \n",
      "Evaluation:  57%|█████▋    | 39/69 [00:10<00:07,  3.89it/s]\n"
     ]
    },
    {
     "name": "stdout",
     "output_type": "stream",
     "text": [
      "\t - Recall@20 epoch 1: 0.046154\n",
      "\t - MRR@20    epoch 1: 0.007793\n",
      "\n"
     ]
    },
    {
     "name": "stderr",
     "output_type": "stream",
     "text": [
      "Train:  79%|███████▊  | 143/182 [00:01<00:00, 108.75it/s, accuracy=0, train_loss=7.11]   \n",
      "Evaluation:  57%|█████▋    | 39/69 [00:09<00:07,  4.10it/s]\n"
     ]
    },
    {
     "name": "stdout",
     "output_type": "stream",
     "text": [
      "\t - Recall@20 epoch 2: 0.043077\n",
      "\t - MRR@20    epoch 2: 0.007572\n",
      "\n"
     ]
    },
    {
     "name": "stderr",
     "output_type": "stream",
     "text": [
      "Train:  79%|███████▊  | 143/182 [00:01<00:00, 106.90it/s, accuracy=0, train_loss=7.07]   \n",
      "Evaluation:  57%|█████▋    | 39/69 [00:09<00:07,  4.06it/s]\n"
     ]
    },
    {
     "name": "stdout",
     "output_type": "stream",
     "text": [
      "\t - Recall@20 epoch 3: 0.042051\n",
      "\t - MRR@20    epoch 3: 0.007920\n",
      "\n"
     ]
    },
    {
     "name": "stderr",
     "output_type": "stream",
     "text": [
      "Train:  79%|███████▊  | 143/182 [00:01<00:00, 109.80it/s, accuracy=0, train_loss=7.02]   \n",
      "Evaluation:  57%|█████▋    | 39/69 [00:09<00:07,  4.07it/s]\n"
     ]
    },
    {
     "name": "stdout",
     "output_type": "stream",
     "text": [
      "\t - Recall@20 epoch 4: 0.044615\n",
      "\t - MRR@20    epoch 4: 0.008364\n",
      "\n"
     ]
    },
    {
     "name": "stderr",
     "output_type": "stream",
     "text": [
      "Train:  79%|███████▊  | 143/182 [00:01<00:00, 106.71it/s, accuracy=0, train_loss=6.98]   \n",
      "Evaluation:  57%|█████▋    | 39/69 [00:09<00:07,  4.09it/s]\n"
     ]
    },
    {
     "name": "stdout",
     "output_type": "stream",
     "text": [
      "\t - Recall@20 epoch 5: 0.045641\n",
      "\t - MRR@20    epoch 5: 0.007698\n",
      "\n"
     ]
    },
    {
     "name": "stderr",
     "output_type": "stream",
     "text": [
      "Train:  79%|███████▊  | 143/182 [00:01<00:00, 105.21it/s, accuracy=0, train_loss=6.94]   \n",
      "Evaluation:  57%|█████▋    | 39/69 [00:09<00:07,  4.06it/s]\n"
     ]
    },
    {
     "name": "stdout",
     "output_type": "stream",
     "text": [
      "\t - Recall@20 epoch 6: 0.046154\n",
      "\t - MRR@20    epoch 6: 0.009197\n",
      "\n"
     ]
    },
    {
     "name": "stderr",
     "output_type": "stream",
     "text": [
      "Train:  79%|███████▊  | 143/182 [00:01<00:00, 109.04it/s, accuracy=0, train_loss=6.86]   \n",
      "Evaluation:  57%|█████▋    | 39/69 [00:09<00:07,  4.05it/s]\n"
     ]
    },
    {
     "name": "stdout",
     "output_type": "stream",
     "text": [
      "\t - Recall@20 epoch 7: 0.042564\n",
      "\t - MRR@20    epoch 7: 0.009139\n",
      "\n"
     ]
    },
    {
     "name": "stderr",
     "output_type": "stream",
     "text": [
      "Train:  79%|███████▊  | 143/182 [00:01<00:00, 107.07it/s, accuracy=0, train_loss=6.8]    \n",
      "Evaluation:  57%|█████▋    | 39/69 [00:09<00:07,  4.05it/s]\n"
     ]
    },
    {
     "name": "stdout",
     "output_type": "stream",
     "text": [
      "\t - Recall@20 epoch 8: 0.046667\n",
      "\t - MRR@20    epoch 8: 0.009104\n",
      "\n"
     ]
    },
    {
     "name": "stderr",
     "output_type": "stream",
     "text": [
      "Train:  79%|███████▊  | 143/182 [00:01<00:00, 107.80it/s, accuracy=0, train_loss=6.71]   \n",
      "Evaluation:  57%|█████▋    | 39/69 [00:09<00:07,  4.03it/s]\n"
     ]
    },
    {
     "name": "stdout",
     "output_type": "stream",
     "text": [
      "\t - Recall@20 epoch 9: 0.047179\n",
      "\t - MRR@20    epoch 9: 0.009064\n",
      "\n"
     ]
    },
    {
     "name": "stderr",
     "output_type": "stream",
     "text": [
      "Train:  79%|███████▊  | 143/182 [00:01<00:00, 105.34it/s, accuracy=0, train_loss=6.62]   \n",
      "Evaluation:  57%|█████▋    | 39/69 [00:09<00:07,  4.08it/s]\n"
     ]
    },
    {
     "name": "stdout",
     "output_type": "stream",
     "text": [
      "\t - Recall@20 epoch 10: 0.045128\n",
      "\t - MRR@20    epoch 10: 0.008221\n",
      "\n"
     ]
    },
    {
     "name": "stderr",
     "output_type": "stream",
     "text": [
      "Train:  79%|███████▊  | 143/182 [00:01<00:00, 107.22it/s, accuracy=0.02, train_loss=6.51]\n",
      "Evaluation:  57%|█████▋    | 39/69 [00:09<00:07,  4.02it/s]\n"
     ]
    },
    {
     "name": "stdout",
     "output_type": "stream",
     "text": [
      "\t - Recall@20 epoch 11: 0.045641\n",
      "\t - MRR@20    epoch 11: 0.010057\n",
      "\n"
     ]
    },
    {
     "name": "stderr",
     "output_type": "stream",
     "text": [
      "Train:  79%|███████▊  | 143/182 [00:01<00:00, 110.07it/s, accuracy=0.02, train_loss=6.43]\n",
      "Evaluation:  57%|█████▋    | 39/69 [00:09<00:07,  4.08it/s]\n"
     ]
    },
    {
     "name": "stdout",
     "output_type": "stream",
     "text": [
      "\t - Recall@20 epoch 12: 0.044103\n",
      "\t - MRR@20    epoch 12: 0.010970\n",
      "\n"
     ]
    },
    {
     "name": "stderr",
     "output_type": "stream",
     "text": [
      "Train:  79%|███████▊  | 143/182 [00:01<00:00, 110.29it/s, accuracy=0.08, train_loss=6.28]\n",
      "Evaluation:  57%|█████▋    | 39/69 [00:09<00:07,  4.06it/s]\n"
     ]
    },
    {
     "name": "stdout",
     "output_type": "stream",
     "text": [
      "\t - Recall@20 epoch 13: 0.045128\n",
      "\t - MRR@20    epoch 13: 0.012254\n",
      "\n"
     ]
    },
    {
     "name": "stderr",
     "output_type": "stream",
     "text": [
      "Train:  79%|███████▊  | 143/182 [00:01<00:00, 109.03it/s, accuracy=0.1, train_loss=6.16] \n",
      "Evaluation:  57%|█████▋    | 39/69 [00:09<00:07,  4.03it/s]\n"
     ]
    },
    {
     "name": "stdout",
     "output_type": "stream",
     "text": [
      "\t - Recall@20 epoch 14: 0.044615\n",
      "\t - MRR@20    epoch 14: 0.012307\n",
      "\n"
     ]
    },
    {
     "name": "stderr",
     "output_type": "stream",
     "text": [
      "Train:  79%|███████▊  | 143/182 [00:01<00:00, 109.04it/s, accuracy=0.12, train_loss=6.01]\n",
      "Evaluation:  57%|█████▋    | 39/69 [00:09<00:07,  4.04it/s]\n"
     ]
    },
    {
     "name": "stdout",
     "output_type": "stream",
     "text": [
      "\t - Recall@20 epoch 15: 0.042564\n",
      "\t - MRR@20    epoch 15: 0.012273\n",
      "\n"
     ]
    },
    {
     "name": "stderr",
     "output_type": "stream",
     "text": [
      "Train:  79%|███████▊  | 143/182 [00:01<00:00, 105.72it/s, accuracy=0.16, train_loss=5.83]\n",
      "Evaluation:  57%|█████▋    | 39/69 [00:09<00:07,  4.04it/s]\n"
     ]
    },
    {
     "name": "stdout",
     "output_type": "stream",
     "text": [
      "\t - Recall@20 epoch 16: 0.042051\n",
      "\t - MRR@20    epoch 16: 0.013124\n",
      "\n"
     ]
    },
    {
     "name": "stderr",
     "output_type": "stream",
     "text": [
      "Train:  79%|███████▊  | 143/182 [00:01<00:00, 106.85it/s, accuracy=0.18, train_loss=5.71]\n",
      "Evaluation:  57%|█████▋    | 39/69 [00:09<00:07,  4.00it/s]\n"
     ]
    },
    {
     "name": "stdout",
     "output_type": "stream",
     "text": [
      "\t - Recall@20 epoch 17: 0.046667\n",
      "\t - MRR@20    epoch 17: 0.013993\n",
      "\n"
     ]
    },
    {
     "name": "stderr",
     "output_type": "stream",
     "text": [
      "Train:  79%|███████▊  | 143/182 [00:01<00:00, 105.89it/s, accuracy=0.2, train_loss=5.48] \n",
      "Evaluation:  57%|█████▋    | 39/69 [00:09<00:07,  4.03it/s]\n"
     ]
    },
    {
     "name": "stdout",
     "output_type": "stream",
     "text": [
      "\t - Recall@20 epoch 18: 0.047179\n",
      "\t - MRR@20    epoch 18: 0.014773\n",
      "\n"
     ]
    },
    {
     "name": "stderr",
     "output_type": "stream",
     "text": [
      "Train:  79%|███████▊  | 143/182 [00:01<00:00, 105.23it/s, accuracy=0.22, train_loss=5.32]\n",
      "Evaluation:  57%|█████▋    | 39/69 [00:09<00:07,  4.05it/s]\n"
     ]
    },
    {
     "name": "stdout",
     "output_type": "stream",
     "text": [
      "\t - Recall@20 epoch 19: 0.047179\n",
      "\t - MRR@20    epoch 19: 0.015358\n",
      "\n"
     ]
    },
    {
     "name": "stderr",
     "output_type": "stream",
     "text": [
      "Train:  79%|███████▊  | 143/182 [00:01<00:00, 107.43it/s, accuracy=0.3, train_loss=5.19] \n",
      "Evaluation:  57%|█████▋    | 39/69 [00:09<00:07,  4.10it/s]"
     ]
    },
    {
     "name": "stdout",
     "output_type": "stream",
     "text": [
      "\t - Recall@20 epoch 20: 0.047179\n",
      "\t - MRR@20    epoch 20: 0.015610\n",
      "\n"
     ]
    },
    {
     "name": "stderr",
     "output_type": "stream",
     "text": [
      "\n"
     ]
    }
   ],
   "source": [
    "train_model(model, args)"
   ]
  },
  {
   "cell_type": "code",
   "execution_count": 109,
   "id": "9e46236e",
   "metadata": {
    "scrolled": false
   },
   "outputs": [
    {
     "name": "stderr",
     "output_type": "stream",
     "text": [
      "Train:  79%|███████▊  | 143/182 [00:01<00:00, 104.49it/s, accuracy=0.28, train_loss=4.91]\n",
      "Evaluation:  57%|█████▋    | 39/69 [00:06<00:04,  6.35it/s]\n"
     ]
    },
    {
     "name": "stdout",
     "output_type": "stream",
     "text": [
      "\t - Recall@10 epoch 1: 0.027179\n",
      "\t - MRR@10    epoch 1: 0.014231\n",
      "\n"
     ]
    },
    {
     "name": "stderr",
     "output_type": "stream",
     "text": [
      "Train:  79%|███████▊  | 143/182 [00:01<00:00, 107.33it/s, accuracy=0.3, train_loss=4.81] \n",
      "Evaluation:  57%|█████▋    | 39/69 [00:06<00:04,  6.44it/s]\n"
     ]
    },
    {
     "name": "stdout",
     "output_type": "stream",
     "text": [
      "\t - Recall@10 epoch 2: 0.027692\n",
      "\t - MRR@10    epoch 2: 0.014347\n",
      "\n"
     ]
    },
    {
     "name": "stderr",
     "output_type": "stream",
     "text": [
      "Train:  79%|███████▊  | 143/182 [00:01<00:00, 109.44it/s, accuracy=0.28, train_loss=4.6] \n",
      "Evaluation:  57%|█████▋    | 39/69 [00:06<00:04,  6.37it/s]\n"
     ]
    },
    {
     "name": "stdout",
     "output_type": "stream",
     "text": [
      "\t - Recall@10 epoch 3: 0.028718\n",
      "\t - MRR@10    epoch 3: 0.014229\n",
      "\n"
     ]
    },
    {
     "name": "stderr",
     "output_type": "stream",
     "text": [
      "Train:  79%|███████▊  | 143/182 [00:01<00:00, 107.56it/s, accuracy=0.38, train_loss=4.48]\n",
      "Evaluation:  57%|█████▋    | 39/69 [00:06<00:04,  6.44it/s]\n"
     ]
    },
    {
     "name": "stdout",
     "output_type": "stream",
     "text": [
      "\t - Recall@10 epoch 4: 0.030256\n",
      "\t - MRR@10    epoch 4: 0.014082\n",
      "\n"
     ]
    },
    {
     "name": "stderr",
     "output_type": "stream",
     "text": [
      "Train:  79%|███████▊  | 143/182 [00:01<00:00, 103.97it/s, accuracy=0.36, train_loss=4.18]\n",
      "Evaluation:  57%|█████▋    | 39/69 [00:06<00:04,  6.40it/s]\n"
     ]
    },
    {
     "name": "stdout",
     "output_type": "stream",
     "text": [
      "\t - Recall@10 epoch 5: 0.030256\n",
      "\t - MRR@10    epoch 5: 0.013638\n",
      "\n"
     ]
    },
    {
     "name": "stderr",
     "output_type": "stream",
     "text": [
      "Train:  79%|███████▊  | 143/182 [00:01<00:00, 105.18it/s, accuracy=0.4, train_loss=4.09] \n",
      "Evaluation:  57%|█████▋    | 39/69 [00:06<00:04,  6.26it/s]\n"
     ]
    },
    {
     "name": "stdout",
     "output_type": "stream",
     "text": [
      "\t - Recall@10 epoch 6: 0.031795\n",
      "\t - MRR@10    epoch 6: 0.014417\n",
      "\n"
     ]
    },
    {
     "name": "stderr",
     "output_type": "stream",
     "text": [
      "Train:  79%|███████▊  | 143/182 [00:01<00:00, 105.62it/s, accuracy=0.42, train_loss=3.94]\n",
      "Evaluation:  57%|█████▋    | 39/69 [00:06<00:04,  6.21it/s]\n"
     ]
    },
    {
     "name": "stdout",
     "output_type": "stream",
     "text": [
      "\t - Recall@10 epoch 7: 0.032308\n",
      "\t - MRR@10    epoch 7: 0.014155\n",
      "\n"
     ]
    },
    {
     "name": "stderr",
     "output_type": "stream",
     "text": [
      "Train:  79%|███████▊  | 143/182 [00:01<00:00, 106.15it/s, accuracy=0.44, train_loss=3.78]\n",
      "Evaluation:  57%|█████▋    | 39/69 [00:06<00:04,  6.25it/s]\n"
     ]
    },
    {
     "name": "stdout",
     "output_type": "stream",
     "text": [
      "\t - Recall@10 epoch 8: 0.032821\n",
      "\t - MRR@10    epoch 8: 0.014309\n",
      "\n"
     ]
    },
    {
     "name": "stderr",
     "output_type": "stream",
     "text": [
      "Train:  79%|███████▊  | 143/182 [00:01<00:00, 105.98it/s, accuracy=0.44, train_loss=3.54]\n",
      "Evaluation:  57%|█████▋    | 39/69 [00:06<00:04,  6.48it/s]\n"
     ]
    },
    {
     "name": "stdout",
     "output_type": "stream",
     "text": [
      "\t - Recall@10 epoch 9: 0.032308\n",
      "\t - MRR@10    epoch 9: 0.014157\n",
      "\n"
     ]
    },
    {
     "name": "stderr",
     "output_type": "stream",
     "text": [
      "Train:  79%|███████▊  | 143/182 [00:01<00:00, 106.91it/s, accuracy=0.42, train_loss=3.43]\n",
      "Evaluation:  57%|█████▋    | 39/69 [00:06<00:04,  6.01it/s]"
     ]
    },
    {
     "name": "stdout",
     "output_type": "stream",
     "text": [
      "\t - Recall@10 epoch 10: 0.032821\n",
      "\t - MRR@10    epoch 10: 0.014242\n",
      "\n"
     ]
    },
    {
     "name": "stderr",
     "output_type": "stream",
     "text": [
      "\n"
     ]
    }
   ],
   "source": [
    "# 1. Recall 및 MRR 값이 매우 안좋다 하이퍼 파라미터 변경\n",
    "args = Args(tr, val, test, batch_size=50, hsz=100, drop_rate=0.2, lr=0.01, epochs=10, k=10)\n",
    "train_model(model, args)"
   ]
  },
  {
   "cell_type": "markdown",
   "id": "104961e7",
   "metadata": {},
   "source": [
    "- 리콜과 Mrr 값이 학습을 진행할수록 좋아지는 것은 확인하였으나 하이퍼 파라미터를 변경하여 보아도 값자체가 너무 않좋다."
   ]
  },
  {
   "cell_type": "code",
   "execution_count": 117,
   "id": "0463ff80",
   "metadata": {},
   "outputs": [],
   "source": [
    "#2.  모델 옵티마이저를 나담으로 변경\n",
    "from tensorflow.keras.optimizers import Nadam\n",
    "\n",
    "def create_model(args):\n",
    "    inputs = Input(batch_shape=(args.batch_size, 1, args.num_items))\n",
    "    gru, _ = GRU(args.hsz, stateful=True, return_state=True, name='GRU')(inputs)\n",
    "    dropout = Dropout(args.drop_rate)(gru)\n",
    "    predictions = Dense(args.num_items, activation='softmax')(dropout)\n",
    "    model = Model(inputs=inputs, outputs=[predictions])\n",
    "    model.compile(loss=categorical_crossentropy, optimizer=Nadam(args.lr), metrics=['accuracy'])\n",
    "    model.summary()\n",
    "    return model"
   ]
  },
  {
   "cell_type": "code",
   "execution_count": 120,
   "id": "bd7f9974",
   "metadata": {},
   "outputs": [
    {
     "name": "stderr",
     "output_type": "stream",
     "text": [
      "Train:  79%|███████▊  | 143/182 [00:01<00:00, 104.87it/s, accuracy=0.46, train_loss=3.28]\n",
      "Evaluation:  57%|█████▋    | 39/69 [00:06<00:04,  6.30it/s]\n"
     ]
    },
    {
     "name": "stdout",
     "output_type": "stream",
     "text": [
      "\t - Recall@10 epoch 1: 0.032821\n",
      "\t - MRR@10    epoch 1: 0.014206\n",
      "\n"
     ]
    },
    {
     "name": "stderr",
     "output_type": "stream",
     "text": [
      "Train:  79%|███████▊  | 143/182 [00:01<00:00, 102.76it/s, accuracy=0.44, train_loss=3.19]\n",
      "Evaluation:  57%|█████▋    | 39/69 [00:06<00:04,  6.37it/s]\n"
     ]
    },
    {
     "name": "stdout",
     "output_type": "stream",
     "text": [
      "\t - Recall@10 epoch 2: 0.032821\n",
      "\t - MRR@10    epoch 2: 0.014513\n",
      "\n"
     ]
    },
    {
     "name": "stderr",
     "output_type": "stream",
     "text": [
      "Train:  79%|███████▊  | 143/182 [00:01<00:00, 106.23it/s, accuracy=0.52, train_loss=3.02]\n",
      "Evaluation:  57%|█████▋    | 39/69 [00:06<00:04,  6.37it/s]\n"
     ]
    },
    {
     "name": "stdout",
     "output_type": "stream",
     "text": [
      "\t - Recall@10 epoch 3: 0.031795\n",
      "\t - MRR@10    epoch 3: 0.014391\n",
      "\n"
     ]
    },
    {
     "name": "stderr",
     "output_type": "stream",
     "text": [
      "Train:  79%|███████▊  | 143/182 [00:01<00:00, 107.16it/s, accuracy=0.48, train_loss=2.92]\n",
      "Evaluation:  57%|█████▋    | 39/69 [00:06<00:04,  6.35it/s]\n"
     ]
    },
    {
     "name": "stdout",
     "output_type": "stream",
     "text": [
      "\t - Recall@10 epoch 4: 0.031282\n",
      "\t - MRR@10    epoch 4: 0.014420\n",
      "\n"
     ]
    },
    {
     "name": "stderr",
     "output_type": "stream",
     "text": [
      "Train:  79%|███████▊  | 143/182 [00:01<00:00, 107.22it/s, accuracy=0.48, train_loss=2.67]\n",
      "Evaluation:  57%|█████▋    | 39/69 [00:06<00:04,  6.30it/s]\n"
     ]
    },
    {
     "name": "stdout",
     "output_type": "stream",
     "text": [
      "\t - Recall@10 epoch 5: 0.031795\n",
      "\t - MRR@10    epoch 5: 0.014599\n",
      "\n"
     ]
    },
    {
     "name": "stderr",
     "output_type": "stream",
     "text": [
      "Train:  79%|███████▊  | 143/182 [00:01<00:00, 103.44it/s, accuracy=0.5, train_loss=2.75] \n",
      "Evaluation:  57%|█████▋    | 39/69 [00:06<00:04,  6.33it/s]\n"
     ]
    },
    {
     "name": "stdout",
     "output_type": "stream",
     "text": [
      "\t - Recall@10 epoch 6: 0.031795\n",
      "\t - MRR@10    epoch 6: 0.014695\n",
      "\n"
     ]
    },
    {
     "name": "stderr",
     "output_type": "stream",
     "text": [
      "Train:  79%|███████▊  | 143/182 [00:01<00:00, 105.62it/s, accuracy=0.54, train_loss=2.63]\n",
      "Evaluation:  57%|█████▋    | 39/69 [00:06<00:04,  6.39it/s]\n"
     ]
    },
    {
     "name": "stdout",
     "output_type": "stream",
     "text": [
      "\t - Recall@10 epoch 7: 0.032308\n",
      "\t - MRR@10    epoch 7: 0.014906\n",
      "\n"
     ]
    },
    {
     "name": "stderr",
     "output_type": "stream",
     "text": [
      "Train:  79%|███████▊  | 143/182 [00:01<00:00, 107.56it/s, accuracy=0.54, train_loss=2.5] \n",
      "Evaluation:  57%|█████▋    | 39/69 [00:06<00:04,  6.37it/s]\n"
     ]
    },
    {
     "name": "stdout",
     "output_type": "stream",
     "text": [
      "\t - Recall@10 epoch 8: 0.031795\n",
      "\t - MRR@10    epoch 8: 0.014717\n",
      "\n"
     ]
    },
    {
     "name": "stderr",
     "output_type": "stream",
     "text": [
      "Train:  79%|███████▊  | 143/182 [00:01<00:00, 104.45it/s, accuracy=0.64, train_loss=2.32]\n",
      "Evaluation:  57%|█████▋    | 39/69 [00:06<00:04,  6.29it/s]\n"
     ]
    },
    {
     "name": "stdout",
     "output_type": "stream",
     "text": [
      "\t - Recall@10 epoch 9: 0.029744\n",
      "\t - MRR@10    epoch 9: 0.014670\n",
      "\n"
     ]
    },
    {
     "name": "stderr",
     "output_type": "stream",
     "text": [
      "Train:  79%|███████▊  | 143/182 [00:01<00:00, 104.02it/s, accuracy=0.52, train_loss=2.45]\n",
      "Evaluation:  57%|█████▋    | 39/69 [00:06<00:04,  6.36it/s]"
     ]
    },
    {
     "name": "stdout",
     "output_type": "stream",
     "text": [
      "\t - Recall@10 epoch 10: 0.031795\n",
      "\t - MRR@10    epoch 10: 0.014693\n",
      "\n"
     ]
    },
    {
     "name": "stderr",
     "output_type": "stream",
     "text": [
      "\n"
     ]
    }
   ],
   "source": [
    "args = Args(tr, val, test, batch_size=50, hsz=100, drop_rate=0.2, lr=0.01, epochs=10, k=10)\n",
    "train_model(model, args)"
   ]
  },
  {
   "cell_type": "code",
   "execution_count": 121,
   "id": "afa76870",
   "metadata": {},
   "outputs": [
    {
     "name": "stderr",
     "output_type": "stream",
     "text": [
      "Train:  79%|███████▊  | 143/182 [00:01<00:00, 105.66it/s, accuracy=0.64, train_loss=2.21]\n",
      "Evaluation:  57%|█████▋    | 39/69 [00:11<00:08,  3.39it/s]\n"
     ]
    },
    {
     "name": "stdout",
     "output_type": "stream",
     "text": [
      "\t - Recall@25 epoch 1: 0.055897\n",
      "\t - MRR@25    epoch 1: 0.016037\n",
      "\n"
     ]
    },
    {
     "name": "stderr",
     "output_type": "stream",
     "text": [
      "Train:  79%|███████▊  | 143/182 [00:01<00:00, 103.31it/s, accuracy=0.54, train_loss=2.19]\n",
      "Evaluation:  57%|█████▋    | 39/69 [00:11<00:08,  3.41it/s]\n"
     ]
    },
    {
     "name": "stdout",
     "output_type": "stream",
     "text": [
      "\t - Recall@25 epoch 2: 0.054872\n",
      "\t - MRR@25    epoch 2: 0.016228\n",
      "\n"
     ]
    },
    {
     "name": "stderr",
     "output_type": "stream",
     "text": [
      "Train:  79%|███████▊  | 143/182 [00:01<00:00, 105.62it/s, accuracy=0.56, train_loss=2.17]\n",
      "Evaluation:  57%|█████▋    | 39/69 [00:11<00:08,  3.42it/s]\n"
     ]
    },
    {
     "name": "stdout",
     "output_type": "stream",
     "text": [
      "\t - Recall@25 epoch 3: 0.054872\n",
      "\t - MRR@25    epoch 3: 0.016223\n",
      "\n"
     ]
    },
    {
     "name": "stderr",
     "output_type": "stream",
     "text": [
      "Train:  79%|███████▊  | 143/182 [00:01<00:00, 103.78it/s, accuracy=0.54, train_loss=2.04]\n",
      "Evaluation:  57%|█████▋    | 39/69 [00:11<00:08,  3.42it/s]\n"
     ]
    },
    {
     "name": "stdout",
     "output_type": "stream",
     "text": [
      "\t - Recall@25 epoch 4: 0.053846\n",
      "\t - MRR@25    epoch 4: 0.016157\n",
      "\n"
     ]
    },
    {
     "name": "stderr",
     "output_type": "stream",
     "text": [
      "Train:  79%|███████▊  | 143/182 [00:01<00:00, 94.73it/s, accuracy=0.72, train_loss=1.89]\n",
      "Evaluation:  57%|█████▋    | 39/69 [00:11<00:08,  3.43it/s]"
     ]
    },
    {
     "name": "stdout",
     "output_type": "stream",
     "text": [
      "\t - Recall@25 epoch 5: 0.054359\n",
      "\t - MRR@25    epoch 5: 0.015998\n",
      "\n"
     ]
    },
    {
     "name": "stderr",
     "output_type": "stream",
     "text": [
      "\n"
     ]
    }
   ],
   "source": [
    "#3. K 값을 25로 변경 hsz 불필요하게 많은것 같아 줄임 드랍아웃 비율도 줄임\n",
    "args = Args(tr, val, test, batch_size=50, hsz=50, drop_rate=0.05, lr=0.01, epochs=5, k=25)\n",
    "train_model(model, args)"
   ]
  },
  {
   "cell_type": "markdown",
   "id": "92b1dddf",
   "metadata": {},
   "source": [
    "## 회고 \n",
    "- 추천시스템의 Session-Parallel Mini-Batches 시스템을 이용하여 병렬적으로 빠르게 연산을 수행시키는 방법을 적용시켜보았다. \n",
    "- 하이퍼파라미터 변경등을 통하여 Recall@25, MRR@25, accuracy, loss 등이 epoch 이 진행됨에 따라 개선 및 감소를 확인 하였다.  \n",
    "- 추천시스템의 데이터 학습 세션수가 적어서(390 개) 모델이 학습하고 예측하기에 불충분한 것으로 생각된다.\n",
    "- 영화의 경우 연도별로 다수의 최신작이 나오고 몇몇 영화를 제외하고는 유행을 타고 지나가기 때문에 학습에 사용할 데이터의 기간을 무한정 늘릴수가 없다고 알려져있다. 그리하여 총 데이터 중 1년치 데이터를 가지고 추천모델을 학습하여 보았는데 본 데이터셋의 경우에는 세션이 390개로 적어 전체데이터를 가지고 모델을 학습시키고 예측해볼 필요가 있다."
   ]
  }
 ],
 "metadata": {
  "kernelspec": {
   "display_name": "Python 3 (ipykernel)",
   "language": "python",
   "name": "python3"
  },
  "language_info": {
   "codemirror_mode": {
    "name": "ipython",
    "version": 3
   },
   "file_extension": ".py",
   "mimetype": "text/x-python",
   "name": "python",
   "nbconvert_exporter": "python",
   "pygments_lexer": "ipython3",
   "version": "3.9.7"
  }
 },
 "nbformat": 4,
 "nbformat_minor": 5
}
