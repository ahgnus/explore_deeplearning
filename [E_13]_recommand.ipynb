{
 "cells": [
  {
   "cell_type": "code",
   "execution_count": 1,
   "id": "a61e777e",
   "metadata": {},
   "outputs": [
    {
     "name": "stdout",
     "output_type": "stream",
     "text": [
      "1.21.4\n",
      "1.7.1\n",
      "0.4.8\n"
     ]
    }
   ],
   "source": [
    "import numpy as np\n",
    "import scipy\n",
    "import implicit\n",
    "import pandas as pd\n",
    "\n",
    "print(np.__version__)\n",
    "print(scipy.__version__)\n",
    "print(implicit.__version__)"
   ]
  },
  {
   "cell_type": "code",
   "execution_count": 2,
   "id": "89e33dcd",
   "metadata": {},
   "outputs": [
    {
     "data": {
      "text/html": [
       "<div>\n",
       "<style scoped>\n",
       "    .dataframe tbody tr th:only-of-type {\n",
       "        vertical-align: middle;\n",
       "    }\n",
       "\n",
       "    .dataframe tbody tr th {\n",
       "        vertical-align: top;\n",
       "    }\n",
       "\n",
       "    .dataframe thead th {\n",
       "        text-align: right;\n",
       "    }\n",
       "</style>\n",
       "<table border=\"1\" class=\"dataframe\">\n",
       "  <thead>\n",
       "    <tr style=\"text-align: right;\">\n",
       "      <th></th>\n",
       "      <th>user_id</th>\n",
       "      <th>movie_id</th>\n",
       "      <th>ratings</th>\n",
       "      <th>timestamp</th>\n",
       "    </tr>\n",
       "  </thead>\n",
       "  <tbody>\n",
       "    <tr>\n",
       "      <th>0</th>\n",
       "      <td>1</td>\n",
       "      <td>1193</td>\n",
       "      <td>5</td>\n",
       "      <td>978300760</td>\n",
       "    </tr>\n",
       "    <tr>\n",
       "      <th>1</th>\n",
       "      <td>1</td>\n",
       "      <td>661</td>\n",
       "      <td>3</td>\n",
       "      <td>978302109</td>\n",
       "    </tr>\n",
       "    <tr>\n",
       "      <th>2</th>\n",
       "      <td>1</td>\n",
       "      <td>914</td>\n",
       "      <td>3</td>\n",
       "      <td>978301968</td>\n",
       "    </tr>\n",
       "    <tr>\n",
       "      <th>3</th>\n",
       "      <td>1</td>\n",
       "      <td>3408</td>\n",
       "      <td>4</td>\n",
       "      <td>978300275</td>\n",
       "    </tr>\n",
       "    <tr>\n",
       "      <th>4</th>\n",
       "      <td>1</td>\n",
       "      <td>2355</td>\n",
       "      <td>5</td>\n",
       "      <td>978824291</td>\n",
       "    </tr>\n",
       "  </tbody>\n",
       "</table>\n",
       "</div>"
      ],
      "text/plain": [
       "   user_id  movie_id  ratings  timestamp\n",
       "0        1      1193        5  978300760\n",
       "1        1       661        3  978302109\n",
       "2        1       914        3  978301968\n",
       "3        1      3408        4  978300275\n",
       "4        1      2355        5  978824291"
      ]
     },
     "execution_count": 2,
     "metadata": {},
     "output_type": "execute_result"
    }
   ],
   "source": [
    "import os\n",
    "rating_file_path=os.getenv('HOME') + '/aiffel/recommendata_iu/data/ml-1m/ratings.dat'\n",
    "ratings_cols = ['user_id', 'movie_id', 'ratings', 'timestamp']\n",
    "ratings = pd.read_csv(rating_file_path, sep='::', names=ratings_cols, engine='python', encoding = \"ISO-8859-1\")\n",
    "orginal_data_size = len(ratings)\n",
    "ratings.head()"
   ]
  },
  {
   "cell_type": "code",
   "execution_count": 3,
   "id": "4254458a",
   "metadata": {},
   "outputs": [
    {
     "name": "stdout",
     "output_type": "stream",
     "text": [
      "orginal_data_size: 1000209, filtered_data_size: 836478\n",
      "Ratio of Remaining Data is 83.63%\n"
     ]
    }
   ],
   "source": [
    "# 3점 이상만 남깁니다.\n",
    "ratings = ratings[ratings['ratings']>=3]\n",
    "filtered_data_size = len(ratings)\n",
    "\n",
    "print(f'orginal_data_size: {orginal_data_size}, filtered_data_size: {filtered_data_size}')\n",
    "print(f'Ratio of Remaining Data is {filtered_data_size / orginal_data_size:.2%}')"
   ]
  },
  {
   "cell_type": "code",
   "execution_count": 4,
   "id": "19337f27",
   "metadata": {},
   "outputs": [],
   "source": [
    "# ratings 컬럼의 이름을 counts로 바꿉니다.\n",
    "# 유저가 영화에 대해 평점을 매긴 데이터가 데이터 크기 별로 있습니다. MovieLens 1M Dataset 사용을 권장합니다.\n",
    "# 별점 데이터는 대표적인 explicit 데이터입니다. 하지만 implicit 데이터로 간주하고 테스트해 볼 수 있습니다.\n",
    "# 별점을 시청횟수로 해석해서 생각하겠습니다.\n",
    "# 또한 유저가 3점 미만으로 준 데이터는 선호하지 않는다고 가정하고 제외하겠습니다.\n",
    "ratings.rename(columns={'ratings':'counts'}, inplace=True)"
   ]
  },
  {
   "cell_type": "code",
   "execution_count": 5,
   "id": "d1cfdc88",
   "metadata": {},
   "outputs": [
    {
     "data": {
      "text/plain": [
       "0          5\n",
       "1          3\n",
       "2          3\n",
       "3          4\n",
       "4          5\n",
       "          ..\n",
       "1000203    3\n",
       "1000205    5\n",
       "1000206    5\n",
       "1000207    4\n",
       "1000208    4\n",
       "Name: counts, Length: 836478, dtype: int64"
      ]
     },
     "execution_count": 5,
     "metadata": {},
     "output_type": "execute_result"
    }
   ],
   "source": [
    "ratings['counts']"
   ]
  },
  {
   "cell_type": "code",
   "execution_count": 6,
   "id": "ede449a7",
   "metadata": {},
   "outputs": [
    {
     "data": {
      "text/html": [
       "<div>\n",
       "<style scoped>\n",
       "    .dataframe tbody tr th:only-of-type {\n",
       "        vertical-align: middle;\n",
       "    }\n",
       "\n",
       "    .dataframe tbody tr th {\n",
       "        vertical-align: top;\n",
       "    }\n",
       "\n",
       "    .dataframe thead th {\n",
       "        text-align: right;\n",
       "    }\n",
       "</style>\n",
       "<table border=\"1\" class=\"dataframe\">\n",
       "  <thead>\n",
       "    <tr style=\"text-align: right;\">\n",
       "      <th></th>\n",
       "      <th>movie_id</th>\n",
       "      <th>title</th>\n",
       "      <th>genre</th>\n",
       "    </tr>\n",
       "  </thead>\n",
       "  <tbody>\n",
       "    <tr>\n",
       "      <th>0</th>\n",
       "      <td>1</td>\n",
       "      <td>Toy Story (1995)</td>\n",
       "      <td>Animation|Children's|Comedy</td>\n",
       "    </tr>\n",
       "    <tr>\n",
       "      <th>1</th>\n",
       "      <td>2</td>\n",
       "      <td>Jumanji (1995)</td>\n",
       "      <td>Adventure|Children's|Fantasy</td>\n",
       "    </tr>\n",
       "    <tr>\n",
       "      <th>2</th>\n",
       "      <td>3</td>\n",
       "      <td>Grumpier Old Men (1995)</td>\n",
       "      <td>Comedy|Romance</td>\n",
       "    </tr>\n",
       "    <tr>\n",
       "      <th>3</th>\n",
       "      <td>4</td>\n",
       "      <td>Waiting to Exhale (1995)</td>\n",
       "      <td>Comedy|Drama</td>\n",
       "    </tr>\n",
       "    <tr>\n",
       "      <th>4</th>\n",
       "      <td>5</td>\n",
       "      <td>Father of the Bride Part II (1995)</td>\n",
       "      <td>Comedy</td>\n",
       "    </tr>\n",
       "  </tbody>\n",
       "</table>\n",
       "</div>"
      ],
      "text/plain": [
       "   movie_id                               title                         genre\n",
       "0         1                    Toy Story (1995)   Animation|Children's|Comedy\n",
       "1         2                      Jumanji (1995)  Adventure|Children's|Fantasy\n",
       "2         3             Grumpier Old Men (1995)                Comedy|Romance\n",
       "3         4            Waiting to Exhale (1995)                  Comedy|Drama\n",
       "4         5  Father of the Bride Part II (1995)                        Comedy"
      ]
     },
     "execution_count": 6,
     "metadata": {},
     "output_type": "execute_result"
    }
   ],
   "source": [
    "# 영화 제목을 보기 위해 메타 데이터를 읽어옵니다.\n",
    "movie_file_path=os.getenv('HOME') + '/aiffel/recommendata_iu/data/ml-1m/movies.dat'\n",
    "cols = ['movie_id', 'title', 'genre'] \n",
    "movies = pd.read_csv(movie_file_path, sep='::', names=cols, engine='python', encoding='ISO-8859-1')\n",
    "movies.head()"
   ]
  },
  {
   "cell_type": "code",
   "execution_count": 7,
   "id": "8d795073",
   "metadata": {},
   "outputs": [
    {
     "data": {
      "text/html": [
       "<div>\n",
       "<style scoped>\n",
       "    .dataframe tbody tr th:only-of-type {\n",
       "        vertical-align: middle;\n",
       "    }\n",
       "\n",
       "    .dataframe tbody tr th {\n",
       "        vertical-align: top;\n",
       "    }\n",
       "\n",
       "    .dataframe thead th {\n",
       "        text-align: right;\n",
       "    }\n",
       "</style>\n",
       "<table border=\"1\" class=\"dataframe\">\n",
       "  <thead>\n",
       "    <tr style=\"text-align: right;\">\n",
       "      <th></th>\n",
       "      <th>user_id</th>\n",
       "      <th>movie_id</th>\n",
       "      <th>counts</th>\n",
       "      <th>timestamp</th>\n",
       "    </tr>\n",
       "  </thead>\n",
       "  <tbody>\n",
       "    <tr>\n",
       "      <th>0</th>\n",
       "      <td>1</td>\n",
       "      <td>1193</td>\n",
       "      <td>5</td>\n",
       "      <td>978300760</td>\n",
       "    </tr>\n",
       "    <tr>\n",
       "      <th>1</th>\n",
       "      <td>1</td>\n",
       "      <td>661</td>\n",
       "      <td>3</td>\n",
       "      <td>978302109</td>\n",
       "    </tr>\n",
       "    <tr>\n",
       "      <th>2</th>\n",
       "      <td>1</td>\n",
       "      <td>914</td>\n",
       "      <td>3</td>\n",
       "      <td>978301968</td>\n",
       "    </tr>\n",
       "    <tr>\n",
       "      <th>3</th>\n",
       "      <td>1</td>\n",
       "      <td>3408</td>\n",
       "      <td>4</td>\n",
       "      <td>978300275</td>\n",
       "    </tr>\n",
       "    <tr>\n",
       "      <th>4</th>\n",
       "      <td>1</td>\n",
       "      <td>2355</td>\n",
       "      <td>5</td>\n",
       "      <td>978824291</td>\n",
       "    </tr>\n",
       "  </tbody>\n",
       "</table>\n",
       "</div>"
      ],
      "text/plain": [
       "   user_id  movie_id  counts  timestamp\n",
       "0        1      1193       5  978300760\n",
       "1        1       661       3  978302109\n",
       "2        1       914       3  978301968\n",
       "3        1      3408       4  978300275\n",
       "4        1      2355       5  978824291"
      ]
     },
     "execution_count": 7,
     "metadata": {},
     "output_type": "execute_result"
    }
   ],
   "source": [
    "ratings.head()"
   ]
  },
  {
   "cell_type": "code",
   "execution_count": 8,
   "id": "e0c08e4d",
   "metadata": {},
   "outputs": [
    {
     "data": {
      "text/html": [
       "<div>\n",
       "<style scoped>\n",
       "    .dataframe tbody tr th:only-of-type {\n",
       "        vertical-align: middle;\n",
       "    }\n",
       "\n",
       "    .dataframe tbody tr th {\n",
       "        vertical-align: top;\n",
       "    }\n",
       "\n",
       "    .dataframe thead th {\n",
       "        text-align: right;\n",
       "    }\n",
       "</style>\n",
       "<table border=\"1\" class=\"dataframe\">\n",
       "  <thead>\n",
       "    <tr style=\"text-align: right;\">\n",
       "      <th></th>\n",
       "      <th>user_id</th>\n",
       "      <th>movie_id</th>\n",
       "      <th>counts</th>\n",
       "    </tr>\n",
       "  </thead>\n",
       "  <tbody>\n",
       "    <tr>\n",
       "      <th>0</th>\n",
       "      <td>1</td>\n",
       "      <td>1193</td>\n",
       "      <td>5</td>\n",
       "    </tr>\n",
       "    <tr>\n",
       "      <th>1</th>\n",
       "      <td>1</td>\n",
       "      <td>661</td>\n",
       "      <td>3</td>\n",
       "    </tr>\n",
       "    <tr>\n",
       "      <th>2</th>\n",
       "      <td>1</td>\n",
       "      <td>914</td>\n",
       "      <td>3</td>\n",
       "    </tr>\n",
       "    <tr>\n",
       "      <th>3</th>\n",
       "      <td>1</td>\n",
       "      <td>3408</td>\n",
       "      <td>4</td>\n",
       "    </tr>\n",
       "    <tr>\n",
       "      <th>4</th>\n",
       "      <td>1</td>\n",
       "      <td>2355</td>\n",
       "      <td>5</td>\n",
       "    </tr>\n",
       "    <tr>\n",
       "      <th>5</th>\n",
       "      <td>1</td>\n",
       "      <td>1197</td>\n",
       "      <td>3</td>\n",
       "    </tr>\n",
       "    <tr>\n",
       "      <th>6</th>\n",
       "      <td>1</td>\n",
       "      <td>1287</td>\n",
       "      <td>5</td>\n",
       "    </tr>\n",
       "    <tr>\n",
       "      <th>7</th>\n",
       "      <td>1</td>\n",
       "      <td>2804</td>\n",
       "      <td>5</td>\n",
       "    </tr>\n",
       "    <tr>\n",
       "      <th>8</th>\n",
       "      <td>1</td>\n",
       "      <td>594</td>\n",
       "      <td>4</td>\n",
       "    </tr>\n",
       "    <tr>\n",
       "      <th>9</th>\n",
       "      <td>1</td>\n",
       "      <td>919</td>\n",
       "      <td>4</td>\n",
       "    </tr>\n",
       "  </tbody>\n",
       "</table>\n",
       "</div>"
      ],
      "text/plain": [
       "   user_id  movie_id  counts\n",
       "0        1      1193       5\n",
       "1        1       661       3\n",
       "2        1       914       3\n",
       "3        1      3408       4\n",
       "4        1      2355       5\n",
       "5        1      1197       3\n",
       "6        1      1287       5\n",
       "7        1      2804       5\n",
       "8        1       594       4\n",
       "9        1       919       4"
      ]
     },
     "execution_count": 8,
     "metadata": {},
     "output_type": "execute_result"
    }
   ],
   "source": [
    "# 사용하는 컬럼만 남겨줍니다.\n",
    "using_cols = ['user_id', 'movie_id', 'counts']\n",
    "data = ratings[using_cols]\n",
    "data.head(10)"
   ]
  },
  {
   "cell_type": "code",
   "execution_count": 9,
   "id": "ea665ad8",
   "metadata": {},
   "outputs": [
    {
     "data": {
      "text/plain": [
       "6039"
      ]
     },
     "execution_count": 9,
     "metadata": {},
     "output_type": "execute_result"
    }
   ],
   "source": [
    "# 유저 수\n",
    "data['user_id'].nunique()"
   ]
  },
  {
   "cell_type": "code",
   "execution_count": 10,
   "id": "a873cfb7",
   "metadata": {},
   "outputs": [
    {
     "data": {
      "text/plain": [
       "3628"
      ]
     },
     "execution_count": 10,
     "metadata": {},
     "output_type": "execute_result"
    }
   ],
   "source": [
    "# 영화 수\n",
    "data['movie_id'].nunique()"
   ]
  },
  {
   "cell_type": "code",
   "execution_count": 11,
   "id": "1e113356",
   "metadata": {},
   "outputs": [
    {
     "data": {
      "text/plain": [
       "movie_id\n",
       "2858    3211\n",
       "260     2910\n",
       "1196    2885\n",
       "1210    2716\n",
       "2028    2561\n",
       "589     2509\n",
       "593     2498\n",
       "1198    2473\n",
       "1270    2460\n",
       "2571    2434\n",
       "480     2413\n",
       "2762    2385\n",
       "608     2371\n",
       "110     2314\n",
       "1580    2297\n",
       "527     2257\n",
       "1197    2252\n",
       "2396    2213\n",
       "1617    2210\n",
       "318     2194\n",
       "858     2167\n",
       "1265    2121\n",
       "1097    2102\n",
       "2997    2066\n",
       "2716    2051\n",
       "296     2030\n",
       "356     2022\n",
       "1240    2019\n",
       "1       2000\n",
       "457     1941\n",
       "Name: user_id, dtype: int64"
      ]
     },
     "execution_count": 11,
     "metadata": {},
     "output_type": "execute_result"
    }
   ],
   "source": [
    "# 인기 많은 영화 30개\n",
    "movie_count = data.groupby('movie_id')['user_id'].count()\n",
    "movie_count.sort_values(ascending=False).head(30)"
   ]
  },
  {
   "cell_type": "code",
   "execution_count": 12,
   "id": "ff0c0037",
   "metadata": {},
   "outputs": [
    {
     "data": {
      "text/plain": [
       "count    6039.000000\n",
       "mean      138.512668\n",
       "std       156.241599\n",
       "min         1.000000\n",
       "25%        38.000000\n",
       "50%        81.000000\n",
       "75%       177.000000\n",
       "max      1968.000000\n",
       "Name: movie_id, dtype: float64"
      ]
     },
     "execution_count": 12,
     "metadata": {},
     "output_type": "execute_result"
    }
   ],
   "source": [
    "# 유저별 몇 개의 영화를 보고 있는지에 대한 통계\n",
    "user_count = data.groupby('user_id')['movie_id'].count()\n",
    "user_count.describe()"
   ]
  },
  {
   "cell_type": "code",
   "execution_count": 13,
   "id": "91b5546b",
   "metadata": {},
   "outputs": [
    {
     "data": {
      "text/plain": [
       "count    6039.000000\n",
       "mean        4.055970\n",
       "std         0.432143\n",
       "min         3.000000\n",
       "25%         4.000000\n",
       "50%         4.000000\n",
       "75%         4.000000\n",
       "max         5.000000\n",
       "Name: counts, dtype: float64"
      ]
     },
     "execution_count": 13,
     "metadata": {},
     "output_type": "execute_result"
    }
   ],
   "source": [
    "# 유저별 count횟수 중앙값에 대한 통계\n",
    "user_median = data.groupby('user_id')['counts'].median()\n",
    "user_median.describe()"
   ]
  },
  {
   "cell_type": "code",
   "execution_count": 14,
   "id": "2166f107",
   "metadata": {},
   "outputs": [
    {
     "data": {
      "text/html": [
       "<div>\n",
       "<style scoped>\n",
       "    .dataframe tbody tr th:only-of-type {\n",
       "        vertical-align: middle;\n",
       "    }\n",
       "\n",
       "    .dataframe tbody tr th {\n",
       "        vertical-align: top;\n",
       "    }\n",
       "\n",
       "    .dataframe thead th {\n",
       "        text-align: right;\n",
       "    }\n",
       "</style>\n",
       "<table border=\"1\" class=\"dataframe\">\n",
       "  <thead>\n",
       "    <tr style=\"text-align: right;\">\n",
       "      <th></th>\n",
       "      <th>user_id</th>\n",
       "      <th>movie_id</th>\n",
       "      <th>counts</th>\n",
       "    </tr>\n",
       "  </thead>\n",
       "  <tbody>\n",
       "    <tr>\n",
       "      <th>1000203</th>\n",
       "      <td>6040</td>\n",
       "      <td>1090</td>\n",
       "      <td>3</td>\n",
       "    </tr>\n",
       "    <tr>\n",
       "      <th>1000205</th>\n",
       "      <td>6040</td>\n",
       "      <td>1094</td>\n",
       "      <td>5</td>\n",
       "    </tr>\n",
       "    <tr>\n",
       "      <th>1000206</th>\n",
       "      <td>6040</td>\n",
       "      <td>562</td>\n",
       "      <td>5</td>\n",
       "    </tr>\n",
       "    <tr>\n",
       "      <th>1000207</th>\n",
       "      <td>6040</td>\n",
       "      <td>1096</td>\n",
       "      <td>4</td>\n",
       "    </tr>\n",
       "    <tr>\n",
       "      <th>1000208</th>\n",
       "      <td>6040</td>\n",
       "      <td>1097</td>\n",
       "      <td>4</td>\n",
       "    </tr>\n",
       "    <tr>\n",
       "      <th>0</th>\n",
       "      <td>sh</td>\n",
       "      <td>110</td>\n",
       "      <td>5</td>\n",
       "    </tr>\n",
       "    <tr>\n",
       "      <th>1</th>\n",
       "      <td>sh</td>\n",
       "      <td>480</td>\n",
       "      <td>5</td>\n",
       "    </tr>\n",
       "    <tr>\n",
       "      <th>2</th>\n",
       "      <td>sh</td>\n",
       "      <td>1198</td>\n",
       "      <td>5</td>\n",
       "    </tr>\n",
       "    <tr>\n",
       "      <th>3</th>\n",
       "      <td>sh</td>\n",
       "      <td>589</td>\n",
       "      <td>5</td>\n",
       "    </tr>\n",
       "    <tr>\n",
       "      <th>4</th>\n",
       "      <td>sh</td>\n",
       "      <td>593</td>\n",
       "      <td>5</td>\n",
       "    </tr>\n",
       "  </tbody>\n",
       "</table>\n",
       "</div>"
      ],
      "text/plain": [
       "        user_id  movie_id  counts\n",
       "1000203    6040      1090       3\n",
       "1000205    6040      1094       5\n",
       "1000206    6040       562       5\n",
       "1000207    6040      1096       4\n",
       "1000208    6040      1097       4\n",
       "0            sh       110       5\n",
       "1            sh       480       5\n",
       "2            sh      1198       5\n",
       "3            sh       589       5\n",
       "4            sh       593       5"
      ]
     },
     "execution_count": 14,
     "metadata": {},
     "output_type": "execute_result"
    }
   ],
   "source": [
    "# 내가 좋아하는 영화 5개 \n",
    "my_favorite = [110 , 480 ,1198 ,589 ,593]\n",
    "\n",
    "# 'sh'이라는 user_id가 위 영화를  5회씩 들었다고 가정하겠습니다.\n",
    "my_playlist = pd.DataFrame({'user_id': ['sh']*5, 'movie_id': my_favorite, 'counts':[5]*5})\n",
    "\n",
    "if not data.isin({'user_id':['sh']})['user_id'].any():  # user_id에 'sh'이라는 데이터가 없다면\n",
    "    data = data.append(my_playlist)                           # 위에 임의로 만든 my_favorite 데이터를 추가해 줍니다. \n",
    "\n",
    "data.tail(10)       # 잘 추가되었는지 확인해 봅시다."
   ]
  },
  {
   "cell_type": "code",
   "execution_count": 15,
   "id": "a7910c77",
   "metadata": {},
   "outputs": [],
   "source": [
    "# 고유한 유저를 찾아내는 코드\n",
    "user_unique = data['user_id'].unique()\n",
    "movie_unique = data['movie_id'].unique()\n",
    "# 유저 indexing 하는 코드 idx는 index의 약자입니다.\n",
    "user_to_idx = {v:k for k,v in enumerate(user_unique)}\n",
    "movie_to_idx = {v:k for k,v in enumerate(movie_unique)}"
   ]
  },
  {
   "cell_type": "code",
   "execution_count": 16,
   "id": "10b178be",
   "metadata": {},
   "outputs": [
    {
     "name": "stdout",
     "output_type": "stream",
     "text": [
      "6039\n",
      "92\n"
     ]
    }
   ],
   "source": [
    "# 인덱싱이 잘 되었는지 확인해 봅니다. \n",
    "print(user_to_idx['sh'])    # 총 6039명의 유저 에서 1명추가 6040명(idx=6039)\n",
    "print(movie_to_idx[589])"
   ]
  },
  {
   "cell_type": "code",
   "execution_count": 17,
   "id": "69684366",
   "metadata": {},
   "outputs": [
    {
     "name": "stdout",
     "output_type": "stream",
     "text": [
      "user_id column indexing OK!!\n",
      "movie column indexing OK!!\n"
     ]
    },
    {
     "data": {
      "text/html": [
       "<div>\n",
       "<style scoped>\n",
       "    .dataframe tbody tr th:only-of-type {\n",
       "        vertical-align: middle;\n",
       "    }\n",
       "\n",
       "    .dataframe tbody tr th {\n",
       "        vertical-align: top;\n",
       "    }\n",
       "\n",
       "    .dataframe thead th {\n",
       "        text-align: right;\n",
       "    }\n",
       "</style>\n",
       "<table border=\"1\" class=\"dataframe\">\n",
       "  <thead>\n",
       "    <tr style=\"text-align: right;\">\n",
       "      <th></th>\n",
       "      <th>user_id</th>\n",
       "      <th>movie_id</th>\n",
       "      <th>counts</th>\n",
       "    </tr>\n",
       "  </thead>\n",
       "  <tbody>\n",
       "    <tr>\n",
       "      <th>0</th>\n",
       "      <td>0</td>\n",
       "      <td>0</td>\n",
       "      <td>5</td>\n",
       "    </tr>\n",
       "    <tr>\n",
       "      <th>1</th>\n",
       "      <td>0</td>\n",
       "      <td>1</td>\n",
       "      <td>3</td>\n",
       "    </tr>\n",
       "    <tr>\n",
       "      <th>2</th>\n",
       "      <td>0</td>\n",
       "      <td>2</td>\n",
       "      <td>3</td>\n",
       "    </tr>\n",
       "    <tr>\n",
       "      <th>3</th>\n",
       "      <td>0</td>\n",
       "      <td>3</td>\n",
       "      <td>4</td>\n",
       "    </tr>\n",
       "    <tr>\n",
       "      <th>4</th>\n",
       "      <td>0</td>\n",
       "      <td>4</td>\n",
       "      <td>5</td>\n",
       "    </tr>\n",
       "    <tr>\n",
       "      <th>...</th>\n",
       "      <td>...</td>\n",
       "      <td>...</td>\n",
       "      <td>...</td>\n",
       "    </tr>\n",
       "    <tr>\n",
       "      <th>0</th>\n",
       "      <td>6039</td>\n",
       "      <td>87</td>\n",
       "      <td>5</td>\n",
       "    </tr>\n",
       "    <tr>\n",
       "      <th>1</th>\n",
       "      <td>6039</td>\n",
       "      <td>107</td>\n",
       "      <td>5</td>\n",
       "    </tr>\n",
       "    <tr>\n",
       "      <th>2</th>\n",
       "      <td>6039</td>\n",
       "      <td>120</td>\n",
       "      <td>5</td>\n",
       "    </tr>\n",
       "    <tr>\n",
       "      <th>3</th>\n",
       "      <td>6039</td>\n",
       "      <td>92</td>\n",
       "      <td>5</td>\n",
       "    </tr>\n",
       "    <tr>\n",
       "      <th>4</th>\n",
       "      <td>6039</td>\n",
       "      <td>121</td>\n",
       "      <td>5</td>\n",
       "    </tr>\n",
       "  </tbody>\n",
       "</table>\n",
       "<p>836483 rows × 3 columns</p>\n",
       "</div>"
      ],
      "text/plain": [
       "    user_id  movie_id  counts\n",
       "0         0         0       5\n",
       "1         0         1       3\n",
       "2         0         2       3\n",
       "3         0         3       4\n",
       "4         0         4       5\n",
       "..      ...       ...     ...\n",
       "0      6039        87       5\n",
       "1      6039       107       5\n",
       "2      6039       120       5\n",
       "3      6039        92       5\n",
       "4      6039       121       5\n",
       "\n",
       "[836483 rows x 3 columns]"
      ]
     },
     "execution_count": 17,
     "metadata": {},
     "output_type": "execute_result"
    }
   ],
   "source": [
    "# indexing을 통해 데이터 컬럼 내 값을 바꾸는 코드\n",
    "# dictionary 자료형의 get 함수는 https://wikidocs.net/16 을 참고하세요.\n",
    "\n",
    "# user_to_idx.get을 통해 user_id 컬럼의 모든 값을 인덱싱한 Series를 구해 봅시다. \n",
    "# 혹시 정상적으로 인덱싱되지 않은 row가 있다면 인덱스가 NaN이 될 테니 dropna()로 제거합니다. \n",
    "temp_user_data = data['user_id'].map(user_to_idx.get).dropna()\n",
    "if len(temp_user_data) == len(data):   # 모든 row가 정상적으로 인덱싱되었다면\n",
    "    print('user_id column indexing OK!!')\n",
    "    data['user_id'] = temp_user_data   # data['user_id']을 인덱싱된 Series로 교체해 줍니다. \n",
    "else:\n",
    "    print('user_id column indexing Fail!!')\n",
    "    \n",
    "# artist_to_idx을 통해 artist 컬럼도 동일한 방식으로 인덱싱해 줍니다. \n",
    "temp_movie_data = data['movie_id'].map(movie_to_idx.get).dropna()\n",
    "if len(temp_movie_data) == len(data):\n",
    "    print('movie column indexing OK!!')\n",
    "    data['movie_id'] = temp_movie_data\n",
    "else:\n",
    "    print('movie column indexing Fail!!')\n",
    "\n",
    "data"
   ]
  },
  {
   "cell_type": "markdown",
   "id": "4d88bbd2",
   "metadata": {},
   "source": [
    "## CSR Matrix 만들기"
   ]
  },
  {
   "cell_type": "code",
   "execution_count": 18,
   "id": "a474f0ae",
   "metadata": {},
   "outputs": [
    {
     "data": {
      "text/plain": [
       "<6040x3628 sparse matrix of type '<class 'numpy.int64'>'\n",
       "\twith 836483 stored elements in Compressed Sparse Row format>"
      ]
     },
     "execution_count": 18,
     "metadata": {},
     "output_type": "execute_result"
    }
   ],
   "source": [
    "from scipy.sparse import csr_matrix\n",
    "\n",
    "num_user = data['user_id'].nunique()\n",
    "num_movie = data['movie_id'].nunique()\n",
    "\n",
    "csr_data = csr_matrix((data.counts, (data.user_id, data.movie_id)), shape= (num_user, num_movie))\n",
    "csr_data"
   ]
  },
  {
   "cell_type": "code",
   "execution_count": 19,
   "id": "5b425967",
   "metadata": {},
   "outputs": [],
   "source": [
    "# MF implicit\n",
    "\n",
    "from implicit.als import AlternatingLeastSquares\n",
    "import os\n",
    "import numpy as np\n",
    "\n",
    "# implicit 라이브러리에서 권장하고 있는 부분입니다. 학습 내용과는 무관합니다.\n",
    "os.environ['OPENBLAS_NUM_THREADS']='1'\n",
    "os.environ['KMP_DUPLICATE_LIB_OK']='True'\n",
    "os.environ['MKL_NUM_THREADS']='1'"
   ]
  },
  {
   "cell_type": "code",
   "execution_count": 20,
   "id": "905fc8df",
   "metadata": {},
   "outputs": [],
   "source": [
    "# Implicit AlternatingLeastSquares 모델의 선언\n",
    "als_model = AlternatingLeastSquares(factors=200, regularization=0.01, use_gpu=False, iterations=30, dtype=np.float32)"
   ]
  },
  {
   "cell_type": "code",
   "execution_count": 21,
   "id": "4312420d",
   "metadata": {},
   "outputs": [
    {
     "data": {
      "text/plain": [
       "<3628x6040 sparse matrix of type '<class 'numpy.int64'>'\n",
       "\twith 836483 stored elements in Compressed Sparse Column format>"
      ]
     },
     "execution_count": 21,
     "metadata": {},
     "output_type": "execute_result"
    }
   ],
   "source": [
    "# als 모델은 input으로 (item X user 꼴의 matrix를 받기 때문에 Transpose해줍니다.)\n",
    "csr_data_transpose = csr_data.T\n",
    "csr_data_transpose"
   ]
  },
  {
   "cell_type": "code",
   "execution_count": 22,
   "id": "81f2beda",
   "metadata": {},
   "outputs": [
    {
     "data": {
      "application/vnd.jupyter.widget-view+json": {
       "model_id": "b730b343e9d64e3c98f76fad03ae380a",
       "version_major": 2,
       "version_minor": 0
      },
      "text/plain": [
       "  0%|          | 0/30 [00:00<?, ?it/s]"
      ]
     },
     "metadata": {},
     "output_type": "display_data"
    }
   ],
   "source": [
    "# 모델 훈련\n",
    "als_model.fit(csr_data_transpose)"
   ]
  },
  {
   "cell_type": "code",
   "execution_count": 23,
   "id": "ad1930b0",
   "metadata": {},
   "outputs": [],
   "source": [
    "#내가 선호하는 5가지 영화 중 하나와 그 외의 영화 하나를 골라 훈련된 모델이 예측한 나의 선호도를 파악\n",
    "sh, mtd110 = user_to_idx['sh'], movie_to_idx[110]\n",
    "sh_vector, mtd110_vector = als_model.user_factors[sh], als_model.item_factors[mtd110]\n"
   ]
  },
  {
   "cell_type": "code",
   "execution_count": 24,
   "id": "aba0dd30",
   "metadata": {},
   "outputs": [
    {
     "data": {
      "text/plain": [
       "array([-0.3617932 , -0.2083037 ,  0.01389139,  0.02030345,  0.00612969,\n",
       "        0.19602716,  0.06652939,  0.3922777 ,  0.0683066 ,  0.1287643 ,\n",
       "       -0.38635072, -0.11391551, -0.5207075 ,  0.51922417,  0.72709   ,\n",
       "       -0.20076653,  0.39977303, -0.04317514,  0.08925647,  0.63062274,\n",
       "        0.00266833, -0.03117319,  0.21173939,  0.29014271, -0.6265656 ,\n",
       "       -0.38907087,  0.05223315, -0.03054998, -0.53395987, -0.25739247,\n",
       "       -0.8355721 ,  0.24840339,  0.24288315,  0.22709818, -0.07568221,\n",
       "       -0.0929366 , -0.19144598, -0.3370674 , -0.11076754,  0.43127567,\n",
       "       -0.12397194, -0.2937209 ,  0.5587928 ,  0.19350791, -0.1024675 ,\n",
       "        0.7158418 , -0.25171065, -0.32110602, -0.45023674, -0.35396302,\n",
       "       -0.04799958, -0.49991477,  0.20084625, -0.40296775, -0.02264782,\n",
       "       -0.587643  ,  0.38571763,  0.14413317,  0.5556522 , -0.16862588,\n",
       "        0.03050453,  0.83219516,  0.05225057, -0.19329163, -0.32950166,\n",
       "       -0.00809423, -0.15623376,  0.64193743, -0.2466775 ,  0.01587785,\n",
       "       -0.03724537, -0.24757893,  0.49000508,  0.05508298,  0.22827804,\n",
       "       -0.26449278, -1.0998445 ,  0.34811834,  0.48194307,  0.5060253 ,\n",
       "       -0.23020183, -0.751421  , -0.13159567,  0.11098072,  0.79331636,\n",
       "        0.35482907, -0.86787575,  0.22773239, -0.15002225,  0.80280113,\n",
       "       -0.08727112,  0.35120744, -0.01971018, -0.02973398,  0.04508832,\n",
       "       -0.02402548, -0.549753  ,  0.69638664,  0.14821395,  0.14608815,\n",
       "       -0.21275951,  0.19945121, -0.19134003,  0.29418358,  0.14578104,\n",
       "       -0.03765679,  0.39706096,  0.63875437,  0.29173213, -0.31854853,\n",
       "       -0.26210493, -0.2506815 , -0.0915708 ,  0.03001227, -0.53970695,\n",
       "        0.08629046, -0.0054988 ,  0.28786117, -0.2103079 ,  0.5319524 ,\n",
       "       -0.16624977, -0.5840349 ,  0.53024465, -0.05513054,  0.002864  ,\n",
       "        0.29907185,  0.15167397,  0.08847087,  0.41002   , -0.03561671,\n",
       "       -0.5128098 , -0.33550978,  0.23899928,  0.23126103, -0.26567286,\n",
       "        0.4775505 , -0.59947467,  0.10692368, -0.21721934, -0.44705442,\n",
       "        0.23246227, -0.18487385, -0.06209444, -0.16907029,  0.13111094,\n",
       "       -0.20972288,  0.2489946 ,  0.30191907,  0.46308115, -0.8350065 ,\n",
       "        0.7464606 , -0.33521053, -0.58921105,  0.00979563,  0.31482413,\n",
       "       -0.20961101, -0.72865736, -0.5526924 ,  0.614941  , -0.2711982 ,\n",
       "        0.7072776 , -0.24985313,  0.0737572 , -0.17671913,  0.24469694,\n",
       "       -0.6765081 , -0.08746823,  0.18895945,  0.1904013 ,  0.00673314,\n",
       "        0.0350835 , -0.11794978,  0.16068617,  0.2430623 , -0.08392542,\n",
       "       -0.16919477,  0.24254082, -0.82335067,  0.61297685, -0.31973436,\n",
       "        0.1374579 ,  0.33044985, -0.06911401,  1.0146071 ,  0.2582204 ,\n",
       "        0.02836137, -0.19295205,  0.24286564,  0.14447577,  0.13677524,\n",
       "       -0.05239119,  0.14618354, -0.6163187 , -0.40647942,  0.06557284,\n",
       "        0.27011955, -0.03075852, -0.28621605, -0.6125556 ,  0.32259598],\n",
       "      dtype=float32)"
      ]
     },
     "execution_count": 24,
     "metadata": {},
     "output_type": "execute_result"
    }
   ],
   "source": [
    "sh_vector"
   ]
  },
  {
   "cell_type": "code",
   "execution_count": 25,
   "id": "82284c1c",
   "metadata": {},
   "outputs": [
    {
     "data": {
      "text/plain": [
       "array([ 4.19057580e-03, -2.54552253e-03,  3.39837782e-02,  4.41158051e-03,\n",
       "       -1.98662151e-02,  1.86440218e-02, -3.64695415e-02, -3.48966313e-03,\n",
       "        2.71358173e-02,  2.87220757e-02, -2.11295374e-02, -1.57022150e-03,\n",
       "       -2.37753969e-02,  3.68825272e-02,  4.12334921e-03,  2.70908438e-02,\n",
       "        3.98610197e-02,  1.12190945e-02, -3.33795957e-02,  4.58759815e-03,\n",
       "       -3.71992067e-02,  1.25038589e-03,  4.05763015e-02,  3.72947752e-02,\n",
       "       -3.55978571e-02, -1.46074884e-03,  3.18185650e-02,  1.44260451e-02,\n",
       "        2.46468000e-02, -4.91959341e-02, -1.25429174e-02,  2.21939068e-02,\n",
       "        3.78217623e-02,  3.67286354e-02,  1.06735975e-02, -1.01194317e-02,\n",
       "       -1.92492418e-02,  6.38962258e-04,  4.44613351e-03,  2.78394520e-02,\n",
       "        5.83694642e-03, -1.80506073e-02, -8.96667130e-03, -3.19419019e-02,\n",
       "        1.71901099e-02,  5.88544160e-02,  2.42160610e-03, -8.50724801e-03,\n",
       "       -7.86651112e-03, -1.26533108e-02,  3.68799344e-02, -3.83553770e-03,\n",
       "        3.92952003e-02, -2.91457344e-02, -1.06481817e-02, -1.55893927e-02,\n",
       "       -2.61019934e-02,  3.31796333e-02,  1.73442140e-02,  1.49483373e-02,\n",
       "        1.00934207e-02,  5.62184639e-02,  2.03355365e-02, -1.49937812e-02,\n",
       "        1.53773441e-03,  4.87037599e-02,  1.54309748e-02,  4.81552631e-02,\n",
       "        8.13903566e-03,  1.97444372e-02, -3.52039784e-02, -2.25711614e-02,\n",
       "        3.78084593e-02,  4.71360162e-02,  3.55620682e-03,  1.09129469e-03,\n",
       "       -2.98932958e-02,  1.50501728e-02, -1.26887783e-02,  3.65112536e-02,\n",
       "       -4.62283753e-03, -1.94027852e-02, -6.68468047e-03, -4.74871462e-03,\n",
       "        4.33729701e-02,  1.72467530e-02,  1.83595531e-03,  1.98147446e-02,\n",
       "        6.92067947e-03, -5.41730924e-03,  2.72087716e-02, -1.14923250e-02,\n",
       "        1.77459382e-02, -6.47288281e-03, -1.95331243e-03, -7.25727761e-03,\n",
       "       -2.16698200e-02,  1.87884532e-02,  6.22923020e-03, -6.03264617e-03,\n",
       "        4.54686023e-03,  2.58490443e-02,  1.46288984e-02,  2.17837412e-02,\n",
       "        1.43022630e-02, -1.54494736e-02,  3.48000899e-02,  3.37240770e-02,\n",
       "       -8.47432064e-04,  8.51250812e-03,  6.10607397e-03, -8.22675601e-03,\n",
       "       -2.96997707e-02,  9.15982178e-04, -3.90797183e-02,  2.60779262e-02,\n",
       "        3.20565440e-02,  2.67226920e-02,  4.06708196e-02,  2.61609089e-02,\n",
       "       -1.39989015e-02, -1.96131896e-02,  5.21623455e-02,  5.53057296e-03,\n",
       "       -6.12290052e-04,  3.52880992e-02,  1.73338633e-02,  5.45508927e-03,\n",
       "        2.82516261e-03, -1.61977299e-02, -1.95072484e-04,  2.43695602e-02,\n",
       "        4.24147286e-02, -9.94214416e-03, -1.38733480e-02,  3.22862454e-02,\n",
       "        2.62051709e-02, -1.75091525e-04, -2.97593586e-02, -2.81240251e-02,\n",
       "        2.11825389e-02,  2.34645829e-02, -8.31170008e-03, -9.30749884e-05,\n",
       "       -8.40198249e-04, -1.29708191e-02,  3.81164812e-02, -5.33465445e-02,\n",
       "        1.31992698e-02, -2.98938937e-02,  3.11461324e-03, -2.32790504e-02,\n",
       "        7.63002099e-05, -2.16455553e-02, -1.05170012e-02,  3.84140797e-02,\n",
       "       -4.03493568e-02,  9.91818588e-03,  2.10952330e-02, -2.66679726e-03,\n",
       "        4.33068126e-02, -2.73235980e-02,  4.45477804e-03, -1.02973087e-02,\n",
       "        2.45284159e-02, -1.88786034e-02,  9.09648184e-03,  2.27560122e-02,\n",
       "        2.21442450e-02, -2.32405365e-02, -8.43677670e-03, -1.23259109e-02,\n",
       "        1.89775042e-02,  4.76303995e-02,  1.05339913e-02, -1.76089117e-03,\n",
       "       -6.80667767e-03, -2.24864669e-03,  2.09122412e-02, -3.31600979e-02,\n",
       "       -3.22951712e-02,  3.32666859e-02,  1.92719903e-02,  3.26386206e-02,\n",
       "        3.31725692e-03, -1.28944255e-02, -1.34331528e-02, -9.15933633e-04,\n",
       "       -7.19705829e-04,  1.66227799e-02,  4.42676572e-03,  2.97553893e-02,\n",
       "       -1.92838348e-02, -2.50977445e-02,  2.45611947e-02,  3.51511128e-02,\n",
       "       -2.12161578e-02, -2.63323146e-03, -4.32782620e-03,  2.51404829e-02],\n",
       "      dtype=float32)"
      ]
     },
     "execution_count": 25,
     "metadata": {},
     "output_type": "execute_result"
    }
   ],
   "source": [
    "mtd110_vector"
   ]
  },
  {
   "cell_type": "code",
   "execution_count": 26,
   "id": "39baeba4",
   "metadata": {},
   "outputs": [
    {
     "data": {
      "text/plain": [
       "0.87560356"
      ]
     },
     "execution_count": 26,
     "metadata": {},
     "output_type": "execute_result"
    }
   ],
   "source": [
    "np.dot(sh_vector, mtd110_vector) ## 선호도 0.87 나옴"
   ]
  },
  {
   "cell_type": "code",
   "execution_count": 27,
   "id": "d46c5419",
   "metadata": {},
   "outputs": [],
   "source": [
    "# 그 외의 영화와 선호도 비교\n",
    "mtd2829 = movie_to_idx[2829]\n",
    "mtd2829_vector = als_model.item_factors[mtd2829]"
   ]
  },
  {
   "cell_type": "code",
   "execution_count": 28,
   "id": "d7d967c1",
   "metadata": {},
   "outputs": [
    {
     "data": {
      "text/plain": [
       "array([ 3.86330037e-04,  1.15673458e-02,  1.11260265e-02,  1.68767394e-04,\n",
       "       -7.06709269e-03, -7.50306249e-03,  2.31718412e-03,  3.96579364e-03,\n",
       "        5.06834034e-03,  8.38883105e-04,  1.04220323e-02, -3.44946911e-03,\n",
       "        7.21291639e-04, -6.32155174e-03,  3.34122963e-03,  3.30412225e-03,\n",
       "        6.98053685e-04,  6.39558537e-03,  1.05703892e-02,  1.77831240e-02,\n",
       "        1.55422911e-02,  8.77579022e-03,  1.15240449e-02,  1.58005767e-02,\n",
       "        1.21262753e-02,  1.40721165e-02,  7.67666567e-03,  1.36241512e-02,\n",
       "        3.69221647e-03,  1.76308230e-02, -8.56465602e-04,  1.71028581e-02,\n",
       "       -2.07356573e-03, -4.82731353e-04,  1.39479684e-02,  1.98539835e-03,\n",
       "        4.21130238e-03,  1.16123324e-02,  1.12517104e-02, -1.35897659e-03,\n",
       "        8.40455573e-03, -8.56093224e-03,  8.06366745e-03,  1.28436089e-02,\n",
       "        2.29620538e-03,  8.23424850e-03, -4.55710018e-04,  8.90644081e-03,\n",
       "        1.15194842e-02,  7.11088907e-03,  5.43768983e-03,  1.16472114e-02,\n",
       "        4.50858707e-03,  9.24906135e-03, -7.66676897e-03,  3.06069991e-03,\n",
       "       -4.02785931e-03,  4.51416289e-03,  2.71063368e-03,  1.47769237e-02,\n",
       "        6.97298953e-03,  1.14207435e-03,  6.77591795e-03,  8.20051227e-03,\n",
       "       -1.35447888e-03,  1.18180262e-02, -1.03851047e-03,  8.51503108e-03,\n",
       "        3.43829021e-03, -5.08632232e-03,  3.77501850e-03, -6.17676461e-03,\n",
       "        4.41249693e-03,  5.47437137e-03, -4.30062646e-03, -1.02148787e-03,\n",
       "        1.07008973e-02, -8.58869869e-03,  1.79980006e-02,  1.60423424e-02,\n",
       "       -1.23136425e-02,  1.30801378e-02,  1.55766141e-02,  9.52489953e-03,\n",
       "        1.28648328e-02,  3.96319199e-03,  8.90861731e-03,  7.61547452e-03,\n",
       "        6.83006877e-03,  1.85068920e-02,  9.17102024e-03,  6.58943783e-03,\n",
       "        5.88213606e-03,  1.74482036e-02,  6.69026282e-03,  1.72696039e-02,\n",
       "        1.58680137e-03,  1.24498941e-02,  7.68797519e-03,  9.35717858e-03,\n",
       "       -5.47355693e-03, -7.05848262e-03,  2.30457843e-03,  1.38682323e-02,\n",
       "        1.72327794e-02,  3.27690202e-03,  1.05324900e-02,  1.57177430e-02,\n",
       "        1.03196446e-02,  1.63896149e-03,  2.94147013e-03,  1.24765392e-02,\n",
       "        1.93177033e-02,  1.83321536e-03,  1.32901501e-02,  1.42013915e-02,\n",
       "        7.78047042e-03,  1.10174241e-02, -1.08029949e-03,  1.53064774e-02,\n",
       "        1.47049557e-02,  7.11121480e-04, -1.78935789e-02, -1.39904686e-03,\n",
       "        5.16932318e-03,  5.85887069e-03,  2.30441103e-03,  1.56415682e-02,\n",
       "        1.10568758e-02, -2.39493093e-03,  4.34886431e-03,  1.31303901e-02,\n",
       "        3.25539685e-03, -3.06754513e-03,  7.54182832e-03,  6.85374765e-03,\n",
       "        2.62522115e-03, -9.96837672e-03, -2.84620048e-03, -2.10166560e-03,\n",
       "        2.97729508e-04,  2.13452000e-02,  9.00648814e-03, -1.59037132e-02,\n",
       "       -4.17129952e-04,  6.31441828e-03,  2.48472788e-03, -4.59427340e-03,\n",
       "       -2.02394403e-05,  1.18568474e-02,  1.55083938e-02,  4.41500917e-03,\n",
       "        5.93278091e-03,  8.89777299e-03,  4.39843722e-03,  1.11880642e-03,\n",
       "       -5.89763466e-03, -3.06135206e-03,  6.11251406e-03,  8.03630985e-03,\n",
       "        8.77647940e-03, -2.23236228e-03,  1.17591172e-02,  3.07691190e-03,\n",
       "        3.17795406e-04,  2.11516069e-03, -2.39095255e-03,  5.84896887e-03,\n",
       "        8.01208615e-03,  1.00295823e-02, -5.10077784e-03,  1.81925250e-03,\n",
       "       -2.38311151e-03,  1.12166712e-02, -8.83797091e-03,  1.39491605e-02,\n",
       "        5.78598352e-03,  1.22863390e-02,  9.89615545e-03,  2.55404855e-03,\n",
       "        1.14154601e-02, -3.80472350e-03, -2.42836587e-03,  1.73929501e-02,\n",
       "       -1.23827741e-03,  1.64265023e-03,  7.12166727e-03,  1.19294273e-02,\n",
       "       -3.62098042e-04,  1.10696526e-02,  1.70277283e-02,  1.44953709e-02,\n",
       "        1.79426726e-02, -5.19961957e-03,  1.23994546e-02, -3.29936994e-03,\n",
       "       -1.29638230e-02,  1.40576530e-02,  8.59229825e-03,  4.31648502e-03],\n",
       "      dtype=float32)"
      ]
     },
     "execution_count": 28,
     "metadata": {},
     "output_type": "execute_result"
    }
   ],
   "source": [
    "mtd2829_vector"
   ]
  },
  {
   "cell_type": "code",
   "execution_count": 29,
   "id": "cc42bcfe",
   "metadata": {
    "scrolled": false
   },
   "outputs": [
    {
     "data": {
      "text/plain": [
       "0.037150756"
      ]
     },
     "execution_count": 29,
     "metadata": {},
     "output_type": "execute_result"
    }
   ],
   "source": [
    "np.dot(sh_vector, mtd2829_vector) ## 그 외의 영화에 대해선 0.03"
   ]
  },
  {
   "cell_type": "markdown",
   "id": "db6564c2",
   "metadata": {},
   "source": [
    "## 비슷한 영화 추천 받기"
   ]
  },
  {
   "cell_type": "code",
   "execution_count": 30,
   "id": "f5657b15",
   "metadata": {},
   "outputs": [
    {
     "data": {
      "text/plain": [
       "[(87, 1.0),\n",
       " (48, 0.32488894),\n",
       " (92, 0.30641532),\n",
       " (1474, 0.26252773),\n",
       " (107, 0.26199853),\n",
       " (3489, 0.260618),\n",
       " (2036, 0.25719208),\n",
       " (2695, 0.2531629),\n",
       " (3026, 0.25071847),\n",
       " (3181, 0.25016615),\n",
       " (3154, 0.24580584),\n",
       " (2408, 0.24559827),\n",
       " (3085, 0.24376337),\n",
       " (3139, 0.24243562),\n",
       " (3168, 0.24199456)]"
      ]
     },
     "execution_count": 30,
     "metadata": {},
     "output_type": "execute_result"
    }
   ],
   "source": [
    "# 비슷한 아티스트 찾기\n",
    "\n",
    "favorite_movie = 110\n",
    "movie_id = movie_to_idx[favorite_movie]\n",
    "similar_movie = als_model.similar_items(movie_id, N=15)\n",
    "similar_movie"
   ]
  },
  {
   "cell_type": "code",
   "execution_count": 31,
   "id": "64e73db7",
   "metadata": {
    "scrolled": true
   },
   "outputs": [
    {
     "data": {
      "text/plain": [
       "[110,\n",
       " 2028,\n",
       " 589,\n",
       " 144,\n",
       " 480,\n",
       " 130,\n",
       " 298,\n",
       " 2785,\n",
       " 1902,\n",
       " 3570,\n",
       " 2509,\n",
       " 1896,\n",
       " 3775,\n",
       " 2760,\n",
       " 554]"
      ]
     },
     "execution_count": 31,
     "metadata": {},
     "output_type": "execute_result"
    }
   ],
   "source": [
    "#artist_to_idx 를 뒤집어, index로부터 artist 이름을 얻는 dict를 생성합니다. \n",
    "idx_to_movie = {v:k for k,v in movie_to_idx.items()}\n",
    "[idx_to_movie[i[0]] for i in similar_movie]\n"
   ]
  },
  {
   "cell_type": "code",
   "execution_count": 32,
   "id": "ee46af6c",
   "metadata": {},
   "outputs": [
    {
     "data": {
      "text/plain": [
       "0                         Toy Story (1995)\n",
       "1                           Jumanji (1995)\n",
       "2                  Grumpier Old Men (1995)\n",
       "3                 Waiting to Exhale (1995)\n",
       "4       Father of the Bride Part II (1995)\n",
       "                       ...                \n",
       "3878               Meet the Parents (2000)\n",
       "3879            Requiem for a Dream (2000)\n",
       "3880                      Tigerland (2000)\n",
       "3881               Two Family House (2000)\n",
       "3882                 Contender, The (2000)\n",
       "Name: title, Length: 3883, dtype: object"
      ]
     },
     "execution_count": 32,
     "metadata": {},
     "output_type": "execute_result"
    }
   ],
   "source": [
    "movies['title']"
   ]
  },
  {
   "cell_type": "code",
   "execution_count": 33,
   "id": "6698a99d",
   "metadata": {},
   "outputs": [
    {
     "data": {
      "text/plain": [
       "['Taxi Driver (1976)',\n",
       " 'Sleeping Beauty (1959)',\n",
       " 'Batman (1989)',\n",
       " 'Bad Boys (1995)',\n",
       " 'King of the Hill (1993)',\n",
       " 'Frankie Starlight (1995)',\n",
       " 'Quiz Show (1994)',\n",
       " 'Communion (a.k.a. Alice, Sweet Alice/Holy Terror) (1977)',\n",
       " 'Nightmare on Elm Street 3: Dream Warriors, A (1987)',\n",
       " 'Moonraker (1979)',\n",
       " 'Metroland (1997)',\n",
       " 'Klute (1971)',\n",
       " 'Steel Magnolias (1989)',\n",
       " 'Dudley Do-Right (1999)',\n",
       " 'Mamma Roma (1962)']"
      ]
     },
     "execution_count": 33,
     "metadata": {},
     "output_type": "execute_result"
    }
   ],
   "source": [
    "# 영화넘버에 따른영화 이름 가져오기\n",
    "fM = [idx_to_movie[i[0]] for i in similar_movie]\n",
    "[movies['title'][i-1] for i in fM] "
   ]
  },
  {
   "cell_type": "code",
   "execution_count": 34,
   "id": "7e03c3d6",
   "metadata": {
    "scrolled": true
   },
   "outputs": [
    {
     "data": {
      "text/plain": [
       "[(175, 0.43855786),\n",
       " (172, 0.3688791),\n",
       " (124, 0.3041414),\n",
       " (157, 0.29703313),\n",
       " (48, 0.29333323),\n",
       " (200, 0.28736162),\n",
       " (141, 0.24554995),\n",
       " (44, 0.22630613),\n",
       " (51, 0.21832165),\n",
       " (62, 0.21395773),\n",
       " (27, 0.21282521),\n",
       " (99, 0.19671527),\n",
       " (22, 0.18997306),\n",
       " (117, 0.17084904),\n",
       " (75, 0.1546008),\n",
       " (468, 0.15411608),\n",
       " (82, 0.15162852),\n",
       " (194, 0.15107612),\n",
       " (197, 0.15077192),\n",
       " (276, 0.13898298)]"
      ]
     },
     "execution_count": 34,
     "metadata": {},
     "output_type": "execute_result"
    }
   ],
   "source": [
    "# 내가 가장 좋아할만한 영화 추천받기\n",
    "user = user_to_idx['sh']\n",
    "# recommend에서는 user*item CSR Matrix를 받습니다.\n",
    "movie_recommended = als_model.recommend(user, csr_data, N=20, filter_already_liked_items=True)\n",
    "movie_recommended"
   ]
  },
  {
   "cell_type": "code",
   "execution_count": 35,
   "id": "8af9b2c0",
   "metadata": {},
   "outputs": [
    {
     "data": {
      "text/plain": [
       "[1580,\n",
       " 1291,\n",
       " 2571,\n",
       " 318,\n",
       " 2028,\n",
       " 1240,\n",
       " 457,\n",
       " 260,\n",
       " 608,\n",
       " 2916,\n",
       " 1721,\n",
       " 2858,\n",
       " 1270,\n",
       " 1196,\n",
       " 1610,\n",
       " 3160,\n",
       " 1544,\n",
       " 1036,\n",
       " 1387,\n",
       " 908]"
      ]
     },
     "execution_count": 35,
     "metadata": {},
     "output_type": "execute_result"
    }
   ],
   "source": [
    "[idx_to_movie[i[0]] for i in movie_recommended]"
   ]
  },
  {
   "cell_type": "code",
   "execution_count": 36,
   "id": "a9774ac5",
   "metadata": {},
   "outputs": [
    {
     "data": {
      "text/plain": [
       "['Kicked in the Head (1997)',\n",
       " 'Hype! (1996)',\n",
       " 'Mommie Dearest (1981)',\n",
       " 'Suture (1993)',\n",
       " 'Sleeping Beauty (1959)',\n",
       " 'Stand by Me (1986)',\n",
       " 'Getting Even with Dad (1994)',\n",
       " 'Little Princess, A (1995)',\n",
       " 'Hellraiser: Bloodline (1996)',\n",
       " 'On Any Sunday (1971)',\n",
       " 'Wedding Singer, The (1998)',\n",
       " 'Hairspray (1988)',\n",
       " 'Koyaanisqatsi (1983)',\n",
       " 'GoodFellas (1990)',\n",
       " 'Phantoms (1998)',\n",
       " 'Wirey Spindell (1999)',\n",
       " 'Contact (1997)',\n",
       " 'Ghost and the Darkness, The (1996)',\n",
       " 'Michael (1996)',\n",
       " 'Wizard of Oz, The (1939)']"
      ]
     },
     "execution_count": 36,
     "metadata": {},
     "output_type": "execute_result"
    }
   ],
   "source": [
    "rM = [idx_to_movie[i[0]] for i in movie_recommended]\n",
    "[movies['title'][i-1] for i in rM] "
   ]
  },
  {
   "cell_type": "code",
   "execution_count": 37,
   "id": "1ba792ff",
   "metadata": {},
   "outputs": [],
   "source": [
    "# 왜 Little Princess를 추천 추천에 기여한 정도 표시\n",
    "Little_Princess = movie_to_idx[260]\n",
    "explain = als_model.explain(user, csr_data, itemid=Little_Princess)"
   ]
  },
  {
   "cell_type": "code",
   "execution_count": 38,
   "id": "356d280c",
   "metadata": {},
   "outputs": [
    {
     "data": {
      "text/plain": [
       "[(1198, 0.21223249192223592),\n",
       " (480, 0.044921441377455726),\n",
       " (110, 0.007007826675071542),\n",
       " (589, -0.007519993178300945),\n",
       " (593, -0.03137383255787537)]"
      ]
     },
     "execution_count": 38,
     "metadata": {},
     "output_type": "execute_result"
    }
   ],
   "source": [
    "[(idx_to_movie[i[0]], i[1]) for i in explain[1]]"
   ]
  },
  {
   "cell_type": "code",
   "execution_count": 39,
   "id": "afac2230",
   "metadata": {},
   "outputs": [],
   "source": [
    "rtM =[(idx_to_movie[i[0]], i[1]) for i in explain[1]]"
   ]
  },
  {
   "cell_type": "code",
   "execution_count": 40,
   "id": "48755b08",
   "metadata": {},
   "outputs": [
    {
     "data": {
      "text/plain": [
       "['Saludos Amigos (1943)',\n",
       " 'Glory (1989)',\n",
       " 'Big Sleep, The (1946)',\n",
       " 'Foreign Correspondent (1940)',\n",
       " 'Robin Hood: Prince of Thieves (1991)']"
      ]
     },
     "execution_count": 40,
     "metadata": {},
     "output_type": "execute_result"
    }
   ],
   "source": [
    "# 인덱스 번호에 맞는 영화 이름으로 변환\n",
    "rtM_E = [idx_to_movie[i[0]] for i in rtM]\n",
    "[movies['title'][i-1] for i in rtM_E] "
   ]
  },
  {
   "cell_type": "markdown",
   "id": "177a2d48",
   "metadata": {},
   "source": [
    "## 회고"
   ]
  },
  {
   "cell_type": "markdown",
   "id": "fa231073",
   "metadata": {},
   "source": [
    "- 사용자와 아이템 개수를 바탕으로 정확한 사이즈의 CSR matrix를 정상적으로 만들어 보았다.\n",
    "- MF 모델이 그럴듯한 추천이 이루어 졌다.\n",
    "- MF 모델이 예측한 유저 선호도 및 아이템간 유사도, 기여도를 측정해보았다.\n",
    "- 전체 data 행렬을 CSR Matrix로 분해하여 학습 연산 리소스도 줄이고 효과적으로 데이터를 분석할 수 있게 만든 점이 인상 깊었다.\n",
    "- 필요한 벡터값만을 가지고 CSR Matrix내의 값을 바로 내적으로 연산할수 있는것이 굉장히 효과적이였다.\n",
    "- 모델이 자체적으로 영화 벡터간 기여도 유사도를 측정하여 각각의 유사도가 잘 분석 된 것을 확인 할 수 있었다.\n",
    "- 인덱스를 영화넘버로 변환하는 과정에서 전체 영화넘버(3883)를 초과하는 영화넘버가 나오는 경우가 있었다. 추후 코드확인"
   ]
  }
 ],
 "metadata": {
  "kernelspec": {
   "display_name": "Python 3 (ipykernel)",
   "language": "python",
   "name": "python3"
  },
  "language_info": {
   "codemirror_mode": {
    "name": "ipython",
    "version": 3
   },
   "file_extension": ".py",
   "mimetype": "text/x-python",
   "name": "python",
   "nbconvert_exporter": "python",
   "pygments_lexer": "ipython3",
   "version": "3.9.7"
  }
 },
 "nbformat": 4,
 "nbformat_minor": 5
}
