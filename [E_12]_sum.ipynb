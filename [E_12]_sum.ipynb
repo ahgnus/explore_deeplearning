{
 "cells": [
  {
   "cell_type": "code",
   "execution_count": 3,
   "id": "d0310c45",
   "metadata": {},
   "outputs": [
    {
     "name": "stderr",
     "output_type": "stream",
     "text": [
      "[nltk_data] Downloading package stopwords to /aiffel/nltk_data...\n",
      "[nltk_data]   Package stopwords is already up-to-date!\n"
     ]
    },
    {
     "name": "stdout",
     "output_type": "stream",
     "text": [
      "3.6.5\n",
      "2.6.0\n",
      "1.2.0\n"
     ]
    }
   ],
   "source": [
    "from importlib.metadata import version\n",
    "import nltk\n",
    "import tensorflow\n",
    "import summa\n",
    "import nltk\n",
    "nltk.download('stopwords')\n",
    "\n",
    "import numpy as np\n",
    "import pandas as pd\n",
    "import os\n",
    "import re\n",
    "import matplotlib.pyplot as plt\n",
    "from nltk.corpus import stopwords\n",
    "from bs4 import BeautifulSoup \n",
    "from tensorflow.keras.preprocessing.text import Tokenizer \n",
    "from tensorflow.keras.preprocessing.sequence import pad_sequences\n",
    "import urllib.request\n",
    "import warnings\n",
    "warnings.filterwarnings(\"ignore\", category=UserWarning, module='bs4')\n",
    "\n",
    "\n",
    "\n",
    "print(nltk.__version__)\n",
    "print(tensorflow.__version__)\n",
    "print(version('summa'))"
   ]
  },
  {
   "cell_type": "code",
   "execution_count": 4,
   "id": "4841fd64",
   "metadata": {},
   "outputs": [],
   "source": [
    "# 뉴스기사 다운로드\n",
    "import urllib.request\n",
    "urllib.request.urlretrieve(\"https://raw.githubusercontent.com/sunnysai12345/News_Summary/master/news_summary_more.csv\", filename=\"news_summary_more.csv\")\n",
    "data = pd.read_csv('news_summary_more.csv', encoding='iso-8859-1')"
   ]
  },
  {
   "cell_type": "code",
   "execution_count": 5,
   "id": "bbcc37ca",
   "metadata": {},
   "outputs": [
    {
     "data": {
      "text/html": [
       "<div>\n",
       "<style scoped>\n",
       "    .dataframe tbody tr th:only-of-type {\n",
       "        vertical-align: middle;\n",
       "    }\n",
       "\n",
       "    .dataframe tbody tr th {\n",
       "        vertical-align: top;\n",
       "    }\n",
       "\n",
       "    .dataframe thead th {\n",
       "        text-align: right;\n",
       "    }\n",
       "</style>\n",
       "<table border=\"1\" class=\"dataframe\">\n",
       "  <thead>\n",
       "    <tr style=\"text-align: right;\">\n",
       "      <th></th>\n",
       "      <th>headlines</th>\n",
       "      <th>text</th>\n",
       "    </tr>\n",
       "  </thead>\n",
       "  <tbody>\n",
       "    <tr>\n",
       "      <th>82862</th>\n",
       "      <td>180-year-old mystery of 'strangest animal ever...</td>\n",
       "      <td>Germany-based scientists have traced the famil...</td>\n",
       "    </tr>\n",
       "    <tr>\n",
       "      <th>11583</th>\n",
       "      <td>Hindu-Muslim unity shouldn't be disturbed: Uni...</td>\n",
       "      <td>Stating that it is not right to demand an ordi...</td>\n",
       "    </tr>\n",
       "    <tr>\n",
       "      <th>48815</th>\n",
       "      <td>Game of Thrones creators to write new Star War...</td>\n",
       "      <td>Disney on Tuesday announced that it is hiring ...</td>\n",
       "    </tr>\n",
       "    <tr>\n",
       "      <th>35391</th>\n",
       "      <td>Organisers slam fans for taking collapsed runn...</td>\n",
       "      <td>Organisers of the Commonwealth Games 2018 slam...</td>\n",
       "    </tr>\n",
       "    <tr>\n",
       "      <th>14797</th>\n",
       "      <td>Aerial pic shows near-collision between US-Chi...</td>\n",
       "      <td>An aerial picture taken by the US Navy shows a...</td>\n",
       "    </tr>\n",
       "    <tr>\n",
       "      <th>71304</th>\n",
       "      <td>Won't acknowledge NIA raids until results foun...</td>\n",
       "      <td>Jammu and Kashmir National Conference Presiden...</td>\n",
       "    </tr>\n",
       "    <tr>\n",
       "      <th>95389</th>\n",
       "      <td>LV Revanth named winner of Indian Idol 9</td>\n",
       "      <td>LV Revanth from Andhra Pradesh was named the w...</td>\n",
       "    </tr>\n",
       "    <tr>\n",
       "      <th>62808</th>\n",
       "      <td>K'taka pvt hospitals shut as doctors protest m...</td>\n",
       "      <td>Private hospitals across Karnataka remained sh...</td>\n",
       "    </tr>\n",
       "    <tr>\n",
       "      <th>1661</th>\n",
       "      <td>I want India to be a superpower in Test cricke...</td>\n",
       "      <td>Team India captain Virat Kohli has said that h...</td>\n",
       "    </tr>\n",
       "    <tr>\n",
       "      <th>37997</th>\n",
       "      <td>Former UP CM Akhilesh Yadav bans media from ne...</td>\n",
       "      <td>Interacting with the media during Eid celebrat...</td>\n",
       "    </tr>\n",
       "  </tbody>\n",
       "</table>\n",
       "</div>"
      ],
      "text/plain": [
       "                                               headlines  \\\n",
       "82862  180-year-old mystery of 'strangest animal ever...   \n",
       "11583  Hindu-Muslim unity shouldn't be disturbed: Uni...   \n",
       "48815  Game of Thrones creators to write new Star War...   \n",
       "35391  Organisers slam fans for taking collapsed runn...   \n",
       "14797  Aerial pic shows near-collision between US-Chi...   \n",
       "71304  Won't acknowledge NIA raids until results foun...   \n",
       "95389           LV Revanth named winner of Indian Idol 9   \n",
       "62808  K'taka pvt hospitals shut as doctors protest m...   \n",
       "1661   I want India to be a superpower in Test cricke...   \n",
       "37997  Former UP CM Akhilesh Yadav bans media from ne...   \n",
       "\n",
       "                                                    text  \n",
       "82862  Germany-based scientists have traced the famil...  \n",
       "11583  Stating that it is not right to demand an ordi...  \n",
       "48815  Disney on Tuesday announced that it is hiring ...  \n",
       "35391  Organisers of the Commonwealth Games 2018 slam...  \n",
       "14797  An aerial picture taken by the US Navy shows a...  \n",
       "71304  Jammu and Kashmir National Conference Presiden...  \n",
       "95389  LV Revanth from Andhra Pradesh was named the w...  \n",
       "62808  Private hospitals across Karnataka remained sh...  \n",
       "1661   Team India captain Virat Kohli has said that h...  \n",
       "37997  Interacting with the media during Eid celebrat...  "
      ]
     },
     "execution_count": 5,
     "metadata": {},
     "output_type": "execute_result"
    }
   ],
   "source": [
    "data.sample(10)"
   ]
  },
  {
   "cell_type": "markdown",
   "id": "7d6e2b25",
   "metadata": {},
   "source": [
    "## 추상적 요약"
   ]
  },
  {
   "cell_type": "code",
   "execution_count": 6,
   "id": "558e233a",
   "metadata": {},
   "outputs": [
    {
     "name": "stdout",
     "output_type": "stream",
     "text": [
      "text 열에서 중복을 배제한 유일한 샘플의 수 : 98360\n",
      "headline 열에서 중복을 배제한 유일한 샘플의 수 : 98280\n"
     ]
    }
   ],
   "source": [
    "print('text 열에서 중복을 배제한 유일한 샘플의 수 :', data['text'].nunique())\n",
    "print('headline 열에서 중복을 배제한 유일한 샘플의 수 :', data['headlines'].nunique())"
   ]
  },
  {
   "cell_type": "code",
   "execution_count": 8,
   "id": "67921c6e",
   "metadata": {},
   "outputs": [
    {
     "name": "stdout",
     "output_type": "stream",
     "text": [
      "전체 샘플수 : 98360\n"
     ]
    }
   ],
   "source": [
    "# inplace=True 를 설정하면 DataFrame 타입 값을 return 하지 않고 data 내부를 직접적으로 바꿉니다\n",
    "data.drop_duplicates(subset = ['text'], inplace=True)\n",
    "print('전체 샘플수 :', (len(data)))"
   ]
  },
  {
   "cell_type": "code",
   "execution_count": 9,
   "id": "989f7b56",
   "metadata": {},
   "outputs": [
    {
     "name": "stdout",
     "output_type": "stream",
     "text": [
      "headlines    0\n",
      "text         0\n",
      "dtype: int64\n"
     ]
    }
   ],
   "source": [
    "print(data.isnull().sum())"
   ]
  },
  {
   "cell_type": "code",
   "execution_count": 10,
   "id": "e6298e22",
   "metadata": {},
   "outputs": [
    {
     "name": "stdout",
     "output_type": "stream",
     "text": [
      "정규화 사전의 수:  120\n"
     ]
    }
   ],
   "source": [
    "# 정규화 사전\n",
    "contractions = {\"ain't\": \"is not\", \"aren't\": \"are not\",\"can't\": \"cannot\", \"'cause\": \"because\", \"could've\": \"could have\", \"couldn't\": \"could not\",\n",
    "                           \"didn't\": \"did not\",  \"doesn't\": \"does not\", \"don't\": \"do not\", \"hadn't\": \"had not\", \"hasn't\": \"has not\", \"haven't\": \"have not\",\n",
    "                           \"he'd\": \"he would\",\"he'll\": \"he will\", \"he's\": \"he is\", \"how'd\": \"how did\", \"how'd'y\": \"how do you\", \"how'll\": \"how will\", \"how's\": \"how is\",\n",
    "                           \"I'd\": \"I would\", \"I'd've\": \"I would have\", \"I'll\": \"I will\", \"I'll've\": \"I will have\",\"I'm\": \"I am\", \"I've\": \"I have\", \"i'd\": \"i would\",\n",
    "                           \"i'd've\": \"i would have\", \"i'll\": \"i will\",  \"i'll've\": \"i will have\",\"i'm\": \"i am\", \"i've\": \"i have\", \"isn't\": \"is not\", \"it'd\": \"it would\",\n",
    "                           \"it'd've\": \"it would have\", \"it'll\": \"it will\", \"it'll've\": \"it will have\",\"it's\": \"it is\", \"let's\": \"let us\", \"ma'am\": \"madam\",\n",
    "                           \"mayn't\": \"may not\", \"might've\": \"might have\",\"mightn't\": \"might not\",\"mightn't've\": \"might not have\", \"must've\": \"must have\",\n",
    "                           \"mustn't\": \"must not\", \"mustn't've\": \"must not have\", \"needn't\": \"need not\", \"needn't've\": \"need not have\",\"o'clock\": \"of the clock\",\n",
    "                           \"oughtn't\": \"ought not\", \"oughtn't've\": \"ought not have\", \"shan't\": \"shall not\", \"sha'n't\": \"shall not\", \"shan't've\": \"shall not have\",\n",
    "                           \"she'd\": \"she would\", \"she'd've\": \"she would have\", \"she'll\": \"she will\", \"she'll've\": \"she will have\", \"she's\": \"she is\",\n",
    "                           \"should've\": \"should have\", \"shouldn't\": \"should not\", \"shouldn't've\": \"should not have\", \"so've\": \"so have\",\"so's\": \"so as\",\n",
    "                           \"this's\": \"this is\",\"that'd\": \"that would\", \"that'd've\": \"that would have\", \"that's\": \"that is\", \"there'd\": \"there would\",\n",
    "                           \"there'd've\": \"there would have\", \"there's\": \"there is\", \"here's\": \"here is\",\"they'd\": \"they would\", \"they'd've\": \"they would have\",\n",
    "                           \"they'll\": \"they will\", \"they'll've\": \"they will have\", \"they're\": \"they are\", \"they've\": \"they have\", \"to've\": \"to have\",\n",
    "                           \"wasn't\": \"was not\", \"we'd\": \"we would\", \"we'd've\": \"we would have\", \"we'll\": \"we will\", \"we'll've\": \"we will have\", \"we're\": \"we are\",\n",
    "                           \"we've\": \"we have\", \"weren't\": \"were not\", \"what'll\": \"what will\", \"what'll've\": \"what will have\", \"what're\": \"what are\",\n",
    "                           \"what's\": \"what is\", \"what've\": \"what have\", \"when's\": \"when is\", \"when've\": \"when have\", \"where'd\": \"where did\", \"where's\": \"where is\",\n",
    "                           \"where've\": \"where have\", \"who'll\": \"who will\", \"who'll've\": \"who will have\", \"who's\": \"who is\", \"who've\": \"who have\",\n",
    "                           \"why's\": \"why is\", \"why've\": \"why have\", \"will've\": \"will have\", \"won't\": \"will not\", \"won't've\": \"will not have\",\n",
    "                           \"would've\": \"would have\", \"wouldn't\": \"would not\", \"wouldn't've\": \"would not have\", \"y'all\": \"you all\",\n",
    "                           \"y'all'd\": \"you all would\",\"y'all'd've\": \"you all would have\",\"y'all're\": \"you all are\",\"y'all've\": \"you all have\",\n",
    "                           \"you'd\": \"you would\", \"you'd've\": \"you would have\", \"you'll\": \"you will\", \"you'll've\": \"you will have\",\n",
    "                           \"you're\": \"you are\", \"you've\": \"you have\"}\n",
    "\n",
    "print(\"정규화 사전의 수: \", len(contractions))"
   ]
  },
  {
   "cell_type": "code",
   "execution_count": 11,
   "id": "87081a05",
   "metadata": {},
   "outputs": [
    {
     "name": "stdout",
     "output_type": "stream",
     "text": [
      "불용어 개수 : 179\n",
      "['i', 'me', 'my', 'myself', 'we', 'our', 'ours', 'ourselves', 'you', \"you're\", \"you've\", \"you'll\", \"you'd\", 'your', 'yours', 'yourself', 'yourselves', 'he', 'him', 'his', 'himself', 'she', \"she's\", 'her', 'hers', 'herself', 'it', \"it's\", 'its', 'itself', 'they', 'them', 'their', 'theirs', 'themselves', 'what', 'which', 'who', 'whom', 'this', 'that', \"that'll\", 'these', 'those', 'am', 'is', 'are', 'was', 'were', 'be', 'been', 'being', 'have', 'has', 'had', 'having', 'do', 'does', 'did', 'doing', 'a', 'an', 'the', 'and', 'but', 'if', 'or', 'because', 'as', 'until', 'while', 'of', 'at', 'by', 'for', 'with', 'about', 'against', 'between', 'into', 'through', 'during', 'before', 'after', 'above', 'below', 'to', 'from', 'up', 'down', 'in', 'out', 'on', 'off', 'over', 'under', 'again', 'further', 'then', 'once', 'here', 'there', 'when', 'where', 'why', 'how', 'all', 'any', 'both', 'each', 'few', 'more', 'most', 'other', 'some', 'such', 'no', 'nor', 'not', 'only', 'own', 'same', 'so', 'than', 'too', 'very', 's', 't', 'can', 'will', 'just', 'don', \"don't\", 'should', \"should've\", 'now', 'd', 'll', 'm', 'o', 're', 've', 'y', 'ain', 'aren', \"aren't\", 'couldn', \"couldn't\", 'didn', \"didn't\", 'doesn', \"doesn't\", 'hadn', \"hadn't\", 'hasn', \"hasn't\", 'haven', \"haven't\", 'isn', \"isn't\", 'ma', 'mightn', \"mightn't\", 'mustn', \"mustn't\", 'needn', \"needn't\", 'shan', \"shan't\", 'shouldn', \"shouldn't\", 'wasn', \"wasn't\", 'weren', \"weren't\", 'won', \"won't\", 'wouldn', \"wouldn't\"]\n"
     ]
    }
   ],
   "source": [
    "print('불용어 개수 :', len(stopwords.words('english') ))\n",
    "print(stopwords.words('english'))"
   ]
  },
  {
   "cell_type": "code",
   "execution_count": 12,
   "id": "2638201a",
   "metadata": {},
   "outputs": [],
   "source": [
    "# 데이터 전처리 함수\n",
    "def preprocess_sentence(sentence, remove_stopwords=True):\n",
    "    sentence = sentence.lower() # 텍스트 소문자화\n",
    "    sentence = BeautifulSoup(sentence, \"lxml\").text # <br />, <a href = ...> 등의 html 태그 제거\n",
    "    sentence = re.sub(r'\\([^)]*\\)', '', sentence) # 괄호로 닫힌 문자열 (...) 제거 Ex) my husband (and myself!) for => my husband for\n",
    "    sentence = re.sub('\"','', sentence) # 쌍따옴표 \" 제거\n",
    "    sentence = ' '.join([contractions[t] if t in contractions else t for t in sentence.split(\" \")]) # 약어 정규화\n",
    "    sentence = re.sub(r\"'s\\b\",\"\", sentence) # 소유격 제거. Ex) roland's -> roland\n",
    "    sentence = re.sub(\"[^a-zA-Z]\", \" \", sentence) # 영어 외 문자(숫자, 특수문자 등) 공백으로 변환\n",
    "    sentence = re.sub('[m]{2,}', 'mm', sentence) # m이 3개 이상이면 2개로 변경. Ex) ummmmmmm yeah -> umm yeah\n",
    "    \n",
    "    # 불용어 제거 (Text)\n",
    "    if remove_stopwords:\n",
    "        tokens = ' '.join(word for word in sentence.split() if not word in stopwords.words('english') if len(word) > 1)\n",
    "    # 불용어 미제거 (Summary)\n",
    "    else:\n",
    "        tokens = ' '.join(word for word in sentence.split() if len(word) > 1)\n",
    "    return tokens"
   ]
  },
  {
   "cell_type": "code",
   "execution_count": 13,
   "id": "7375c377",
   "metadata": {},
   "outputs": [
    {
     "name": "stdout",
     "output_type": "stream",
     "text": [
      "Text 전처리 후 결과:  ['saurav kant alumnus upgrad iiit pg program machine learning artificial intelligence sr systems engineer infosys almost years work experience program upgrad degree career support helped transition data scientist tech mahindra salary hike upgrad online power learning powered lakh careers', 'kunal shah credit card bill payment platform cred gave users chance win free food swiggy one year pranav kaushik delhi techie bagged reward spending cred coins users get one cred coin per rupee bill paid used avail rewards brands like ixigo bookmyshow ubereats cult fit', 'new zealand defeated india wickets fourth odi hamilton thursday win first match five match odi series india lost international match rohit sharma captaincy consecutive victories dating back march match witnessed india getting seventh lowest total odi cricket history', 'aegon life iterm insurance plan customers enjoy tax benefits premiums paid save taxes plan provides life cover age years also customers options insure critical illnesses disability accidental death benefit rider life cover age years', 'speaking sexual harassment allegations rajkumar hirani sonam kapoor said known hirani many years true metoo movement get derailed metoo movement always believe woman case need reserve judgment added hirani accused assistant worked sanju']\n"
     ]
    }
   ],
   "source": [
    "clean_text = []\n",
    "# 전체 Text 데이터에 대한 전처리 : 10분 이상 시간이 걸릴 수 있습니다. \n",
    "for s in data['text']:\n",
    "    clean_text.append(preprocess_sentence(s))\n",
    "\n",
    "# 전처리 후 출력\n",
    "print(\"Text 전처리 후 결과: \", clean_text[:5])"
   ]
  },
  {
   "cell_type": "code",
   "execution_count": 30,
   "id": "26d01de9",
   "metadata": {},
   "outputs": [
    {
     "name": "stdout",
     "output_type": "stream",
     "text": [
      "headlines 전처리 후 결과:  ['upgrad learner switches to career in ml al with salary hike', 'delhi techie wins free food from swiggy for one year on cred', 'new zealand end rohit sharma led india match winning streak', 'aegon life iterm insurance plan helps customers save tax', 'have known hirani for yrs what if metoo claims are not true sonam']\n"
     ]
    }
   ],
   "source": [
    "clean_headlines = []\n",
    "# 전체 Summary 데이터에 대한 전처리 : 5분 이상 시간이 걸릴 수 있습니다. \n",
    "for s in data['headlines']:\n",
    "    clean_headlines.append(preprocess_sentence(s, False))\n",
    "\n",
    "print(\"headlines 전처리 후 결과: \", clean_headlines[:5])"
   ]
  },
  {
   "cell_type": "code",
   "execution_count": 31,
   "id": "7bbbd9ab",
   "metadata": {},
   "outputs": [
    {
     "name": "stdout",
     "output_type": "stream",
     "text": [
      "텍스트의 최소 길이 : 1\n",
      "텍스트의 최대 길이 : 65\n",
      "텍스트의 평균 길이 : 58.23709032448438\n",
      "요약의 최소 길이 : 1\n",
      "요약의 최대 길이 : 18\n",
      "요약의 평균 길이 : 9.553660024400163\n"
     ]
    },
    {
     "data": {
      "image/png": "[encoded data removed]",
      "text/plain": [
       "<Figure size 432x288 with 2 Axes>"
      ]
     },
     "metadata": {
      "needs_background": "light"
     },
     "output_type": "display_data"
    },
    {
     "data": {
      "image/png": "[encoded data removed]",
      "text/plain": [
       "<Figure size 432x288 with 1 Axes>"
      ]
     },
     "metadata": {
      "needs_background": "light"
     },
     "output_type": "display_data"
    },
    {
     "data": {
      "image/png": "[encoded data removed]",
      "text/plain": [
       "<Figure size 432x288 with 1 Axes>"
      ]
     },
     "metadata": {
      "needs_background": "light"
     },
     "output_type": "display_data"
    }
   ],
   "source": [
    "# 길이 분포 출력\n",
    "import matplotlib.pyplot as plt\n",
    "\n",
    "text_len = [len(s.split()) for s in data['text']]\n",
    "headlines_len = [len(s.split()) for s in data['headlines']]\n",
    "\n",
    "print('텍스트의 최소 길이 : {}'.format(np.min(text_len)))\n",
    "print('텍스트의 최대 길이 : {}'.format(np.max(text_len)))\n",
    "print('텍스트의 평균 길이 : {}'.format(np.mean(text_len)))\n",
    "print('요약의 최소 길이 : {}'.format(np.min(summary_len)))\n",
    "print('요약의 최대 길이 : {}'.format(np.max(summary_len)))\n",
    "print('요약의 평균 길이 : {}'.format(np.mean(summary_len)))\n",
    "\n",
    "plt.subplot(1,2,1)\n",
    "plt.boxplot(text_len)\n",
    "plt.title('Text')\n",
    "plt.subplot(1,2,2)\n",
    "plt.boxplot(headlines_len)\n",
    "plt.title('Headlines')\n",
    "plt.tight_layout()\n",
    "plt.show()\n",
    "\n",
    "plt.title('Text')\n",
    "plt.hist(text_len, bins = 40)\n",
    "plt.xlabel('length of samples')\n",
    "plt.ylabel('number of samples')\n",
    "plt.show()\n",
    "\n",
    "plt.title('Headlinse')\n",
    "plt.hist(summary_len, bins = 40)\n",
    "plt.xlabel('length of samples')\n",
    "plt.ylabel('number of samples')\n",
    "plt.show()"
   ]
  },
  {
   "cell_type": "code",
   "execution_count": 35,
   "id": "047f1b73",
   "metadata": {},
   "outputs": [],
   "source": [
    "text_max_len = 63\n",
    "headlines_max_len = 13"
   ]
  },
  {
   "cell_type": "code",
   "execution_count": 36,
   "id": "02c85c09",
   "metadata": {},
   "outputs": [],
   "source": [
    "def below_threshold_len(max_len, nested_list):\n",
    "  cnt = 0\n",
    "  for s in nested_list:\n",
    "    if(len(s.split()) <= max_len):\n",
    "        cnt = cnt + 1\n",
    "  print('전체 샘플 중 길이가 %s 이하인 샘플의 비율: %s'%(max_len, (cnt / len(nested_list))))"
   ]
  },
  {
   "cell_type": "code",
   "execution_count": 37,
   "id": "7a9f0dd5",
   "metadata": {},
   "outputs": [
    {
     "name": "stdout",
     "output_type": "stream",
     "text": [
      "전체 샘플 중 길이가 63 이하인 샘플의 비율: 0.9997964977258621\n",
      "전체 샘플 중 길이가 13 이하인 샘플의 비율: 0.9965608115670692\n"
     ]
    }
   ],
   "source": [
    "below_threshold_len(text_max_len, data['text'])\n",
    "below_threshold_len(headlines_max_len,  data['headlines'])"
   ]
  },
  {
   "cell_type": "code",
   "execution_count": 38,
   "id": "25963078",
   "metadata": {},
   "outputs": [
    {
     "name": "stdout",
     "output_type": "stream",
     "text": [
      "전체 샘플수 : 97921\n"
     ]
    }
   ],
   "source": [
    "data = data[data['text'].apply(lambda x: len(x.split()) <= text_max_len)]\n",
    "data = data[data['headlines'].apply(lambda x: len(x.split()) <= headlines_max_len)]\n",
    "print('전체 샘플수 :', (len(data)))"
   ]
  },
  {
   "cell_type": "code",
   "execution_count": 39,
   "id": "3e3d6b7a",
   "metadata": {},
   "outputs": [
    {
     "data": {
      "text/html": [
       "<div>\n",
       "<style scoped>\n",
       "    .dataframe tbody tr th:only-of-type {\n",
       "        vertical-align: middle;\n",
       "    }\n",
       "\n",
       "    .dataframe tbody tr th {\n",
       "        vertical-align: top;\n",
       "    }\n",
       "\n",
       "    .dataframe thead th {\n",
       "        text-align: right;\n",
       "    }\n",
       "</style>\n",
       "<table border=\"1\" class=\"dataframe\">\n",
       "  <thead>\n",
       "    <tr style=\"text-align: right;\">\n",
       "      <th></th>\n",
       "      <th>headlines</th>\n",
       "      <th>text</th>\n",
       "      <th>Text</th>\n",
       "      <th>decoder_input</th>\n",
       "      <th>decoder_target</th>\n",
       "    </tr>\n",
       "  </thead>\n",
       "  <tbody>\n",
       "    <tr>\n",
       "      <th>0</th>\n",
       "      <td>upGrad learner switches to career in ML &amp; Al w...</td>\n",
       "      <td>Saurav Kant, an alumnus of upGrad and IIIT-B's...</td>\n",
       "      <td>saurav kant alumnus upgrad iiit pg program mac...</td>\n",
       "      <td>sostoken upGrad learner switches to career in ...</td>\n",
       "      <td>upGrad learner switches to career in ML &amp; Al w...</td>\n",
       "    </tr>\n",
       "    <tr>\n",
       "      <th>1</th>\n",
       "      <td>Delhi techie wins free food from Swiggy for on...</td>\n",
       "      <td>Kunal Shah's credit card bill payment platform...</td>\n",
       "      <td>kunal shah credit card bill payment platform c...</td>\n",
       "      <td>sostoken Delhi techie wins free food from Swig...</td>\n",
       "      <td>Delhi techie wins free food from Swiggy for on...</td>\n",
       "    </tr>\n",
       "    <tr>\n",
       "      <th>2</th>\n",
       "      <td>New Zealand end Rohit Sharma-led India's 12-ma...</td>\n",
       "      <td>New Zealand defeated India by 8 wickets in the...</td>\n",
       "      <td>new zealand defeated india wickets fourth odi ...</td>\n",
       "      <td>sostoken New Zealand end Rohit Sharma-led Indi...</td>\n",
       "      <td>New Zealand end Rohit Sharma-led India's 12-ma...</td>\n",
       "    </tr>\n",
       "    <tr>\n",
       "      <th>3</th>\n",
       "      <td>Aegon life iTerm insurance plan helps customer...</td>\n",
       "      <td>With Aegon Life iTerm Insurance plan, customer...</td>\n",
       "      <td>aegon life iterm insurance plan customers enjo...</td>\n",
       "      <td>sostoken Aegon life iTerm insurance plan helps...</td>\n",
       "      <td>Aegon life iTerm insurance plan helps customer...</td>\n",
       "    </tr>\n",
       "    <tr>\n",
       "      <th>4</th>\n",
       "      <td>Have known Hirani for yrs, what if MeToo claim...</td>\n",
       "      <td>Speaking about the sexual harassment allegatio...</td>\n",
       "      <td>speaking sexual harassment allegations rajkuma...</td>\n",
       "      <td>sostoken Have known Hirani for yrs, what if Me...</td>\n",
       "      <td>Have known Hirani for yrs, what if MeToo claim...</td>\n",
       "    </tr>\n",
       "  </tbody>\n",
       "</table>\n",
       "</div>"
      ],
      "text/plain": [
       "                                           headlines  \\\n",
       "0  upGrad learner switches to career in ML & Al w...   \n",
       "1  Delhi techie wins free food from Swiggy for on...   \n",
       "2  New Zealand end Rohit Sharma-led India's 12-ma...   \n",
       "3  Aegon life iTerm insurance plan helps customer...   \n",
       "4  Have known Hirani for yrs, what if MeToo claim...   \n",
       "\n",
       "                                                text  \\\n",
       "0  Saurav Kant, an alumnus of upGrad and IIIT-B's...   \n",
       "1  Kunal Shah's credit card bill payment platform...   \n",
       "2  New Zealand defeated India by 8 wickets in the...   \n",
       "3  With Aegon Life iTerm Insurance plan, customer...   \n",
       "4  Speaking about the sexual harassment allegatio...   \n",
       "\n",
       "                                                Text  \\\n",
       "0  saurav kant alumnus upgrad iiit pg program mac...   \n",
       "1  kunal shah credit card bill payment platform c...   \n",
       "2  new zealand defeated india wickets fourth odi ...   \n",
       "3  aegon life iterm insurance plan customers enjo...   \n",
       "4  speaking sexual harassment allegations rajkuma...   \n",
       "\n",
       "                                       decoder_input  \\\n",
       "0  sostoken upGrad learner switches to career in ...   \n",
       "1  sostoken Delhi techie wins free food from Swig...   \n",
       "2  sostoken New Zealand end Rohit Sharma-led Indi...   \n",
       "3  sostoken Aegon life iTerm insurance plan helps...   \n",
       "4  sostoken Have known Hirani for yrs, what if Me...   \n",
       "\n",
       "                                      decoder_target  \n",
       "0  upGrad learner switches to career in ML & Al w...  \n",
       "1  Delhi techie wins free food from Swiggy for on...  \n",
       "2  New Zealand end Rohit Sharma-led India's 12-ma...  \n",
       "3  Aegon life iTerm insurance plan helps customer...  \n",
       "4  Have known Hirani for yrs, what if MeToo claim...  "
      ]
     },
     "execution_count": 39,
     "metadata": {},
     "output_type": "execute_result"
    }
   ],
   "source": [
    "# 요약 데이터에는 시작 토큰과 종료 토큰을 추가한다.\n",
    "data['decoder_input'] = data['headlines'].apply(lambda x : 'sostoken '+ x)\n",
    "data['decoder_target'] = data['headlines'].apply(lambda x : x + ' eostoken')\n",
    "data.head()"
   ]
  },
  {
   "cell_type": "code",
   "execution_count": 40,
   "id": "91e2e315",
   "metadata": {},
   "outputs": [],
   "source": [
    "encoder_input = np.array(data['Text']) # 인코더의 입력\n",
    "decoder_input = np.array(data['decoder_input']) # 디코더의 입력\n",
    "decoder_target = np.array(data['decoder_target']) # 디코더의 레이블"
   ]
  },
  {
   "cell_type": "code",
   "execution_count": 41,
   "id": "eb186cba",
   "metadata": {},
   "outputs": [
    {
     "name": "stdout",
     "output_type": "stream",
     "text": [
      "[67159 27406 48557 ... 16575 94017 10794]\n"
     ]
    }
   ],
   "source": [
    "indices = np.arange(encoder_input.shape[0])\n",
    "np.random.shuffle(indices)\n",
    "print(indices)"
   ]
  },
  {
   "cell_type": "code",
   "execution_count": 43,
   "id": "5e879dcd",
   "metadata": {},
   "outputs": [],
   "source": [
    "encoder_input = encoder_input[indices]\n",
    "decoder_input = decoder_input[indices]\n",
    "decoder_target = decoder_target[indices]"
   ]
  },
  {
   "cell_type": "code",
   "execution_count": 44,
   "id": "d7762fe7",
   "metadata": {},
   "outputs": [
    {
     "name": "stdout",
     "output_type": "stream",
     "text": [
      "테스트 데이터의 수 : 19584\n"
     ]
    }
   ],
   "source": [
    "n_of_val = int(len(encoder_input)*0.2)\n",
    "print('테스트 데이터의 수 :', n_of_val)"
   ]
  },
  {
   "cell_type": "code",
   "execution_count": 45,
   "id": "866d0c8d",
   "metadata": {},
   "outputs": [
    {
     "name": "stdout",
     "output_type": "stream",
     "text": [
      "훈련 데이터의 개수 : 78337\n",
      "훈련 레이블의 개수 : 78337\n",
      "테스트 데이터의 개수 : 19584\n",
      "테스트 레이블의 개수 : 19584\n"
     ]
    }
   ],
   "source": [
    "encoder_input_train = encoder_input[:-n_of_val]\n",
    "decoder_input_train = decoder_input[:-n_of_val]\n",
    "decoder_target_train = decoder_target[:-n_of_val]\n",
    "\n",
    "encoder_input_test = encoder_input[-n_of_val:]\n",
    "decoder_input_test = decoder_input[-n_of_val:]\n",
    "decoder_target_test = decoder_target[-n_of_val:]\n",
    "\n",
    "print('훈련 데이터의 개수 :', len(encoder_input_train))\n",
    "print('훈련 레이블의 개수 :', len(decoder_input_train))\n",
    "print('테스트 데이터의 개수 :', len(encoder_input_test))\n",
    "print('테스트 레이블의 개수 :', len(decoder_input_test))"
   ]
  },
  {
   "cell_type": "code",
   "execution_count": 46,
   "id": "312f0efb",
   "metadata": {},
   "outputs": [],
   "source": [
    "src_tokenizer = Tokenizer() # 토크나이저 정의\n",
    "src_tokenizer.fit_on_texts(encoder_input_train) # 입력된 데이터로부터 단어 집합 생성"
   ]
  },
  {
   "cell_type": "code",
   "execution_count": 47,
   "id": "4a96af97",
   "metadata": {},
   "outputs": [
    {
     "name": "stdout",
     "output_type": "stream",
     "text": [
      "단어 집합(vocabulary)의 크기 : 69469\n",
      "등장 빈도가 6번 이하인 희귀 단어의 수: 47360\n",
      "단어 집합에서 희귀 단어를 제외시킬 경우의 단어 집합의 크기 22109\n",
      "단어 집합에서 희귀 단어의 비율: 68.17429356979372\n",
      "전체 등장 빈도에서 희귀 단어 등장 빈도 비율: 3.5050867798274403\n"
     ]
    }
   ],
   "source": [
    "threshold = 7\n",
    "total_cnt = len(src_tokenizer.word_index) # 단어의 수\n",
    "rare_cnt = 0 # 등장 빈도수가 threshold보다 작은 단어의 개수를 카운트\n",
    "total_freq = 0 # 훈련 데이터의 전체 단어 빈도수 총 합\n",
    "rare_freq = 0 # 등장 빈도수가 threshold보다 작은 단어의 등장 빈도수의 총 합\n",
    "\n",
    "# 단어와 빈도수의 쌍(pair)을 key와 value로 받는다.\n",
    "for key, value in src_tokenizer.word_counts.items():\n",
    "    total_freq = total_freq + value\n",
    "\n",
    "    # 단어의 등장 빈도수가 threshold보다 작으면\n",
    "    if(value < threshold):\n",
    "        rare_cnt = rare_cnt + 1\n",
    "        rare_freq = rare_freq + value\n",
    "\n",
    "print('단어 집합(vocabulary)의 크기 :', total_cnt)\n",
    "print('등장 빈도가 %s번 이하인 희귀 단어의 수: %s'%(threshold - 1, rare_cnt))\n",
    "print('단어 집합에서 희귀 단어를 제외시킬 경우의 단어 집합의 크기 %s'%(total_cnt - rare_cnt))\n",
    "print(\"단어 집합에서 희귀 단어의 비율:\", (rare_cnt / total_cnt)*100)\n",
    "print(\"전체 등장 빈도에서 희귀 단어 등장 빈도 비율:\", (rare_freq / total_freq)*100)"
   ]
  },
  {
   "cell_type": "code",
   "execution_count": 48,
   "id": "ac88c411",
   "metadata": {},
   "outputs": [],
   "source": [
    "src_vocab = 22100\n",
    "src_tokenizer = Tokenizer(num_words=src_vocab) # 단어 집합의 크기를 22,100으로 제한\n",
    "src_tokenizer.fit_on_texts(encoder_input_train) # 단어 집합 재생성"
   ]
  },
  {
   "cell_type": "code",
   "execution_count": 49,
   "id": "35ea9ece",
   "metadata": {},
   "outputs": [
    {
     "name": "stdout",
     "output_type": "stream",
     "text": [
      "[[451, 8157, 88, 53, 2502, 170, 3, 13, 408, 658, 222, 216, 8533, 8, 89, 1, 4258, 3924, 5871, 229, 104, 151, 8414, 1368, 39, 53, 208, 4673, 491, 1092], [553, 15, 3281, 2405, 1, 9, 5437, 536, 11843, 1105, 609, 454, 1143, 4, 24, 6951, 628, 252, 6160, 1105, 169, 1095, 1, 9, 573, 3658, 8958, 702, 1105, 609, 1143, 23, 23], [49, 902, 168, 1, 169, 14, 1609, 2654, 4739, 6767, 249, 31, 6446, 2924, 5923, 315, 439, 14, 197, 376, 563, 2924, 2307, 167, 999, 4, 902, 1, 17, 2924, 1063, 3103, 1387]]\n"
     ]
    }
   ],
   "source": [
    "# 텍스트 시퀀스를 정수 시퀀스로 변환\n",
    "encoder_input_train = src_tokenizer.texts_to_sequences(encoder_input_train) \n",
    "encoder_input_test = src_tokenizer.texts_to_sequences(encoder_input_test)\n",
    "\n",
    "# 잘 진행되었는지 샘플 출력\n",
    "print(encoder_input_train[:3])"
   ]
  },
  {
   "cell_type": "code",
   "execution_count": 50,
   "id": "e734a0fc",
   "metadata": {},
   "outputs": [],
   "source": [
    "tar_tokenizer = Tokenizer()\n",
    "tar_tokenizer.fit_on_texts(decoder_input_train)"
   ]
  },
  {
   "cell_type": "code",
   "execution_count": 51,
   "id": "80e2ac03",
   "metadata": {},
   "outputs": [
    {
     "name": "stdout",
     "output_type": "stream",
     "text": [
      "단어 집합(vocabulary)의 크기 : 40668\n",
      "등장 빈도가 5번 이하인 희귀 단어의 수: 29347\n",
      "단어 집합에서 희귀 단어를 제외시킬 경우의 단어 집합의 크기 11321\n",
      "단어 집합에서 희귀 단어의 비율: 72.16238811842234\n",
      "전체 등장 빈도에서 희귀 단어 등장 빈도 비율: 6.150970521402545\n"
     ]
    }
   ],
   "source": [
    "threshold = 6\n",
    "total_cnt = len(tar_tokenizer.word_index) # 단어의 수\n",
    "rare_cnt = 0 # 등장 빈도수가 threshold보다 작은 단어의 개수를 카운트\n",
    "total_freq = 0 # 훈련 데이터의 전체 단어 빈도수 총 합\n",
    "rare_freq = 0 # 등장 빈도수가 threshold보다 작은 단어의 등장 빈도수의 총 합\n",
    "\n",
    "# 단어와 빈도수의 쌍(pair)을 key와 value로 받는다.\n",
    "for key, value in tar_tokenizer.word_counts.items():\n",
    "    total_freq = total_freq + value\n",
    "\n",
    "    # 단어의 등장 빈도수가 threshold보다 작으면\n",
    "    if(value < threshold):\n",
    "        rare_cnt = rare_cnt + 1\n",
    "        rare_freq = rare_freq + value\n",
    "\n",
    "print('단어 집합(vocabulary)의 크기 :', total_cnt)\n",
    "print('등장 빈도가 %s번 이하인 희귀 단어의 수: %s'%(threshold - 1, rare_cnt))\n",
    "print('단어 집합에서 희귀 단어를 제외시킬 경우의 단어 집합의 크기 %s'%(total_cnt - rare_cnt))\n",
    "print(\"단어 집합에서 희귀 단어의 비율:\", (rare_cnt / total_cnt)*100)\n",
    "print(\"전체 등장 빈도에서 희귀 단어 등장 빈도 비율:\", (rare_freq / total_freq)*100)"
   ]
  },
  {
   "cell_type": "code",
   "execution_count": 52,
   "id": "280aeafe",
   "metadata": {},
   "outputs": [
    {
     "name": "stdout",
     "output_type": "stream",
     "text": [
      "input\n",
      "input  [[1, 143, 43, 27, 79, 17, 117, 5067, 5, 5938, 5690], [1, 56, 7240, 363, 3, 1636, 1113, 89], [1, 38, 8156, 860, 22, 143, 571, 3, 961, 3132, 3624, 6497, 450], [1, 8157, 3719, 1966, 728, 51, 5, 44, 59, 7, 169, 1519], [1, 3072, 819, 1151, 489, 3, 1895]]\n",
      "target\n",
      "decoder  [[143, 43, 27, 79, 17, 117, 5067, 5, 5938, 5690, 2], [56, 7240, 363, 3, 1636, 1113, 89, 2], [38, 8156, 860, 22, 143, 571, 3, 961, 3132, 3624, 6497, 450, 2], [8157, 3719, 1966, 728, 51, 5, 44, 59, 7, 169, 1519, 2], [3072, 819, 1151, 489, 3, 1895, 2]]\n"
     ]
    }
   ],
   "source": [
    "tar_vocab = 11000\n",
    "tar_tokenizer = Tokenizer(num_words=tar_vocab) \n",
    "tar_tokenizer.fit_on_texts(decoder_input_train)\n",
    "tar_tokenizer.fit_on_texts(decoder_target_train)\n",
    "\n",
    "# 텍스트 시퀀스를 정수 시퀀스로 변환\n",
    "decoder_input_train = tar_tokenizer.texts_to_sequences(decoder_input_train) \n",
    "decoder_target_train = tar_tokenizer.texts_to_sequences(decoder_target_train)\n",
    "decoder_input_test = tar_tokenizer.texts_to_sequences(decoder_input_test)\n",
    "decoder_target_test = tar_tokenizer.texts_to_sequences(decoder_target_test)\n",
    "\n",
    "# 잘 변환되었는지 확인\n",
    "print('input')\n",
    "print('input ',decoder_input_train[:5])\n",
    "print('target')\n",
    "print('decoder ',decoder_target_train[:5])"
   ]
  },
  {
   "cell_type": "code",
   "execution_count": 53,
   "id": "6152a027",
   "metadata": {},
   "outputs": [
    {
     "name": "stdout",
     "output_type": "stream",
     "text": [
      "삭제할 훈련 데이터의 개수 : 1\n",
      "삭제할 테스트 데이터의 개수 : 0\n",
      "훈련 데이터의 개수 : 78336\n",
      "훈련 레이블의 개수 : 78336\n",
      "테스트 데이터의 개수 : 19584\n",
      "테스트 레이블의 개수 : 19584\n"
     ]
    }
   ],
   "source": [
    "drop_train = [index for index, sentence in enumerate(decoder_input_train) if len(sentence) == 1]\n",
    "drop_test = [index for index, sentence in enumerate(decoder_input_test) if len(sentence) == 1]\n",
    "\n",
    "print('삭제할 훈련 데이터의 개수 :', len(drop_train))\n",
    "print('삭제할 테스트 데이터의 개수 :', len(drop_test))\n",
    "\n",
    "encoder_input_train = [sentence for index, sentence in enumerate(encoder_input_train) if index not in drop_train]\n",
    "decoder_input_train = [sentence for index, sentence in enumerate(decoder_input_train) if index not in drop_train]\n",
    "decoder_target_train = [sentence for index, sentence in enumerate(decoder_target_train) if index not in drop_train]\n",
    "\n",
    "encoder_input_test = [sentence for index, sentence in enumerate(encoder_input_test) if index not in drop_test]\n",
    "decoder_input_test = [sentence for index, sentence in enumerate(decoder_input_test) if index not in drop_test]\n",
    "decoder_target_test = [sentence for index, sentence in enumerate(decoder_target_test) if index not in drop_test]\n",
    "\n",
    "print('훈련 데이터의 개수 :', len(encoder_input_train))\n",
    "print('훈련 레이블의 개수 :', len(decoder_input_train))\n",
    "print('테스트 데이터의 개수 :', len(encoder_input_test))\n",
    "print('테스트 레이블의 개수 :', len(decoder_input_test))"
   ]
  },
  {
   "cell_type": "code",
   "execution_count": 54,
   "id": "84fd0016",
   "metadata": {},
   "outputs": [],
   "source": [
    "# 패딩하기 포스트로\n",
    "encoder_input_train = pad_sequences(encoder_input_train, maxlen=text_max_len, padding='post')\n",
    "encoder_input_test = pad_sequences(encoder_input_test, maxlen=text_max_len, padding='post')\n",
    "decoder_input_train = pad_sequences(decoder_input_train, maxlen=summary_max_len, padding='post')\n",
    "decoder_target_train = pad_sequences(decoder_target_train, maxlen=summary_max_len, padding='post')\n",
    "decoder_input_test = pad_sequences(decoder_input_test, maxlen=summary_max_len, padding='post')\n",
    "decoder_target_test = pad_sequences(decoder_target_test, maxlen=summary_max_len, padding='post')"
   ]
  },
  {
   "cell_type": "code",
   "execution_count": 55,
   "id": "c7623e8e",
   "metadata": {},
   "outputs": [],
   "source": [
    "from tensorflow.keras.layers import Input, LSTM, Embedding, Dense, Concatenate, TimeDistributed\n",
    "from tensorflow.keras.models import Model\n",
    "from tensorflow.keras.callbacks import EarlyStopping, ModelCheckpoint\n",
    "\n",
    "\n",
    "# 인코더 설계 시작\n",
    "embedding_dim = 128\n",
    "hidden_size = 256\n",
    "\n",
    "# 인코더\n",
    "encoder_inputs = Input(shape=(text_max_len,))\n",
    "\n",
    "# 인코더의 임베딩 층\n",
    "enc_emb = Embedding(src_vocab, embedding_dim)(encoder_inputs)\n",
    "\n",
    "# 인코더의 LSTM 1\n",
    "# encoder_lstm1 = LSTM(hidden_size, return_sequences=True, return_state=True ,dropout = 0.4, recurrent_dropout = 0.4)\n",
    "encoder_lstm1 = LSTM(hidden_size, return_sequences=True, return_state=True ,dropout = 0.4)\n",
    "encoder_output1, state_h1, state_c1 = encoder_lstm1(enc_emb)\n",
    "\n",
    "# 인코더의 LSTM 2\n",
    "# encoder_lstm2 = LSTM(hidden_size, return_sequences=True, return_state=True, dropout=0.4, recurrent_dropout=0.4)\n",
    "encoder_lstm2 = LSTM(hidden_size, return_sequences=True, return_state=True, dropout=0.4)\n",
    "encoder_output2, state_h2, state_c2 = encoder_lstm2(encoder_output1)\n",
    "\n",
    "# 인코더의 LSTM 3\n",
    "# encoder_lstm3 = LSTM(hidden_size, return_state=True, return_sequences=True, dropout=0.4, recurrent_dropout=0.4)\n",
    "encoder_lstm3 = LSTM(hidden_size, return_state=True, return_sequences=True, dropout=0.4)\n",
    "encoder_outputs, state_h, state_c= encoder_lstm3(encoder_output2)"
   ]
  },
  {
   "cell_type": "code",
   "execution_count": 56,
   "id": "6d06036b",
   "metadata": {},
   "outputs": [],
   "source": [
    "# 디코더 설계\n",
    "decoder_inputs = Input(shape=(None,))\n",
    "\n",
    "# 디코더의 임베딩 층\n",
    "dec_emb_layer = Embedding(tar_vocab, embedding_dim)\n",
    "dec_emb = dec_emb_layer(decoder_inputs)\n",
    "\n",
    "# 디코더의 LSTM\n",
    "# decoder_lstm = LSTM(hidden_size, return_sequences=True, return_state=True, dropout=0.4, recurrent_dropout=0.2)\n",
    "decoder_lstm = LSTM(hidden_size, return_sequences=True, return_state=True, dropout=0.4)\n",
    "decoder_outputs, _, _ = decoder_lstm(dec_emb, initial_state=[state_h, state_c])"
   ]
  },
  {
   "cell_type": "code",
   "execution_count": 57,
   "id": "b978e92c",
   "metadata": {},
   "outputs": [
    {
     "name": "stdout",
     "output_type": "stream",
     "text": [
      "Model: \"model\"\n",
      "__________________________________________________________________________________________________\n",
      "Layer (type)                    Output Shape         Param #     Connected to                     \n",
      "==================================================================================================\n",
      "input_1 (InputLayer)            [(None, 63)]         0                                            \n",
      "__________________________________________________________________________________________________\n",
      "embedding (Embedding)           (None, 63, 128)      2828800     input_1[0][0]                    \n",
      "__________________________________________________________________________________________________\n",
      "lstm (LSTM)                     [(None, 63, 256), (N 394240      embedding[0][0]                  \n",
      "__________________________________________________________________________________________________\n",
      "input_2 (InputLayer)            [(None, None)]       0                                            \n",
      "__________________________________________________________________________________________________\n",
      "lstm_1 (LSTM)                   [(None, 63, 256), (N 525312      lstm[0][0]                       \n",
      "__________________________________________________________________________________________________\n",
      "embedding_1 (Embedding)         (None, None, 128)    1408000     input_2[0][0]                    \n",
      "__________________________________________________________________________________________________\n",
      "lstm_2 (LSTM)                   [(None, 63, 256), (N 525312      lstm_1[0][0]                     \n",
      "__________________________________________________________________________________________________\n",
      "lstm_3 (LSTM)                   [(None, None, 256),  394240      embedding_1[0][0]                \n",
      "                                                                 lstm_2[0][1]                     \n",
      "                                                                 lstm_2[0][2]                     \n",
      "__________________________________________________________________________________________________\n",
      "dense (Dense)                   (None, None, 11000)  2827000     lstm_3[0][0]                     \n",
      "==================================================================================================\n",
      "Total params: 8,902,904\n",
      "Trainable params: 8,902,904\n",
      "Non-trainable params: 0\n",
      "__________________________________________________________________________________________________\n"
     ]
    }
   ],
   "source": [
    "# 디코더의 출력층\n",
    "decoder_softmax_layer = Dense(tar_vocab, activation='softmax')\n",
    "decoder_softmax_outputs = decoder_softmax_layer(decoder_outputs) \n",
    "\n",
    "# 모델 정의\n",
    "model = Model([encoder_inputs, decoder_inputs], decoder_softmax_outputs)\n",
    "model.summary()"
   ]
  },
  {
   "cell_type": "code",
   "execution_count": 58,
   "id": "0a104e71",
   "metadata": {},
   "outputs": [
    {
     "name": "stdout",
     "output_type": "stream",
     "text": [
      "Model: \"model_1\"\n",
      "__________________________________________________________________________________________________\n",
      "Layer (type)                    Output Shape         Param #     Connected to                     \n",
      "==================================================================================================\n",
      "input_1 (InputLayer)            [(None, 63)]         0                                            \n",
      "__________________________________________________________________________________________________\n",
      "embedding (Embedding)           (None, 63, 128)      2828800     input_1[0][0]                    \n",
      "__________________________________________________________________________________________________\n",
      "lstm (LSTM)                     [(None, 63, 256), (N 394240      embedding[0][0]                  \n",
      "__________________________________________________________________________________________________\n",
      "input_2 (InputLayer)            [(None, None)]       0                                            \n",
      "__________________________________________________________________________________________________\n",
      "lstm_1 (LSTM)                   [(None, 63, 256), (N 525312      lstm[0][0]                       \n",
      "__________________________________________________________________________________________________\n",
      "embedding_1 (Embedding)         (None, None, 128)    1408000     input_2[0][0]                    \n",
      "__________________________________________________________________________________________________\n",
      "lstm_2 (LSTM)                   [(None, 63, 256), (N 525312      lstm_1[0][0]                     \n",
      "__________________________________________________________________________________________________\n",
      "lstm_3 (LSTM)                   [(None, None, 256),  394240      embedding_1[0][0]                \n",
      "                                                                 lstm_2[0][1]                     \n",
      "                                                                 lstm_2[0][2]                     \n",
      "__________________________________________________________________________________________________\n",
      "attention_layer (AdditiveAttent (None, None, 256)    256         lstm_3[0][0]                     \n",
      "                                                                 lstm_2[0][0]                     \n",
      "__________________________________________________________________________________________________\n",
      "concat_layer (Concatenate)      (None, None, 512)    0           lstm_3[0][0]                     \n",
      "                                                                 attention_layer[0][0]            \n",
      "__________________________________________________________________________________________________\n",
      "dense_1 (Dense)                 (None, None, 11000)  5643000     concat_layer[0][0]               \n",
      "==================================================================================================\n",
      "Total params: 11,719,160\n",
      "Trainable params: 11,719,160\n",
      "Non-trainable params: 0\n",
      "__________________________________________________________________________________________________\n"
     ]
    }
   ],
   "source": [
    "from tensorflow.keras.layers import AdditiveAttention\n",
    "\n",
    "# 어텐션 층(어텐션 함수)\n",
    "attn_layer = AdditiveAttention(name='attention_layer')\n",
    "\n",
    "# 인코더와 디코더의 모든 time step의 hidden state를 어텐션 층에 전달하고 결과를 리턴\n",
    "attn_out = attn_layer([decoder_outputs, encoder_outputs])\n",
    "\n",
    "\n",
    "# 어텐션의 결과와 디코더의 hidden state들을 연결\n",
    "decoder_concat_input = Concatenate(axis=-1, name='concat_layer')([decoder_outputs, attn_out])\n",
    "\n",
    "# 디코더의 출력층\n",
    "decoder_softmax_layer = Dense(tar_vocab, activation='softmax')\n",
    "decoder_softmax_outputs = decoder_softmax_layer(decoder_concat_input)\n",
    "\n",
    "# 모델 정의\n",
    "model = Model([encoder_inputs, decoder_inputs], decoder_softmax_outputs)\n",
    "model.summary()"
   ]
  },
  {
   "cell_type": "code",
   "execution_count": 59,
   "id": "d5c22aef",
   "metadata": {},
   "outputs": [
    {
     "name": "stdout",
     "output_type": "stream",
     "text": [
      "Epoch 1/50\n",
      "612/612 [==============================] - 44s 62ms/step - loss: 6.5044 - val_loss: 6.0799\n",
      "Epoch 2/50\n",
      "612/612 [==============================] - 37s 61ms/step - loss: 5.9102 - val_loss: 5.7067\n",
      "Epoch 3/50\n",
      "612/612 [==============================] - 37s 60ms/step - loss: 5.5597 - val_loss: 5.4512\n",
      "Epoch 4/50\n",
      "612/612 [==============================] - 37s 61ms/step - loss: 5.3014 - val_loss: 5.2613\n",
      "Epoch 5/50\n",
      "612/612 [==============================] - 37s 61ms/step - loss: 5.0951 - val_loss: 5.1182\n",
      "Epoch 6/50\n",
      "612/612 [==============================] - 37s 61ms/step - loss: 4.9256 - val_loss: 5.0169\n",
      "Epoch 7/50\n",
      "612/612 [==============================] - 37s 61ms/step - loss: 4.7932 - val_loss: 4.9398\n",
      "Epoch 8/50\n",
      "612/612 [==============================] - 37s 61ms/step - loss: 4.6712 - val_loss: 4.8703\n",
      "Epoch 9/50\n",
      "612/612 [==============================] - 37s 61ms/step - loss: 4.5545 - val_loss: 4.8144\n",
      "Epoch 10/50\n",
      "612/612 [==============================] - 37s 61ms/step - loss: 4.4622 - val_loss: 4.7866\n",
      "Epoch 11/50\n",
      "612/612 [==============================] - 37s 61ms/step - loss: 4.3805 - val_loss: 4.7510\n",
      "Epoch 12/50\n",
      "612/612 [==============================] - 37s 61ms/step - loss: 4.2955 - val_loss: 4.7210\n",
      "Epoch 13/50\n",
      "612/612 [==============================] - 37s 61ms/step - loss: 4.2160 - val_loss: 4.6921\n",
      "Epoch 14/50\n",
      "612/612 [==============================] - 37s 61ms/step - loss: 4.1450 - val_loss: 4.6812\n",
      "Epoch 15/50\n",
      "612/612 [==============================] - 37s 61ms/step - loss: 4.0888 - val_loss: 4.6604\n",
      "Epoch 16/50\n",
      "612/612 [==============================] - 37s 61ms/step - loss: 4.0288 - val_loss: 4.6557\n",
      "Epoch 17/50\n",
      "612/612 [==============================] - 37s 61ms/step - loss: 3.9745 - val_loss: 4.6304\n",
      "Epoch 18/50\n",
      "612/612 [==============================] - 37s 60ms/step - loss: 3.9246 - val_loss: 4.6284\n",
      "Epoch 19/50\n",
      "612/612 [==============================] - 37s 61ms/step - loss: 3.8762 - val_loss: 4.6323\n",
      "Epoch 20/50\n",
      "612/612 [==============================] - 37s 60ms/step - loss: 3.8321 - val_loss: 4.6279\n",
      "Epoch 21/50\n",
      "612/612 [==============================] - 37s 61ms/step - loss: 3.7895 - val_loss: 4.6313\n",
      "Epoch 22/50\n",
      "612/612 [==============================] - 37s 60ms/step - loss: 3.7504 - val_loss: 4.6296\n",
      "Epoch 00022: early stopping\n"
     ]
    }
   ],
   "source": [
    "model.compile(optimizer='rmsprop', loss='sparse_categorical_crossentropy')\n",
    "es = EarlyStopping(monitor='val_loss', patience=2, verbose=1)\n",
    "history = model.fit(x=[encoder_input_train, decoder_input_train], y=decoder_target_train, \\\n",
    "          validation_data=([encoder_input_test, decoder_input_test], decoder_target_test), \\\n",
    "          batch_size=128, callbacks=[es], epochs=50)"
   ]
  },
  {
   "cell_type": "code",
   "execution_count": 60,
   "id": "ed96cdbd",
   "metadata": {},
   "outputs": [
    {
     "data": {
      "image/png": "[encoded data removed]",
      "text/plain": [
       "<Figure size 432x288 with 1 Axes>"
      ]
     },
     "metadata": {
      "needs_background": "light"
     },
     "output_type": "display_data"
    }
   ],
   "source": [
    "plt.plot(history.history['loss'], label='train')\n",
    "plt.plot(history.history['val_loss'], label='test')\n",
    "plt.legend()\n",
    "plt.show()"
   ]
  },
  {
   "cell_type": "code",
   "execution_count": 61,
   "id": "de70c270",
   "metadata": {},
   "outputs": [],
   "source": [
    "# 인퍼런스 모델 구현하기\n",
    "src_index_to_word = src_tokenizer.index_word # 원문 단어 집합에서 정수 -> 단어를 얻음\n",
    "tar_word_to_index = tar_tokenizer.word_index # 요약 단어 집합에서 단어 -> 정수를 얻음\n",
    "tar_index_to_word = tar_tokenizer.index_word # 요약 단어 집합에서 정수 -> 단어를 얻음"
   ]
  },
  {
   "cell_type": "code",
   "execution_count": 62,
   "id": "9c9af137",
   "metadata": {},
   "outputs": [],
   "source": [
    "# 인코더 설계\n",
    "encoder_model = Model(inputs=encoder_inputs, outputs=[encoder_outputs, state_h, state_c])\n",
    "\n",
    "# 이전 시점의 상태들을 저장하는 텐서\n",
    "decoder_state_input_h = Input(shape=(hidden_size,))\n",
    "decoder_state_input_c = Input(shape=(hidden_size,))\n",
    "\n",
    "dec_emb2 = dec_emb_layer(decoder_inputs)\n",
    "\n",
    "# 문장의 다음 단어를 예측하기 위해서 초기 상태(initial_state)를 이전 시점의 상태로 사용. 이는 뒤의 함수 decode_sequence()에 구현\n",
    "# 훈련 과정에서와 달리 LSTM의 리턴하는 은닉 상태와 셀 상태인 state_h와 state_c를 버리지 않음.\n",
    "decoder_outputs2, state_h2, state_c2 = decoder_lstm(dec_emb2, initial_state=[decoder_state_input_h, decoder_state_input_c])"
   ]
  },
  {
   "cell_type": "code",
   "execution_count": 63,
   "id": "eeb7f5dc",
   "metadata": {},
   "outputs": [],
   "source": [
    "# 어텐션 함수\n",
    "decoder_hidden_state_input = Input(shape=(text_max_len, hidden_size))\n",
    "attn_out_inf = attn_layer([decoder_outputs2, decoder_hidden_state_input])\n",
    "decoder_inf_concat = Concatenate(axis=-1, name='concat')([decoder_outputs2, attn_out_inf])\n",
    "\n",
    "# 디코더의 출력층\n",
    "decoder_outputs2 = decoder_softmax_layer(decoder_inf_concat) \n",
    "\n",
    "# 최종 디코더 모델\n",
    "decoder_model = Model(\n",
    "    [decoder_inputs] + [decoder_hidden_state_input,decoder_state_input_h, decoder_state_input_c],\n",
    "    [decoder_outputs2] + [state_h2, state_c2])"
   ]
  },
  {
   "cell_type": "code",
   "execution_count": 64,
   "id": "4fb90dfc",
   "metadata": {},
   "outputs": [],
   "source": [
    "def decode_sequence(input_seq):\n",
    "    # 입력으로부터 인코더의 상태를 얻음\n",
    "    e_out, e_h, e_c = encoder_model.predict(input_seq)\n",
    "\n",
    "     # <SOS>에 해당하는 토큰 생성\n",
    "    target_seq = np.zeros((1,1))\n",
    "    target_seq[0, 0] = tar_word_to_index['sostoken']\n",
    "\n",
    "    stop_condition = False\n",
    "    decoded_sentence = ''\n",
    "    while not stop_condition: # stop_condition이 True가 될 때까지 루프 반복\n",
    "\n",
    "        output_tokens, h, c = decoder_model.predict([target_seq] + [e_out, e_h, e_c])\n",
    "        sampled_token_index = np.argmax(output_tokens[0, -1, :])\n",
    "        sampled_token = tar_index_to_word[sampled_token_index]\n",
    "\n",
    "        if (sampled_token!='eostoken'):\n",
    "            decoded_sentence += ' '+sampled_token\n",
    "\n",
    "        #  <eos>에 도달하거나 최대 길이를 넘으면 중단.\n",
    "        if (sampled_token == 'eostoken'  or len(decoded_sentence.split()) >= (summary_max_len-1)):\n",
    "            stop_condition = True\n",
    "\n",
    "        # 길이가 1인 타겟 시퀀스를 업데이트\n",
    "        target_seq = np.zeros((1,1))\n",
    "        target_seq[0, 0] = sampled_token_index\n",
    "\n",
    "        # 상태를 업데이트 합니다.\n",
    "        e_h, e_c = h, c\n",
    "\n",
    "    return decoded_sentence"
   ]
  },
  {
   "cell_type": "code",
   "execution_count": 65,
   "id": "407fa57d",
   "metadata": {},
   "outputs": [],
   "source": [
    "# 원문의 정수 시퀀스를 텍스트 시퀀스로 변환\n",
    "def seq2text(input_seq):\n",
    "    temp=''\n",
    "    for i in input_seq:\n",
    "        if (i!=0):\n",
    "            temp = temp + src_index_to_word[i]+' '\n",
    "    return temp\n",
    "\n",
    "# 요약문의 정수 시퀀스를 텍스트 시퀀스로 변환\n",
    "def seq2summary(input_seq):\n",
    "    temp=''\n",
    "    for i in input_seq:\n",
    "        if ((i!=0 and i!=tar_word_to_index['sostoken']) and i!=tar_word_to_index['eostoken']):\n",
    "            temp = temp + tar_index_to_word[i] + ' '\n",
    "    return temp"
   ]
  },
  {
   "cell_type": "code",
   "execution_count": 66,
   "id": "4a8fd63e",
   "metadata": {},
   "outputs": [
    {
     "name": "stdout",
     "output_type": "stream",
     "text": [
      "원문 : talking content platform youtube india entertainment head satya raghavan said company ecosystem wide deep well balanced also said platform content many indian languages added youtube truly democratic platform anyone create channel upload content \n",
      "실제 요약 : have wide deep well balanced ecosystem youtube india \n",
      "예측 요약 :  indian users are about content says study\n",
      "\n",
      "\n",
      "원문 : amnesty india released video veteran actor naseeruddin shah says law darkness name religion walls hate erected innocents killed stand injustice offices raided licences cancelled bank accounts frozen voices silenced shah added \n",
      "실제 요약 : once was law there is now only naseeruddin \n",
      "예측 요약 :  name of india is not\n",
      "\n",
      "\n",
      "원문 : gurugram headquartered online auto parts startup raised foreign direct investment crore undisclosed ukrainian private investment fund company said raised crore till date founded ukrainian entrepreneurs claims offer million varieties spare parts suppliers brands \n",
      "실제 요약 : parts startup raises ã¢ââ¹7 crore from ukrainian fund \n",
      "예측 요약 :  gurugram based gurugram based raises crore\n",
      "\n",
      "\n",
      "원문 : amazon led investment million bengaluru based digital payments startup transactions india sound wave technology integrated payment delivery amazon customers expected go live three four months customers able use amazon pay three lakh offline merchants said ceo kumar abhishek \n",
      "실제 요약 : backs indian startup for offline payments in india \n",
      "예측 요약 :  indian payments startup raises in india\n",
      "\n",
      "\n",
      "원문 : royal bank scotland agreed pay million settle us criminal investigation accused traders defrauding customers bond prices barclays citigroup morgan stanley goldman sachs among victims fraud scheme years rbs culture securities fraud us attorney said \n",
      "실제 요약 : 44 million to settle fraud charges in us \n",
      "예측 요약 :  us firm to pay crore fraud probe\n",
      "\n",
      "\n",
      "원문 : pakistan tehreek insaf spokesperson fawad chaudhry said political party considering inviting prime minister narendra modi leader imran khan oath taking ceremony pakistan prime minister next month pm modi monday congratulated khan phone call pti emerged single largest party general elections held july \n",
      "실제 요약 : may invite pm modi for oath taking ceremony \n",
      "예측 요약 :  pm modi's brother imran khan's imran khan\n",
      "\n",
      "\n",
      "원문 : telangana government set free wi fi hyderabad city wi fi project plans launch within next two months project offers minutes free wi fi assured mbps extended three districts based performance telangana secretary ranjan said \n",
      "실제 요약 : sets up 1000 free wi fi in hyderabad \n",
      "예측 요약 :  chhattisgarh launches free free to electricity\n",
      "\n",
      "\n",
      "원문 : west bengal government cm mamata banerjee filed fir president bimal gurung gorkha janmukti morcha ruling party darjeeling protests region protests outside venue mamata cabinet meeting darjeeling turned violent people protesting mamata decision teach bengali language school hills \n",
      "실제 요약 : mamata govt files fir against local darjeeling leader \n",
      "예측 요약 :  wb cm mamata banerjee banerjee\n",
      "\n",
      "\n",
      "원문 : world number two rafael nadal defeated america frances quarter finals australian open tuesday year old became fourth man reach grand slam semi finals roger federer novak djokovic jimmy nadal next face year old tsitsipas knocked federer round \n",
      "실제 요약 : man to reach 30 grand slam semi finals \n",
      "예측 요약 :  aus open champ doubles for\n",
      "\n",
      "\n",
      "원문 : army jawan detained tuesday srinagar airport carrying live bullet baggage according officials soldier raj travelling delhi leave handed army investigation earlier monday jawan arrested carrying two hand grenades baggage security screening \n",
      "실제 요약 : found in army jawan's bag at srinagar airport \n",
      "예측 요약 :  army officer attacked for carrying\n",
      "\n",
      "\n",
      "원문 : facebook rolled button lets users register negative reaction comments platform users australia new zealand feature comment user taps prompts user whether comment offensive misleading company first began testing feature february \n",
      "실제 요약 : facebook rolls out button to more users \n",
      "예측 요약 :  whatsapp allows users to users in maps\n",
      "\n",
      "\n",
      "원문 : according data provided pmo government spent crore chartered flights used prime minister narendra modi foreign trips flight cost modi eight day trip france germany canada crore highest among trips notably prime minister flown nearly lakh kilometres \n",
      "실제 요약 : did chartered flights for pm's foreign trips cost \n",
      "예측 요약 :  pm modi inaugurates crore in north korea\n",
      "\n",
      "\n",
      "원문 : three weeks taking president ram nath kovind given assent six key recently passed parliament include act extends jurisdiction maritime claims right children free compulsory education bill bill empowering centre collect socio economic statistical data jammu kashmir \n",
      "실제 요약 : kovind approves 6 key 3 weeks into office \n",
      "예측 요약 :  president declares parliament passes away\n",
      "\n",
      "\n",
      "원문 : one indian sufi clerics gone missing pakistan monday alleged pakistani newspaper printed false news raw agents newspaper printed false statements photos said two clerics safely arrived delhi monday also thanked indian government \n",
      "실제 요약 : newspaper posed us as raw agents indian cleric \n",
      "예측 요약 :  indian army officer calls pak\n",
      "\n",
      "\n",
      "원문 : former maharashtra chief minister narayan rane sunday announced formation new political party maharashtra rane quit congress last week said political outfit work towards overall inclusive development state setting party shall decide future course including nda rane added \n",
      "실제 요약 : former congress leader narayan floats new party \n",
      "예측 요약 :  congress leader resigns from party\n",
      "\n",
      "\n",
      "원문 : ryanair passenger anxiety claimed kicked valencia ibiza flight along support dog minutes take despite correct paperwork ryanair offer sophia refund adding pair would unable fly airline reportedly arranged ferry ibiza lost nearly transport costs \n",
      "실제 요약 : kicks off flyer with and her support dog \n",
      "예측 요약 :  woman slams airline for flight\n",
      "\n",
      "\n",
      "원문 : rajya sabha mps seven opposition parties submitted impeachment notice chief justice india dipak misra congress leader kapil sibal alleged cji misused post since day appointed cji questions raised manner dealt certain cases sibal said \n",
      "실제 요약 : misused his post kapil sibal on impeachment motion \n",
      "예측 요약 :  cji takes oath as cji\n",
      "\n",
      "\n",
      "원문 : teaser diana penty starrer happy bhag jayegi released film also stars sonakshi sinha sequel film happy bhag jayegi diana earlier tweeted turns happy around one run directed aziz film release august \n",
      "실제 요약 : teaser of diana 'happy released \n",
      "예측 요약 :  teaser of teaser of the released\n",
      "\n",
      "\n",
      "원문 : actress priyanka chopra featured cover fall issue american magazine paper one six beautiful people featured magazine cover talking career interview magazine priyanka said extremely ambitious somehow ambition feminism turned bad words \n",
      "실제 요약 : priyanka on us magazine people' cover \n",
      "예측 요약 :  priyanka features on cover of vogue india\n",
      "\n",
      "\n",
      "원문 : woman named aarti sharma uttar pradesh agra uploaded letter social media offering kidney anyone need order pay fees education daughters mother four children including three daughters unable pay school fees husband business ready made clothes witnessing downfall \n",
      "실제 요약 : offers to sell kidney to pay school fees \n",
      "예측 요약 :  up govt to pay for women\n",
      "\n",
      "\n",
      "원문 : delhi commission women said female staff shelter home dwarka allegedly abused girls putting chilli powder private parts punishment matter came light dcw conducted surprise visit home houses inmates shelter home girls aged \n",
      "실제 요약 : girls' private parts at delhi shelter home dcw \n",
      "예측 요약 :  delhi govt to rape victim\n",
      "\n",
      "\n",
      "원문 : tmc leader dinesh trivedi said successive governments short changed air india treating like private properties trivedi urged government reconsider decision privatise government operates bsnl communications doordarshan india radio broadcasting national carrier well added \n",
      "실제 요약 : successive short changed air india tmc leader \n",
      "예측 요약 :  air india air india air india\n",
      "\n",
      "\n",
      "원문 : environment pollution control prevention authority set roll back measures taken graded response action plan air quality delhi improved measures included parking fee hike ban entry trucks except carrying essential goods ban construction put place pollution delhi ncr reached emergency level \n",
      "실제 요약 : to revoke delhi parking fee hike truck ban \n",
      "예측 요약 :  delhi launches pollution in delhi\n",
      "\n",
      "\n",
      "원문 : microsoft windows vulnerability exploited hackers behind wannacry ransomware used least two cyber attacks unlike wannacry tries extort bitcoins users malware called tries mine cryptocurrency known monero researchers warned number hackers launched attacks copying wannacry \n",
      "실제 요약 : wannacry being used in 2 more cyber attacks \n"
     ]
    },
    {
     "name": "stdout",
     "output_type": "stream",
     "text": [
      "예측 요약 :  hackers ransomware attack ransomware attack ransomware attack\n",
      "\n",
      "\n",
      "원문 : colin walked bat broken arm windies help england draw test ex india cricketer anil kumble batted broken jaw windies windies pacer malcolm marshall batted number one hand help teammate larry gomes complete england \n",
      "실제 요약 : what are of batsmen batting despite major injury \n",
      "예측 요약 :  test runs to test after test runs\n",
      "\n",
      "\n",
      "원문 : played role shah rukh khan friend zero said shah rukh khan salman khan taking risk people like want watch pattern keep complaining work similar kind films kind statement added \n",
      "실제 요약 : to see salman srk in same 'zero' actor \n",
      "예측 요약 :  shah rukh khan shah rukh khan\n",
      "\n",
      "\n",
      "원문 : guinness world record largest tin caviar recently broken party luxury resort dubai weighing kilograms nearly three foot wide tin caviar valued caviar consumed guests used custom mother pearl made specifically record attempt \n",
      "실제 요약 : party guests finish world's largest of worth ã¢ââ¹30l \n",
      "예측 요약 :  world's largest largest largest ever\n",
      "\n",
      "\n",
      "원문 : state kerala punished floods beef eating karnataka bjp mla patil said floods occurred state within one year conducting beef festival added earlier bjp mla faced criticism saying would ordered police shoot intellectuals \n",
      "실제 요약 : punished with floods for eating beef bjp mla \n",
      "예측 요약 :  kerala cm calls for flood in kerala\n",
      "\n",
      "\n",
      "원문 : wife domestic help hemraj murdered along aarushi talwar challenged acquittal rajesh nupur talwar case couple found guilty allahabad high court october year earlier special cbi ruling convicted sentenced life imprisonment \n",
      "실제 요약 : domestic wife challenges acquittal of in sc \n",
      "예측 요약 :  sc rejects plea against wife for murder\n",
      "\n",
      "\n",
      "원문 : researchers liverpool uk studying two inch long fish found venom components pain injected lab mice researchers believe venom might cause sudden drop blood pressure leaving attacker unable chase researchers also found fish evolved venom unlike snakes \n",
      "실제 요약 : fish found to be but can attackers \n",
      "예측 요약 :  found in their their own arm\n",
      "\n",
      "\n",
      "원문 : former indian rounder cricketing rule named cricket club rule book rule named following dismissal involving player relates non striker run bowler delivers ball ran australia bill brown bowling second test india tour australia \n",
      "실제 요약 : player has a cricket rule named after him \n",
      "예측 요약 :  batsman to get a batsman\n",
      "\n",
      "\n",
      "원문 : year old female employee opened fire inside warehouse us maryland killing three people injuring several others taking life police said appears one weapon handgun used shots fired responding law enforcement officers police added female suspect reportedly opened fire argument \n",
      "실제 요약 : in us kills 3 before shooting self dead \n",
      "예측 요약 :  us police shooting fire for shooting\n",
      "\n",
      "\n",
      "원문 : arsenal manager arsene wenger leaving club years said regrets never visiting india adding india know wenger revealed encouraged arsenal organise tour india never happened year old added philosophy non violence \n",
      "실제 요약 : by india don't know why outgoing arsenal boss \n",
      "예측 요약 :  india is the of india\n",
      "\n",
      "\n",
      "원문 : trailer kirti kulhari neil nitin mukesh anupam kher starrer indu sarkar set backdrop emergency india released friday neil nitin plays role sanjay gandhi film supriya vinod portrayed former pm indira gandhi directed madhur bhandarkar film release july \n",
      "실제 요약 : of film on 1975 emergency 'indu sarkar' released \n",
      "예측 요약 :  trailer of irrfan khan starrer released\n",
      "\n",
      "\n",
      "원문 : india junior men hockey team defeated usa register third consecutive win sultan cup malaysia wednesday indian team registered goals tournament scored five earlier two matches singh top scored usa five goals abhishek netted four two others scored hat tricks \n",
      "실제 요약 : thrashes usa 22 0 for 3rd straight win \n",
      "예측 요약 :  india win in india win\n",
      "\n",
      "\n",
      "원문 : proposing indirect tax revenue must handed states tamil nadu cm palaniswami said flexibility states resources limited post gst era claiming practised developed countries palaniswami added time think new model resource sharing effectively deal present development challenges \n",
      "실제 요약 : proposes revenue from taxes be given to states \n",
      "예측 요약 :  gst is the of the karnataka cm\n",
      "\n",
      "\n",
      "원문 : israel pm benjamin netanyahu arrived india sunday six day visit delhi teen murti chowk renamed teen murti haifa chowk israeli city haifa war memorial three statues representing hyderabad jodhpur mysore successfully undertook assault liberate haifa occupation fighting british \n",
      "실제 요약 : delhi's teen chowk renamed after israeli city \n",
      "예측 요약 :  delhi pm modi inaugurates at israeli navy\n",
      "\n",
      "\n",
      "원문 : home minister rajnath singh announced family paramilitary jawan dies action given compensation crore stating nation proud sacrifice paramilitary jawans singh said sacrifice jawans cannot compensated money families martyrs face difficulty \n",
      "실제 요약 : martyred paramilitary jawan to get ã¢ââ¹1 cr aid \n",
      "예측 요약 :  minister approves crore worth of\n",
      "\n",
      "\n",
      "원문 : five member special committee constituted delhi government prepare final parking policy city committee headed ceo world resources institute india prepare policy analysing suggestions received government draft policy proposes increase road tax one car \n",
      "실제 요약 : special committee formed to parking policy \n",
      "예측 요약 :  delhi government to open on its\n",
      "\n",
      "\n",
      "원문 : delhi court tuesday warned advocate mixing case alleged anti national college february jnu case students charged sedition last year jnu chargesheet relevant case two different cases metropolitan magistrate abhilash malhotra said \n",
      "실제 요약 : mix college incident with jnu case delhi court \n",
      "예측 요약 :  delhi hc rejects cbi hc to bulandshahr\n",
      "\n",
      "\n",
      "원문 : opposition african nation botswana opposed using electronic voting machines supplied india general elections country botswana congress party claimed government aims rig elections next year evm manipulation comes amid allegations evm tampering india following reports technical glitches \n",
      "실제 요약 : opposition opposes using india made evms in polls \n",
      "예측 요약 :  former india to contest elections in\n",
      "\n",
      "\n",
      "원문 : video emerged two teenagers climbing feet high golden gate bridge san francisco united states seemingly without safety gear video shows teenagers dangling bridge performing following golden gate bridge security officials security including adding patrols upgrading motion sensors \n",
      "실제 요약 : teens from san golden gate bridge \n",
      "예측 요약 :  video shows robot in japan\n",
      "\n",
      "\n",
      "원문 : us based chipmaker qualcomm set lay employees california us part plan cut annual costs filings revealed qualcomm spokesperson said company considered reducing costs without layoffs concluded cuts required support long term growth qualcomm announced plan reduce costs billion january \n",
      "실제 요약 : 1 500 employees in us to cut expenses \n",
      "예측 요약 :  us to cut 100 million in syria\n",
      "\n",
      "\n",
      "원문 : french presidential candidates marine le pen emmanuel macron clashed vision country future euro ways fighting terrorism tv debate wednesday sunday run vote macron called le pen liar whereas le pen labelled banker said young outside old inside \n",
      "실제 요약 : french presidential candidates clash in tv debate \n",
      "예측 요약 :  french prez macron calls for\n",
      "\n",
      "\n",
      "원문 : ten kids different parts india including four girls selected represent india official ball kids australian open announced tuesday first set trials conducted across four metros bengaluru delhi mumbai kolkata maximum number seats reserved indian ball kids \n",
      "실제 요약 : 10 member ball kid to aus open 2019 \n",
      "예측 요약 :  india school to play in india\n",
      "\n",
      "\n",
      "원문 : tata motors ceo took home crore last fiscal key officials saw cut amid losses executive director satish taken coo saw cut crore however independent directors except wadia removed board last year saw grow \n",
      "실제 요약 : ceo earned a salary of ã¢ââ¹22 5 crore \n",
      "예측 요약 :  fy18 rises to crore in fy18\n",
      "\n",
      "\n",
      "원문 : owners three gt sports cars sued ford knowingly selling cars defective dangerous lawsuit claims go mode drastically reduced speed performance despite ford calling cars track ready ford also accused refusing replace modify defective components \n",
      "실제 요약 : ford sued by owners for selling cars \n",
      "예측 요약 :  cars to be cars to cars\n",
      "\n",
      "\n",
      "원문 : filmmaker revealed many list actors refused play gay character film brother nikhil film based life dominic souza kept isolated days contracting hiv added bollywood still portrays lgbt community way disgusting regressive \n",
      "실제 요약 : refused to play gay character in my film \n"
     ]
    },
    {
     "name": "stdout",
     "output_type": "stream",
     "text": [
      "예측 요약 :  bigg boss contestant calls for acting debut\n",
      "\n",
      "\n",
      "원문 : wishing speedy recovery indian pacer mohammad shami got injured road accident sunday rohit sharma tweeted gone lot recent times wishing speedy recovery spinner ravichandran ashwin wrote much little time hope recover come back strong prayers \n",
      "실제 요약 : a lot in recent times rohit on shami \n",
      "예측 요약 :  rohit sharma compares his ton on\n",
      "\n",
      "\n",
      "원문 : indian railways soon cut short running time long distance trains two hours railway officials said friday comes railways incorporated innovative also provide railway division two four hours maintenance works trains bhopal jodhpur express reach minutes earlier \n",
      "실제 요약 : distance trains to run faster from next month \n",
      "예측 요약 :  railways to train for express\n",
      "\n",
      "\n"
     ]
    }
   ],
   "source": [
    "for i in range(50, 100):\n",
    "    print(\"원문 :\", seq2text(encoder_input_test[i]))\n",
    "    print(\"실제 요약 :\", seq2summary(decoder_input_test[i]))\n",
    "    print(\"예측 요약 :\", decode_sequence(encoder_input_test[i].reshape(1, text_max_len)))\n",
    "    print(\"\\n\")"
   ]
  },
  {
   "cell_type": "markdown",
   "id": "237fafbb",
   "metadata": {},
   "source": [
    "## SUMMA 모델 "
   ]
  },
  {
   "cell_type": "code",
   "execution_count": 67,
   "id": "1f011571",
   "metadata": {},
   "outputs": [],
   "source": [
    "import requests\n",
    "from summa.summarizer import summarize"
   ]
  },
  {
   "cell_type": "code",
   "execution_count": 68,
   "id": "e88fc25c",
   "metadata": {},
   "outputs": [],
   "source": [
    "text = data['text'][0]"
   ]
  },
  {
   "cell_type": "code",
   "execution_count": 69,
   "id": "e57c8c1b",
   "metadata": {},
   "outputs": [
    {
     "name": "stdout",
     "output_type": "stream",
     "text": [
      "Saurav Kant, an alumnus of upGrad and IIIT-B's PG Program in Machine learning and Artificial Intelligence, was a Sr Systems Engineer at Infosys with almost 5 years of work experience. The program and upGrad's 360-degree career support helped him transition to a Data Scientist at Tech Mahindra with 90% salary hike. upGrad's Online Power Learning has powered 3 lakh+ careers.\n"
     ]
    }
   ],
   "source": [
    "print(text)"
   ]
  },
  {
   "cell_type": "code",
   "execution_count": 73,
   "id": "c2a5ae1f",
   "metadata": {},
   "outputs": [
    {
     "name": "stdout",
     "output_type": "stream",
     "text": [
      "Summary:\n",
      "upGrad's Online Power Learning has powered 3 lakh+ careers.\n"
     ]
    }
   ],
   "source": [
    "print('Summary:')\n",
    "print(summarize(text, ratio=0.5))"
   ]
  },
  {
   "cell_type": "code",
   "execution_count": 74,
   "id": "bc5c49f1",
   "metadata": {},
   "outputs": [
    {
     "name": "stdout",
     "output_type": "stream",
     "text": [
      "Summary:\n",
      "[\"upGrad's Online Power Learning has powered 3 lakh+ careers.\"]\n"
     ]
    }
   ],
   "source": [
    "print('Summary:')\n",
    "print(summarize(text, ratio=0.5, split=True))"
   ]
  },
  {
   "cell_type": "code",
   "execution_count": 72,
   "id": "e0b4f242",
   "metadata": {},
   "outputs": [
    {
     "name": "stdout",
     "output_type": "stream",
     "text": [
      "Summary:\n",
      "Saurav Kant, an alumnus of upGrad and IIIT-B's PG Program in Machine learning and Artificial Intelligence, was a Sr Systems Engineer at Infosys with almost 5 years of work experience.\n",
      "The program and upGrad's 360-degree career support helped him transition to a Data Scientist at Tech Mahindra with 90% salary hike.\n",
      "upGrad's Online Power Learning has powered 3 lakh+ careers.\n"
     ]
    }
   ],
   "source": [
    "print('Summary:')\n",
    "print(summarize(text, words=50))"
   ]
  },
  {
   "cell_type": "markdown",
   "id": "c3c15aad",
   "metadata": {},
   "source": [
    "## 회고"
   ]
  },
  {
   "cell_type": "markdown",
   "id": "677edd2f",
   "metadata": {},
   "source": [
    "- Abstractive 모델 구성을 위한 텍스트 전처리 단계로, 분석, 정제, 정규화와 불용어 제거, 데이터셋 분리, 인코딩 과정을 수행하여 보았다.\n",
    "- Abstractive 모델에서 모델 학습이 진행되면서 train loss 와 validation loss가 감소하는 경향을 그래프를 통해 확인해 보았다.\n",
    "- 실제 요약문에 있는 핵심단어들이 요약 문장 안에 포함되 있는 것을 확인하였다.\n",
    "- Extractive 요약 시도 결과 문법적으로 잘 맞는것을 확인 하였다."
   ]
  },
  {
   "cell_type": "markdown",
   "id": "d2492ece",
   "metadata": {},
   "source": [
    "|요약 방식|문법 완성도|핵심단어 포함|\n",
    "|:---|:---:|:---:|\n",
    "|Abstractive|안 좋음|핵심단어 잘 포함|\n",
    "|Extractive|좋음|핵심단어 잘 포함|"
   ]
  },
  {
   "cell_type": "markdown",
   "id": "317eb368",
   "metadata": {},
   "source": [
    "- Abstractive 방식의 경우 임베딩을 하고 의미부여를한뒤 다시 디코딩하는 과정으로 진행되어 추상적인 의미의 핵심단어는 잘 포함 하는 것으로 보인다.\n",
    "- 하지만 문법 완성도 측면에서는 좀 부족한 모습을 보였다. 학습을 더시키거나 개선할 필요가 있어보인다."
   ]
  },
  {
   "cell_type": "markdown",
   "id": "32503e24",
   "metadata": {},
   "source": [
    "- Extrative 방식 SUMMA의 경우 자체적으로 문법을 맞추도록, 잘 설계 학습된것으로 보인다. 원문에서 그대로 단어를 가져오기 때문에 대체적으로 핵심단어를 그대로 잘 뽑아온 것 같다. \n",
    "- 원문에 있는 핵심단어 외에, 원문에 없지만 본문을 더 잘 요약할 수 있는 새로운 추상적단어는 생성하지 못할 것으로 보인다. "
   ]
  }
 ],
 "metadata": {
  "kernelspec": {
   "display_name": "Python 3 (ipykernel)",
   "language": "python",
   "name": "python3"
  },
  "language_info": {
   "codemirror_mode": {
    "name": "ipython",
    "version": 3
   },
   "file_extension": ".py",
   "mimetype": "text/x-python",
   "name": "python",
   "nbconvert_exporter": "python",
   "pygments_lexer": "ipython3",
   "version": "3.9.7"
  }
 },
 "nbformat": 4,
 "nbformat_minor": 5
}
