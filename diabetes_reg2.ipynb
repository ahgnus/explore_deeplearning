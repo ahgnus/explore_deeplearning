{
 "cells": [
  {
   "cell_type": "code",
   "execution_count": 1,
   "id": "d7dd4dc5",
   "metadata": {},
   "outputs": [],
   "source": [
    "import seaborn as sns\n",
    "import pandas as pd\n",
    "import numpy as np\n",
    "import matplotlib.pyplot as plt\n",
    "%matplotlib inline \n",
    "# 실행한 브라우저에서 바로 그림을 볼 수 있게 해줌\n",
    "%config Inlinebackend.figure_format = 'retina'\n",
    "#더 높은 해상도로 출력한다.\n"
   ]
  },
  {
   "cell_type": "code",
   "execution_count": 2,
   "id": "7a17b370",
   "metadata": {},
   "outputs": [
    {
     "name": "stdout",
     "output_type": "stream",
     "text": [
      "['DESCR', 'data', 'data_filename', 'data_module', 'feature_names', 'frame', 'target', 'target_filename']\n"
     ]
    }
   ],
   "source": [
    "#데이터 가져오기\n",
    "from sklearn.datasets import load_diabetes\n",
    "diabetes = load_diabetes()\n",
    "print(dir(diabetes))"
   ]
  },
  {
   "cell_type": "code",
   "execution_count": 3,
   "id": "6e7a6606",
   "metadata": {},
   "outputs": [
    {
     "data": {
      "text/plain": [
       "dict_keys(['data', 'target', 'frame', 'DESCR', 'feature_names', 'data_filename', 'target_filename', 'data_module'])"
      ]
     },
     "execution_count": 3,
     "metadata": {},
     "output_type": "execute_result"
    }
   ],
   "source": [
    "diabetes.keys()"
   ]
  },
  {
   "cell_type": "code",
   "execution_count": 4,
   "id": "0d56643f",
   "metadata": {},
   "outputs": [
    {
     "name": "stdout",
     "output_type": "stream",
     "text": [
      ".. _diabetes_dataset:\n",
      "\n",
      "Diabetes dataset\n",
      "----------------\n",
      "\n",
      "Ten baseline variables, age, sex, body mass index, average blood\n",
      "pressure, and six blood serum measurements were obtained for each of n =\n",
      "442 diabetes patients, as well as the response of interest, a\n",
      "quantitative measure of disease progression one year after baseline.\n",
      "\n",
      "**Data Set Characteristics:**\n",
      "\n",
      "  :Number of Instances: 442\n",
      "\n",
      "  :Number of Attributes: First 10 columns are numeric predictive values\n",
      "\n",
      "  :Target: Column 11 is a quantitative measure of disease progression one year after baseline\n",
      "\n",
      "  :Attribute Information:\n",
      "      - age     age in years\n",
      "      - sex\n",
      "      - bmi     body mass index\n",
      "      - bp      average blood pressure\n",
      "      - s1      tc, total serum cholesterol\n",
      "      - s2      ldl, low-density lipoproteins\n",
      "      - s3      hdl, high-density lipoproteins\n",
      "      - s4      tch, total cholesterol / HDL\n",
      "      - s5      ltg, possibly log of serum triglycerides level\n",
      "      - s6      glu, blood sugar level\n",
      "\n",
      "Note: Each of these 10 feature variables have been mean centered and scaled by the standard deviation times `n_samples` (i.e. the sum of squares of each column totals 1).\n",
      "\n",
      "Source URL:\n",
      "https://www4.stat.ncsu.edu/~boos/var.select/diabetes.html\n",
      "\n",
      "For more information see:\n",
      "Bradley Efron, Trevor Hastie, Iain Johnstone and Robert Tibshirani (2004) \"Least Angle Regression,\" Annals of Statistics (with discussion), 407-499.\n",
      "(https://web.stanford.edu/~hastie/Papers/LARS/LeastAngle_2002.pdf)\n"
     ]
    }
   ],
   "source": [
    "print(diabetes.DESCR)"
   ]
  },
  {
   "cell_type": "code",
   "execution_count": 5,
   "id": "66dc04d0",
   "metadata": {},
   "outputs": [
    {
     "data": {
      "text/plain": [
       "'diabetes_target.csv.gz'"
      ]
     },
     "execution_count": 5,
     "metadata": {},
     "output_type": "execute_result"
    }
   ],
   "source": [
    "# 타겟은 Column 11 is a quantitative measure of disease progression\n",
    "# one year after baseline 으로 되어있음 csv 파일임\n",
    "# 11번째 칼럼\n",
    "diabetes.target_filename"
   ]
  },
  {
   "cell_type": "code",
   "execution_count": 6,
   "id": "4645a6a4",
   "metadata": {},
   "outputs": [
    {
     "name": "stdout",
     "output_type": "stream",
     "text": [
      "(442, 10)\n"
     ]
    }
   ],
   "source": [
    "#diabetes 총데이터와 크기 행렬 모양\n",
    "diabetes_data = diabetes.data\n",
    "print(diabetes_data.shape)"
   ]
  },
  {
   "cell_type": "code",
   "execution_count": 7,
   "id": "da6c7fd5",
   "metadata": {},
   "outputs": [
    {
     "data": {
      "text/plain": [
       "['age', 'sex', 'bmi', 'bp', 's1', 's2', 's3', 's4', 's5', 's6']"
      ]
     },
     "execution_count": 7,
     "metadata": {},
     "output_type": "execute_result"
    }
   ],
   "source": [
    "#feature name 확인\n",
    "diabetes.feature_names"
   ]
  },
  {
   "cell_type": "code",
   "execution_count": 8,
   "id": "4bf1dc7f",
   "metadata": {},
   "outputs": [],
   "source": [
    "#diabetes의 data를 df_X 에 저장\n",
    "df_X = diabetes.data"
   ]
  },
  {
   "cell_type": "code",
   "execution_count": 9,
   "id": "9b304e99",
   "metadata": {},
   "outputs": [],
   "source": [
    "#target 값을 df_y에 저장\n",
    "df_y = diabetes.target"
   ]
  },
  {
   "cell_type": "code",
   "execution_count": 10,
   "id": "f8c4b8aa",
   "metadata": {},
   "outputs": [
    {
     "data": {
      "text/plain": [
       "array([[ 0.03807591,  0.05068012,  0.06169621, ..., -0.00259226,\n",
       "         0.01990842, -0.01764613],\n",
       "       [-0.00188202, -0.04464164, -0.05147406, ..., -0.03949338,\n",
       "        -0.06832974, -0.09220405],\n",
       "       [ 0.08529891,  0.05068012,  0.04445121, ..., -0.00259226,\n",
       "         0.00286377, -0.02593034],\n",
       "       ...,\n",
       "       [ 0.04170844,  0.05068012, -0.01590626, ..., -0.01107952,\n",
       "        -0.04687948,  0.01549073],\n",
       "       [-0.04547248, -0.04464164,  0.03906215, ...,  0.02655962,\n",
       "         0.04452837, -0.02593034],\n",
       "       [-0.04547248, -0.04464164, -0.0730303 , ..., -0.03949338,\n",
       "        -0.00421986,  0.00306441]])"
      ]
     },
     "execution_count": 10,
     "metadata": {},
     "output_type": "execute_result"
    }
   ],
   "source": [
    "df_X"
   ]
  },
  {
   "cell_type": "code",
   "execution_count": 11,
   "id": "afc28af6",
   "metadata": {},
   "outputs": [
    {
     "name": "stdout",
     "output_type": "stream",
     "text": [
      "[[ 0.03807591  0.05068012  0.06169621 ... -0.00259226  0.01990842\n",
      "  -0.01764613]\n",
      " [-0.00188202 -0.04464164 -0.05147406 ... -0.03949338 -0.06832974\n",
      "  -0.09220405]\n",
      " [ 0.08529891  0.05068012  0.04445121 ... -0.00259226  0.00286377\n",
      "  -0.02593034]\n",
      " ...\n",
      " [ 0.04170844  0.05068012 -0.01590626 ... -0.01107952 -0.04687948\n",
      "   0.01549073]\n",
      " [-0.04547248 -0.04464164  0.03906215 ...  0.02655962  0.04452837\n",
      "  -0.02593034]\n",
      " [-0.04547248 -0.04464164 -0.0730303  ... -0.03949338 -0.00421986\n",
      "   0.00306441]]\n",
      "[151.  75. 141. 206. 135.  97. 138.  63. 110. 310. 101.  69. 179. 185.\n",
      " 118. 171. 166. 144.  97. 168.  68.  49.  68. 245. 184. 202. 137.  85.\n",
      " 131. 283. 129.  59. 341.  87.  65. 102. 265. 276. 252.  90. 100.  55.\n",
      "  61.  92. 259.  53. 190. 142.  75. 142. 155. 225.  59. 104. 182. 128.\n",
      "  52.  37. 170. 170.  61. 144.  52. 128.  71. 163. 150.  97. 160. 178.\n",
      "  48. 270. 202. 111.  85.  42. 170. 200. 252. 113. 143.  51.  52. 210.\n",
      "  65. 141.  55. 134.  42. 111.  98. 164.  48.  96.  90. 162. 150. 279.\n",
      "  92.  83. 128. 102. 302. 198.  95.  53. 134. 144. 232.  81. 104.  59.\n",
      " 246. 297. 258. 229. 275. 281. 179. 200. 200. 173. 180.  84. 121. 161.\n",
      "  99. 109. 115. 268. 274. 158. 107.  83. 103. 272.  85. 280. 336. 281.\n",
      " 118. 317. 235.  60. 174. 259. 178. 128.  96. 126. 288.  88. 292.  71.\n",
      " 197. 186.  25.  84.  96. 195.  53. 217. 172. 131. 214.  59.  70. 220.\n",
      " 268. 152.  47.  74. 295. 101. 151. 127. 237. 225.  81. 151. 107.  64.\n",
      " 138. 185. 265. 101. 137. 143. 141.  79. 292. 178.  91. 116.  86. 122.\n",
      "  72. 129. 142.  90. 158.  39. 196. 222. 277.  99. 196. 202. 155.  77.\n",
      " 191.  70.  73.  49.  65. 263. 248. 296. 214. 185.  78.  93. 252. 150.\n",
      "  77. 208.  77. 108. 160.  53. 220. 154. 259.  90. 246. 124.  67.  72.\n",
      " 257. 262. 275. 177.  71.  47. 187. 125.  78.  51. 258. 215. 303. 243.\n",
      "  91. 150. 310. 153. 346.  63.  89.  50.  39. 103. 308. 116. 145.  74.\n",
      "  45. 115. 264.  87. 202. 127. 182. 241.  66.  94. 283.  64. 102. 200.\n",
      " 265.  94. 230. 181. 156. 233.  60. 219.  80.  68. 332. 248.  84. 200.\n",
      "  55.  85.  89.  31. 129.  83. 275.  65. 198. 236. 253. 124.  44. 172.\n",
      " 114. 142. 109. 180. 144. 163. 147.  97. 220. 190. 109. 191. 122. 230.\n",
      " 242. 248. 249. 192. 131. 237.  78. 135. 244. 199. 270. 164.  72.  96.\n",
      " 306.  91. 214.  95. 216. 263. 178. 113. 200. 139. 139.  88. 148.  88.\n",
      " 243.  71.  77. 109. 272.  60.  54. 221.  90. 311. 281. 182. 321.  58.\n",
      " 262. 206. 233. 242. 123. 167.  63. 197.  71. 168. 140. 217. 121. 235.\n",
      " 245.  40.  52. 104. 132.  88.  69. 219.  72. 201. 110.  51. 277.  63.\n",
      " 118.  69. 273. 258.  43. 198. 242. 232. 175.  93. 168. 275. 293. 281.\n",
      "  72. 140. 189. 181. 209. 136. 261. 113. 131. 174. 257.  55.  84.  42.\n",
      " 146. 212. 233.  91. 111. 152. 120.  67. 310.  94. 183.  66. 173.  72.\n",
      "  49.  64.  48. 178. 104. 132. 220.  57.]\n"
     ]
    }
   ],
   "source": [
    "X = np.array(df_X)\n",
    "y = np.array(df_y)\n",
    "\n",
    "print(X)\n",
    "print(y)"
   ]
  },
  {
   "cell_type": "code",
   "execution_count": 12,
   "id": "f374977d",
   "metadata": {},
   "outputs": [],
   "source": [
    "# train 데이터와 test 데이터로 분리\n",
    "\n",
    "from sklearn.model_selection import train_test_split\n",
    "\n",
    "X_train, X_test, y_train, y_test = train_test_split(X, y, test_size=0.2, random_state=42)"
   ]
  },
  {
   "cell_type": "code",
   "execution_count": 13,
   "id": "6fc078d5",
   "metadata": {},
   "outputs": [],
   "source": [
    "# w 값과 b 값 준비 (feature 10개)\n",
    "W = np.random.rand(10)\n",
    "b = np.random.rand()"
   ]
  },
  {
   "cell_type": "code",
   "execution_count": 14,
   "id": "2ca6fe6e",
   "metadata": {},
   "outputs": [
    {
     "data": {
      "text/plain": [
       "array([0.61454733, 0.39633425, 0.3208679 , 0.48088137, 0.72316465,\n",
       "       0.56111769, 0.87073282, 0.1669768 , 0.94084334, 0.12680782])"
      ]
     },
     "execution_count": 14,
     "metadata": {},
     "output_type": "execute_result"
    }
   ],
   "source": [
    "W"
   ]
  },
  {
   "cell_type": "code",
   "execution_count": 15,
   "id": "1be915fa",
   "metadata": {},
   "outputs": [
    {
     "data": {
      "text/plain": [
       "0.8284374752542393"
      ]
     },
     "execution_count": 15,
     "metadata": {},
     "output_type": "execute_result"
    }
   ],
   "source": [
    "b"
   ]
  },
  {
   "cell_type": "code",
   "execution_count": 16,
   "id": "6dc2d73b",
   "metadata": {},
   "outputs": [],
   "source": [
    "# model 함수 구현\n",
    "\n",
    "def model(X, W, b):\n",
    "    predictions = 0\n",
    "    for i in range(11): ### 10으로 했어야 됬는데 11으로 했는데 왜에러가 나지 않았을까?\n",
    "        predictions += X[:,i]*W[i] #X[:,i] X의 모든 행에 대헤서 i번째 열의 정보를 가져다달라\n",
    "        predictions += b\n",
    "        return predictions"
   ]
  },
  {
   "cell_type": "code",
   "execution_count": 17,
   "id": "f46482d2",
   "metadata": {},
   "outputs": [],
   "source": [
    "#손실함수 MSE 사용\n",
    "def MSE(a,b):\n",
    "    mse =((a-b)**2).mean() \n",
    "    # .mean 뒤에 괄호를 해줘야한대 인스턴스 객체로 number 나오게\n",
    "    # .mean() 이렇게 아니면 mean 함수로됨\n",
    "    return mse"
   ]
  },
  {
   "cell_type": "code",
   "execution_count": 18,
   "id": "9a7cedcd",
   "metadata": {},
   "outputs": [],
   "source": [
    "# 손실함수 정의\n",
    "def loss(X,W,b,y):\n",
    "    predictions = model(X,W,b)\n",
    "    L = MSE(predictions, y)\n",
    "    return L"
   ]
  },
  {
   "cell_type": "code",
   "execution_count": 19,
   "id": "b8a9deff",
   "metadata": {},
   "outputs": [],
   "source": [
    "# gradient 함수 구현\n",
    "#직접 미분을 해서 경사하강법을 이용한 최소의 손실함수 값을 확인 위해\n",
    "\n",
    "def gradient(X, W, b, y):\n",
    "    # N은 가중치의 개수\n",
    "    N = len(W)\n",
    "    \n",
    "    # y_pred 준비\n",
    "    y_pred = model(X, W, b)\n",
    "    \n",
    "    # 공식에 맞게 gradient 계산 (손실함수를 w에 대하여 미분)\n",
    "    dW = 1/N * 2 * X.T.dot(y_pred - y) # .T transpose, .dot 행렬곱\n",
    "        \n",
    "    # b의 gradient 계산 (손실함수를 b에 대하여 미분)\n",
    "    db = 2 * (y_pred - y).mean() \n",
    "    return dW, db"
   ]
  },
  {
   "cell_type": "code",
   "execution_count": 20,
   "id": "08029851",
   "metadata": {},
   "outputs": [
    {
     "name": "stdout",
     "output_type": "stream",
     "text": [
      "dW: [ -60.71370544  -13.9217172  -189.86430342 -142.90710162  -68.61892644\n",
      "  -56.32997161  127.81981541 -139.35155204 -183.19446353 -123.80747854]\n",
      "db: -302.6100933752834\n"
     ]
    }
   ],
   "source": [
    "# 한번 경사 계산해봄\n",
    "\n",
    "dW, db = gradient(X, W, b, y) # W와 b는 앞에서 랜덤으로 주어줌\n",
    "print(\"dW:\", dW)\n",
    "print(\"db:\", db)"
   ]
  },
  {
   "cell_type": "code",
   "execution_count": 21,
   "id": "075980c0",
   "metadata": {},
   "outputs": [],
   "source": [
    "# 반복하여 가중치 업데이트를 하며 학습\n",
    "#학습률 0,0001 설정 (하이퍼 파라미터)\n",
    "\n",
    "LEARNING_RATE = 0.001"
   ]
  },
  {
   "cell_type": "code",
   "execution_count": 22,
   "id": "6e86c00a",
   "metadata": {},
   "outputs": [
    {
     "name": "stdout",
     "output_type": "stream",
     "text": [
      "Iteration 100 : Loss 21730.7592\n",
      "Iteration 200 : Loss 16552.5317\n",
      "Iteration 300 : Loss 13081.0370\n",
      "Iteration 400 : Loss 10753.1623\n",
      "Iteration 500 : Loss 9191.6034\n",
      "Iteration 600 : Loss 8143.5531\n",
      "Iteration 700 : Loss 7439.6216\n",
      "Iteration 800 : Loss 6966.3108\n",
      "Iteration 900 : Loss 6647.5723\n",
      "Iteration 1000 : Loss 6432.4496\n"
     ]
    }
   ],
   "source": [
    "#학습 1000번\n",
    "losses = []\n",
    "\n",
    "for i in range(1, 1001):\n",
    "    dW, db = gradient(X_train, W, b, y_train)\n",
    "    W -= LEARNING_RATE * dW\n",
    "    b -= LEARNING_RATE * db\n",
    "    L = loss(X_train, W, b, y_train)\n",
    "    losses.append(L)\n",
    "    if i % 100 == 0:\n",
    "        print('Iteration %d : Loss %0.4f' % (i, L))"
   ]
  },
  {
   "cell_type": "code",
   "execution_count": 23,
   "id": "e0b1a9aa",
   "metadata": {},
   "outputs": [
    {
     "name": "stdout",
     "output_type": "stream",
     "text": [
      "Iteration 100 : Loss 5970.5192\n",
      "Iteration 200 : Loss 5931.4978\n",
      "Iteration 300 : Loss 5907.9773\n",
      "Iteration 400 : Loss 5890.6896\n",
      "Iteration 500 : Loss 5877.9159\n",
      "Iteration 600 : Loss 5868.4763\n",
      "Iteration 700 : Loss 5861.5007\n",
      "Iteration 800 : Loss 5856.3458\n",
      "Iteration 900 : Loss 5852.5365\n",
      "Iteration 1000 : Loss 5849.7214\n",
      "Iteration 1100 : Loss 5847.6411\n",
      "Iteration 1200 : Loss 5846.1038\n",
      "Iteration 1300 : Loss 5844.9678\n",
      "Iteration 1400 : Loss 5844.1283\n",
      "Iteration 1500 : Loss 5843.5079\n",
      "Iteration 1600 : Loss 5843.0495\n",
      "Iteration 1700 : Loss 5842.7107\n",
      "Iteration 1800 : Loss 5842.4603\n",
      "Iteration 1900 : Loss 5842.2753\n",
      "Iteration 2000 : Loss 5842.1386\n"
     ]
    }
   ],
   "source": [
    "#loss값 아직도 너무큼 \n",
    "#학습률 10배 상향 조정, 0.01\n",
    "#X특성 컬럼을 빼면 학습속도가 빨라질수 있고, \n",
    "#loss 값이 훨씬 더 낮아질수 있음\n",
    "#칼럼을 하나씩 제거해보면서 feature와 target상관 관계 확인 할 수는 있음\n",
    "#상관 관계가 없어보이는 칼럼을 제거하여\n",
    "#정확도와 학습 효율을 높일수 있으나\n",
    "#각 특성들이 중요한 임상특성이므로 빼지않고 진행\n",
    "#iteration 수 늘림\n",
    "# 기존 losses data에 이어서 학습진행\n",
    "\n",
    "LEARNING_RATE = 0.01\n",
    "\n",
    "for i in range(1, 2001):\n",
    "    dW, db = gradient(X_train, W, b, y_train)\n",
    "    W -= LEARNING_RATE * dW\n",
    "    b -= LEARNING_RATE * db\n",
    "    L = loss(X_train, W, b, y_train)\n",
    "    losses.append(L)\n",
    "    if i % 100 == 0:\n",
    "        print('Iteration %d : Loss %0.4f' % (i, L))"
   ]
  },
  {
   "cell_type": "code",
   "execution_count": 24,
   "id": "576e15ef",
   "metadata": {},
   "outputs": [
    {
     "name": "stdout",
     "output_type": "stream",
     "text": [
      "Iteration 100 : Loss 5841.7699\n",
      "Iteration 200 : Loss 5841.7524\n",
      "Iteration 300 : Loss 5841.7515\n",
      "Iteration 400 : Loss 5841.7515\n",
      "Iteration 500 : Loss 5841.7515\n",
      "Iteration 600 : Loss 5841.7515\n",
      "Iteration 700 : Loss 5841.7515\n",
      "Iteration 800 : Loss 5841.7515\n",
      "Iteration 900 : Loss 5841.7515\n",
      "Iteration 1000 : Loss 5841.7515\n",
      "Iteration 1100 : Loss 5841.7515\n",
      "Iteration 1200 : Loss 5841.7515\n",
      "Iteration 1300 : Loss 5841.7515\n",
      "Iteration 1400 : Loss 5841.7515\n",
      "Iteration 1500 : Loss 5841.7515\n",
      "Iteration 1600 : Loss 5841.7515\n",
      "Iteration 1700 : Loss 5841.7515\n",
      "Iteration 1800 : Loss 5841.7515\n",
      "Iteration 1900 : Loss 5841.7515\n",
      "Iteration 2000 : Loss 5841.7515\n"
     ]
    }
   ],
   "source": [
    "# 재시행\n",
    "# learning_rate 0.1, iter +2000\n",
    "\n",
    "LEARNING_RATE = 0.1\n",
    "\n",
    "for i in range(1, 2001):\n",
    "    dW, db = gradient(X_train, W, b, y_train)\n",
    "    W -= LEARNING_RATE * dW\n",
    "    b -= LEARNING_RATE * db\n",
    "    L = loss(X_train, W, b, y_train)\n",
    "    losses.append(L)\n",
    "    if i % 100 == 0:\n",
    "        print('Iteration %d : Loss %0.4f' % (i, L))"
   ]
  },
  {
   "cell_type": "code",
   "execution_count": 25,
   "id": "bf476e1a",
   "metadata": {},
   "outputs": [],
   "source": [
    "# Loss 5841.7515로 수렴"
   ]
  },
  {
   "cell_type": "code",
   "execution_count": 26,
   "id": "14ed5a12",
   "metadata": {},
   "outputs": [
    {
     "data": {
      "text/plain": [
       "5254.231976236004"
      ]
     },
     "execution_count": 26,
     "metadata": {},
     "output_type": "execute_result"
    }
   ],
   "source": [
    "# test data에 대한 성능 확인\n",
    "# X_test 와 y_test 데이터에 대해서 예측\n",
    "\n",
    "prediction = model(X_test, W, b)\n",
    "mse = loss(X_test, W, b, y_test)\n",
    "mse"
   ]
  },
  {
   "cell_type": "code",
   "execution_count": 27,
   "id": "2004c2cd",
   "metadata": {},
   "outputs": [
    {
     "data": {
      "image/png": "[encoded data removed]",
      "text/plain": [
       "<Figure size 432x288 with 1 Axes>"
      ]
     },
     "metadata": {
      "needs_background": "light"
     },
     "output_type": "display_data"
    }
   ],
   "source": [
    "#모델이 예측한 데이터 시각화\n",
    "# 모델이 얼마나 잘예측하는지 정답과 비교 prediction y_test\n",
    "# 첫번열째 데이터인 age에대해 tips X_test[:,0]\n",
    "plt.scatter(X_test[:,0], y_test)\n",
    "plt.scatter(X_test[:,0], prediction)\n",
    "plt.xlabel('age')\n",
    "plt.ylabel('target') \n",
    "#target(a quantitative measure of disease progression one year after baseline)\n",
    "plt.show()\n",
    "\n",
    "#age와 target 간에는 상관관계가 거의 없고 불규칙해 보인다 \n"
   ]
  },
  {
   "cell_type": "code",
   "execution_count": 28,
   "id": "fe34c053",
   "metadata": {},
   "outputs": [
    {
     "data": {
      "image/png": "[encoded data removed]",
      "text/plain": [
       "<Figure size 432x288 with 1 Axes>"
      ]
     },
     "metadata": {
      "needs_background": "light"
     },
     "output_type": "display_data"
    }
   ],
   "source": [
    "#임상적으로 가장 경향성이 높을 것으로 예상되는\n",
    "#s6 (glu, blood sugar level) 와 plot 해봄\n",
    "plt.scatter(X_test[:,9], y_test)\n",
    "plt.scatter(X_test[:,9], prediction)\n",
    "plt.xlabel('s6')\n",
    "plt.ylabel('target') \n",
    "plt.show()"
   ]
  },
  {
   "cell_type": "code",
   "execution_count": 29,
   "id": "c1fe2864",
   "metadata": {},
   "outputs": [],
   "source": [
    "# 결론\n",
    "# 모집단 442명의 diabetes환자의 \n",
    "# baseline 대비 1 year progression 결과,\n",
    "# 초기 blood sugar level에 비하여 잘 조절 될 것으로 모델은 예상하였으나\n",
    "# 실제 progression 은 불규칙한 경우가 많아 예측이 어려웠다.\n",
    "# age에 관련해서도 모델은 약한 우상향으로 수치가 높아질것으로 예상하였다.\n",
    "# 하지만 실제 age 에 관련한 target 값에서도 불규칙해보이는 결과값을 보였다.\n",
    "# 그렇다면, 전체 플랏에 대한 예측값의 상관관계를 살펴보자"
   ]
  },
  {
   "cell_type": "code",
   "execution_count": 31,
   "id": "4b8262bd",
   "metadata": {},
   "outputs": [
    {
     "data": {
      "image/png": "[encoded data removed]",
      "text/plain": [
       "<Figure size 720x504 with 10 Axes>"
      ]
     },
     "metadata": {
      "needs_background": "light"
     },
     "output_type": "display_data"
    }
   ],
   "source": [
    "\n",
    "# 보기 편하게 그래프 title에 feature_name만 표기(x축의 요소)\n",
    "# y 값은 target \n",
    "\n",
    "plt.figure(figsize=(10, 7))  #사이즈 확대 그래프간 간격 조절하려면 어떻게 해야할까? 위아래겹침\n",
    "for i in range(10):\n",
    "    plt.subplot(5,2,i+1)\n",
    "    plt.title(diabetes.feature_names[i])\n",
    "    plt.scatter(X_test[:,i], y_test)\n",
    "    plt.scatter(X_test[:,i], prediction)\n",
    "    \n",
    "plt.show()\n",
    "\n",
    "# data 자체가 feature에 큰 상관관계를 보이는 것 같지 않다\n",
    "# bmi, bp,s5,s6 에 대해서는 약한 양의 상관관계를 보이고\n",
    "# s3에 대해서는 약한 음의 상관관계를 보이는것 같다.\n",
    "# age와 sex는 전혀 상관이 없어 보인다.\n",
    "# (이미 모델 학습을 진행하면서 위 두 feature에 가중치를\n",
    "# 0에 가깝게 줬을것 으로 생각되지만)\n",
    "# plot만 보았을때 2차원 시각적으로는 age와 sex는 전혀 상관이 없어 보이지만,\n",
    "# age와 sex가 다른 feature 와 interaction 하여 target 값에 영향을 줄 수 있다.\n",
    "# (현재 dataset 뿐아니라 추후 feature를 업데이트 하였을때도 가능성이 있다.)"
   ]
  }
 ],
 "metadata": {
  "kernelspec": {
   "display_name": "Python 3 (ipykernel)",
   "language": "python",
   "name": "python3"
  },
  "language_info": {
   "codemirror_mode": {
    "name": "ipython",
    "version": 3
   },
   "file_extension": ".py",
   "mimetype": "text/x-python",
   "name": "python",
   "nbconvert_exporter": "python",
   "pygments_lexer": "ipython3",
   "version": "3.9.7"
  }
 },
 "nbformat": 4,
 "nbformat_minor": 5
}
